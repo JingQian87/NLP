{
  "nbformat": 4,
  "nbformat_minor": 0,
  "metadata": {
    "colab": {
      "name": "HW2-testCode.ipynb",
      "provenance": [],
      "collapsed_sections": []
    },
    "kernelspec": {
      "name": "python3",
      "display_name": "Python 3"
    },
    "accelerator": "GPU"
  },
  "cells": [
    {
      "cell_type": "markdown",
      "metadata": {
        "id": "ZNMu0GFDmYzq",
        "colab_type": "text"
      },
      "source": [
        "! python test.py"
      ]
    },
    {
      "cell_type": "code",
      "metadata": {
        "id": "yWA-wHAQmRwY",
        "colab_type": "code",
        "outputId": "88f19dfd-d74d-4e95-a416-a55e47158230",
        "colab": {
          "base_uri": "https://localhost:8080/",
          "height": 139
        }
      },
      "source": [
        "! pip3 install torch torchvision"
      ],
      "execution_count": 1,
      "outputs": [
        {
          "output_type": "stream",
          "text": [
            "Requirement already satisfied: torch in /usr/local/lib/python3.6/dist-packages (1.2.0)\n",
            "Requirement already satisfied: torchvision in /usr/local/lib/python3.6/dist-packages (0.4.0)\n",
            "Requirement already satisfied: numpy in /usr/local/lib/python3.6/dist-packages (from torch) (1.16.5)\n",
            "Requirement already satisfied: six in /usr/local/lib/python3.6/dist-packages (from torchvision) (1.12.0)\n",
            "Requirement already satisfied: pillow>=4.1.1 in /usr/local/lib/python3.6/dist-packages (from torchvision) (4.3.0)\n",
            "Requirement already satisfied: olefile in /usr/local/lib/python3.6/dist-packages (from pillow>=4.1.1->torchvision) (0.46)\n"
          ],
          "name": "stdout"
        }
      ]
    },
    {
      "cell_type": "code",
      "metadata": {
        "id": "MKGpofshAHI9",
        "colab_type": "code",
        "colab": {}
      },
      "source": [
        "import models\n",
        "import utils\n",
        "import hw2"
      ],
      "execution_count": 0,
      "outputs": []
    },
    {
      "cell_type": "code",
      "metadata": {
        "id": "xnuOpLDZBwmv",
        "colab_type": "code",
        "colab": {}
      },
      "source": [
        "import nltk\n",
        "import numpy as np\n",
        "import pandas as pd\n",
        "import pickle\n",
        "from sklearn.metrics import f1_score\n",
        "from sklearn.preprocessing import LabelEncoder\n",
        "import torch\n",
        "import torch.nn as nn\n",
        "import torch.optim as optim\n",
        "from torch.utils.data import Dataset, DataLoader\n",
        "LABEL_NAMES = [\"happiness\", \"worry\", \"neutral\", \"sadness\"]\n",
        "\n",
        "# Global definitions - architecture\n",
        "EMBEDDING_DIM = 100  # We will use pretrained 100-dimensional GloVe\n",
        "BATCH_SIZE = 128\n",
        "NUM_CLASSES = 4\n",
        "USE_CUDA = torch.cuda.is_available()  "
      ],
      "execution_count": 0,
      "outputs": []
    },
    {
      "cell_type": "code",
      "metadata": {
        "id": "vvxCBtnsCmko",
        "colab_type": "code",
        "colab": {}
      },
      "source": [
        "with open('temporary_data.pkl', \"rb\") as f:\n",
        "  train_generator, dev_generator, test_generator, embeddings, train_data = pickle.load(f)"
      ],
      "execution_count": 0,
      "outputs": []
    },
    {
      "cell_type": "code",
      "metadata": {
        "id": "n5l50_ITCsBP",
        "colab_type": "code",
        "colab": {
          "base_uri": "https://localhost:8080/",
          "height": 241
        },
        "outputId": "2a89f3dc-7da8-4ed3-ba78-a968f409a34c"
      },
      "source": [
        "loss_fn = nn.CrossEntropyLoss()\n",
        "\n",
        "########## YOUR CODE HERE ##########\n",
        "HIDDEN_DIM = 64\n",
        "########## Base DNN ################\n",
        "DNN_PATH = 'dense.pth'\n",
        "# torch.save(trained_dnn, DNN_PATH)\n",
        "# # TODO: 3) run test_model() on the result\n",
        "print(\"Test on the saved Dense Network\")\n",
        "dnn_test = torch.load(DNN_PATH)\n",
        "hw2.test_model(dnn_test, loss_fn, test_generator)\n",
        "\"\"\"\n",
        "Output:\n",
        "Test loss: tensor([25.7230])\n",
        "F-score: 0.4399188910197242\n",
        "\"\"\"\n",
        "\n",
        "########## Base RNN ################\n",
        "# # TODO: for each of the two models, you should 1) create it,\n",
        "# print(\"train and test on RNN!\")\n",
        "SENTENCE_LEN = 91\n",
        "RNN_PATH = 'recurrent.pth'\n",
        "# torch.save(trained_rnn, RNN_PATH)\n",
        "# # TODO: 3) run test_model() on the result\n",
        "print(\"Test on the saved Recurrent Network\")\n",
        "rnn_test = torch.load(RNN_PATH)\n",
        "hw2.test_model(rnn_test, loss_fn, test_generator)"
      ],
      "execution_count": 28,
      "outputs": [
        {
          "output_type": "stream",
          "text": [
            "Test on the saved Dense Network\n"
          ],
          "name": "stdout"
        },
        {
          "output_type": "stream",
          "text": [
            "/usr/local/lib/python3.6/dist-packages/torch/serialization.py:453: SourceChangeWarning: source code of class 'models.DenseNetwork' has changed. you can retrieve the original source code by accessing the object's source attribute or set `torch.nn.Module.dump_patches = True` and use the patch tool to revert the changes.\n",
            "  warnings.warn(msg, SourceChangeWarning)\n"
          ],
          "name": "stderr"
        },
        {
          "output_type": "stream",
          "text": [
            "Test loss: \n",
            "tensor([25.7230], device='cuda:0')\n",
            "F-score: \n",
            "0.4399188910197242\n",
            "Test on the saved Recurrent Network\n",
            "Test loss: \n",
            "tensor([25.7136], device='cuda:0')\n",
            "F-score: \n",
            "0.42172967869116373\n"
          ],
          "name": "stdout"
        }
      ]
    },
    {
      "cell_type": "code",
      "metadata": {
        "id": "4VflWMR3DBxe",
        "colab_type": "code",
        "colab": {}
      },
      "source": [
        ""
      ],
      "execution_count": 0,
      "outputs": []
    }
  ]
}