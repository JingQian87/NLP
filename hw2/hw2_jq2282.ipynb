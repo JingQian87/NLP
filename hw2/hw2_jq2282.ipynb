{
 "cells": [
  {
   "cell_type": "code",
   "execution_count": 1,
   "metadata": {},
   "outputs": [],
   "source": [
    "#%run hw2.py"
   ]
  },
  {
   "cell_type": "code",
   "execution_count": 1,
   "metadata": {},
   "outputs": [],
   "source": [
    "import nltk\n",
    "import numpy as np\n",
    "import pandas as pd\n",
    "import pickle\n",
    "from sklearn.metrics import f1_score\n",
    "from sklearn.preprocessing import LabelEncoder\n",
    "import torch\n",
    "import torch.nn as nn\n",
    "import torch.optim as optim\n",
    "from torch.utils.data import Dataset, DataLoader\n",
    "\n",
    "# Imports - our files\n",
    "import utils\n",
    "import models\n",
    "\n",
    "# Global definitions - data\n",
    "DATA_FN = 'data/crowdflower_data.csv'\n",
    "LABEL_NAMES = [\"happiness\", \"worry\", \"neutral\", \"sadness\"]\n",
    "\n",
    "# Global definitions - architecture\n",
    "EMBEDDING_DIM = 100  # We will use pretrained 100-dimensional GloVe\n",
    "BATCH_SIZE = 128\n",
    "NUM_CLASSES = 4\n",
    "USE_CUDA = torch.cuda.is_available()  # CUDA will be available if you are using the GPU image for this homework\n",
    "\n",
    "# Global definitions - saving and loading data\n",
    "FRESH_START = True  # set this to false after running once with True to just load your preprocessed data from file\n",
    "#                     (good for debugging)\n",
    "TEMP_FILE = \"temporary_data.pkl\"  # if you set FRESH_START to false, the program will look here for your data, etc."
   ]
  },
  {
   "cell_type": "code",
   "execution_count": 2,
   "metadata": {},
   "outputs": [
    {
     "name": "stdout",
     "output_type": "stream",
     "text": [
      "Loading DataLoaders and embeddings from file....\n"
     ]
    }
   ],
   "source": [
    "# load the data and embeddings from file\n",
    "try:\n",
    "    with open(TEMP_FILE, \"rb\") as f:\n",
    "        print(\"Loading DataLoaders and embeddings from file....\")\n",
    "        train_generator, dev_generator, test_generator, embeddings, train_data = pickle.load(f)\n",
    "except FileNotFoundError:\n",
    "    raise FileNotFoundError(\"You need to have saved your data with FRESH_START=True once in order to load it!\")"
   ]
  },
  {
   "cell_type": "code",
   "execution_count": 19,
   "metadata": {},
   "outputs": [
    {
     "name": "stdout",
     "output_type": "stream",
     "text": [
      "torch.Size([128, 91, 100])\n",
      "torch.Size([128, 100])\n"
     ]
    }
   ],
   "source": [
    "# test embeddings\n",
    "# ebs = nn.Embedding.from_pretrained(embeddings)\n",
    "# train1 = ebs(train_batch)\n",
    "# print(np.shape(train1))\n",
    "# train11 = torch.sum(train1,dim=1)\n",
    "# print(np.shape(train11))"
   ]
  },
  {
   "cell_type": "code",
   "execution_count": 46,
   "metadata": {},
   "outputs": [
    {
     "name": "stdout",
     "output_type": "stream",
     "text": [
      "DenseNetwork(\n",
      "  (embedding): Embedding(17635, 100)\n",
      "  (dense1): Linear(in_features=100, out_features=64, bias=True)\n",
      "  (dense2): Linear(in_features=64, out_features=4, bias=True)\n",
      "  (relu): ReLU()\n",
      ")\n"
     ]
    }
   ],
   "source": [
    "class DenseNetwork(nn.Module):\n",
    "    def __init__(self, embed_dim, output_dim, hidden_dim, weight):\n",
    "        super(DenseNetwork, self).__init__()\n",
    "\n",
    "        ########## YOUR CODE HERE ##########\n",
    "        # TODO: Here, create any layers and attributes your network needs.\n",
    "        self.embedding = nn.Embedding.from_pretrained(weight)\n",
    "        self.dense1 = nn.Linear(embed_dim, hidden_dim) \n",
    "        self.dense2 = nn.Linear(hidden_dim, output_dim)\n",
    "        self.relu = nn.ReLU()     \n",
    "\n",
    "    def forward(self, x):\n",
    "        ########## YOUR CODE HERE ##########\n",
    "        # TODO: Fill in the forward pass of your neural network.\n",
    "        # TODO: (The backward pass will be performed by PyTorch magic for you!)\n",
    "        # TODO: Your architecture should...\n",
    "        # TODO: 1) Put the words through an Embedding layer (which was initialized with the pretrained embeddings);\n",
    "        # TODO: 2) Take the sum of all word embeddings in a sentence; and\n",
    "        # TODO: 3) Feed the result into 2-layer feedforward network which produces a 4-vector of values,\n",
    "        # TODO: one for each class\n",
    "        x = self.embedding(x)\n",
    "        x = torch.sum(x,dim=1).float()\n",
    "        x = self.dense1(x)\n",
    "        x = self.relu(x)\n",
    "        x = self.dense2(x)\n",
    "        return self.relu(x)\n",
    "        \n",
    "net = DenseNetwork(EMBEDDING_DIM, NUM_CLASSES, 64, embeddings)\n",
    "print(net)"
   ]
  },
  {
   "cell_type": "code",
   "execution_count": 37,
   "metadata": {},
   "outputs": [
    {
     "name": "stdout",
     "output_type": "stream",
     "text": [
      "torch.Size([128, 100])\n"
     ]
    },
    {
     "data": {
      "text/plain": [
       "torch.Size([128, 4])"
      ]
     },
     "execution_count": 37,
     "metadata": {},
     "output_type": "execute_result"
    }
   ],
   "source": [
    "np.shape(net(train_batch))"
   ]
  },
  {
   "cell_type": "code",
   "execution_count": 51,
   "metadata": {},
   "outputs": [
    {
     "name": "stdout",
     "output_type": "stream",
     "text": [
      "0 tensor(29.6667, grad_fn=<AddBackward0>)\n",
      "1 tensor(29.2319, grad_fn=<AddBackward0>)\n",
      "2 tensor(29.0510, grad_fn=<AddBackward0>)\n",
      "3 tensor(28.9368, grad_fn=<AddBackward0>)\n",
      "4 tensor(28.9302, grad_fn=<AddBackward0>)\n",
      "5 tensor(28.1167, grad_fn=<AddBackward0>)\n",
      "6 tensor(27.2309, grad_fn=<AddBackward0>)\n",
      "7 tensor(26.8562, grad_fn=<AddBackward0>)\n",
      "8 tensor(26.7246, grad_fn=<AddBackward0>)\n",
      "9 tensor(26.7146, grad_fn=<AddBackward0>)\n",
      "10 tensor(26.6744, grad_fn=<AddBackward0>)\n",
      "11 tensor(26.7139, grad_fn=<AddBackward0>)\n",
      "12 tensor(26.6655, grad_fn=<AddBackward0>)\n",
      "13 tensor(26.7404, grad_fn=<AddBackward0>)\n",
      "14 tensor(26.7706, grad_fn=<AddBackward0>)\n",
      "15 tensor(26.7183, grad_fn=<AddBackward0>)\n",
      "16 tensor(26.8233, grad_fn=<AddBackward0>)\n",
      "17 tensor(26.7668, grad_fn=<AddBackward0>)\n",
      "18 tensor(26.7847, grad_fn=<AddBackward0>)\n",
      "19 tensor(26.7913, grad_fn=<AddBackward0>)\n"
     ]
    }
   ],
   "source": [
    "HIDDEN_DIM = 64\n",
    "model = DenseNetwork(EMBEDDING_DIM, NUM_CLASSES, HIDDEN_DIM, embeddings)\n",
    "criterion = nn.CrossEntropyLoss()\n",
    "optimizer = optim.Adam(model.parameters())\n",
    "  \n",
    "EPOCHS = 20\n",
    "for iepoch in range(EPOCHS): \n",
    "    for train_batch, train_label in train_generator:\n",
    "        # Compute and print loss\n",
    "        loss = criterion(model(train_batch),train_label)\n",
    "        #print(loss.item()) \n",
    "\n",
    "        # Zero the gradients\n",
    "        model.zero_grad()\n",
    "\n",
    "        # perform a backward pass (backpropagation)\n",
    "        loss.backward()\n",
    "\n",
    "        # Update the parameters\n",
    "        optimizer.step()\n",
    "\n",
    "    total_loss = 0\n",
    "    for ibatch, ilabel in dev_generator:\n",
    "        dev_loss = criterion(model(ibatch), ilabel)\n",
    "        total_loss += dev_loss\n",
    "    print(iepoch, total_loss)\n",
    "    "
   ]
  },
  {
   "cell_type": "code",
   "execution_count": null,
   "metadata": {},
   "outputs": [],
   "source": []
  },
  {
   "cell_type": "code",
   "execution_count": null,
   "metadata": {},
   "outputs": [],
   "source": []
  },
  {
   "cell_type": "code",
   "execution_count": 17,
   "metadata": {},
   "outputs": [
    {
     "data": {
      "text/plain": [
       "torch.Size([17635, 100])"
      ]
     },
     "execution_count": 17,
     "metadata": {},
     "output_type": "execute_result"
    }
   ],
   "source": [
    "np.shape(embeddings)"
   ]
  },
  {
   "cell_type": "code",
   "execution_count": 15,
   "metadata": {},
   "outputs": [
    {
     "data": {
      "text/plain": [
       "<torch.utils.data.dataloader.DataLoader at 0x106df65f8>"
      ]
     },
     "execution_count": 15,
     "metadata": {},
     "output_type": "execute_result"
    }
   ],
   "source": [
    "train_generator"
   ]
  },
  {
   "cell_type": "code",
   "execution_count": null,
   "metadata": {},
   "outputs": [],
   "source": [
    "def train_model(model, loss_fn, optimizer, train_generator, dev_generator):\n",
    "    \"\"\"\n",
    "    Perform the actual training of the model based on the train and dev sets.\n",
    "    :param model: one of your models, to be trained to perform 4-way emotion classification\n",
    "    :param loss_fn: a function that can calculate loss between the predicted and gold labels\n",
    "    :param optimizer: a created optimizer you will use to update your model weights\n",
    "    :param train_generator: a DataLoader that provides batches of the training set\n",
    "    :param dev_generator: a DataLoader that provides batches of the development set\n",
    "    :return model, the trained model\n",
    "    \"\"\"\n",
    "    \n",
    "    \n",
    "    for epoch in range(50):\n",
    "        # Forward Propagation\n",
    "        y_pred = model(x)\n",
    "        # Compute and print loss\n",
    "        loss = criterion(y_pred, y)\n",
    "        print('epoch: ', epoch,' loss: ', loss.item())\n",
    "        # Zero the gradients\n",
    "        optimizer.zero_grad()\n",
    "\n",
    "        # perform a backward pass (backpropagation)\n",
    "        loss.backward()\n",
    "\n",
    "        # Update the parameters\n",
    "        optimizer.step()"
   ]
  },
  {
   "cell_type": "code",
   "execution_count": null,
   "metadata": {},
   "outputs": [],
   "source": []
  },
  {
   "cell_type": "code",
   "execution_count": null,
   "metadata": {},
   "outputs": [],
   "source": []
  },
  {
   "cell_type": "code",
   "execution_count": null,
   "metadata": {},
   "outputs": [],
   "source": []
  },
  {
   "cell_type": "code",
   "execution_count": null,
   "metadata": {},
   "outputs": [],
   "source": [
    "# rnn\n",
    "import torch.nn.utils.rnn as rnnutils\n",
    "\n",
    "#pad so they are in the same length\n",
    "rnnutils.pad_sequence([torch.tensor(d) for d in data], batch_first=True)"
   ]
  }
 ],
 "metadata": {
  "kernelspec": {
   "display_name": "Python 3",
   "language": "python",
   "name": "python3"
  },
  "language_info": {
   "codemirror_mode": {
    "name": "ipython",
    "version": 3
   },
   "file_extension": ".py",
   "mimetype": "text/x-python",
   "name": "python",
   "nbconvert_exporter": "python",
   "pygments_lexer": "ipython3",
   "version": "3.6.9"
  }
 },
 "nbformat": 4,
 "nbformat_minor": 2
}
