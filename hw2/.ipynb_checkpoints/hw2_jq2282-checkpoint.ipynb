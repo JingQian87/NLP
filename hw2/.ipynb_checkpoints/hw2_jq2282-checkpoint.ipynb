{
 "cells": [
  {
   "cell_type": "code",
   "execution_count": 3,
   "metadata": {},
   "outputs": [
    {
     "name": "stdout",
     "output_type": "stream",
     "text": [
      "Preprocessing all data from scratch....\n",
      "Random samples from train set\n",
      "       sentiment                                            content\n",
      "4129     neutral  @Jaxboxchick77 @lesleyadams @PMSharlequin You ...\n",
      "22366    neutral  Don't hide your smiles  - http://robo.to/OneFl...\n",
      "18845  happiness     @wroe16 ohhhh excellent song..hello my friend!\n",
      "26747  happiness  happy mothers day to all the yummy mummies on ...\n",
      "17932    neutral  About to have lunch with @Mark_Deakin meeting ...\n",
      "15795  happiness   finally leaving this place! woohoo! school time!\n",
      "24732      worry              @anyidiot I think we could be related\n",
      "6700     sadness  @theNetImp yeah... it's gonna be a long while ...\n",
      "8683       worry  Anybody have advice on who to use for printing...\n",
      "21650    neutral                                       is lets chat\n",
      "\n",
      "\n",
      "\n",
      "Labels are encoded in the following class order:\n",
      "['happiness' 'neutral' 'sadness' 'worry']\n",
      "\n",
      "\n",
      "\n",
      "Train: 21976 \n",
      "Dev: 2747 \n",
      "Test: 2748\n",
      "\n",
      "\n",
      "\n",
      "Saving DataLoaders and embeddings so you don't need to create them again; you can set FRESH_START to False to load them from file....\n"
     ]
    },
    {
     "ename": "NotImplementedError",
     "evalue": "",
     "output_type": "error",
     "traceback": [
      "\u001b[0;31m---------------------------------------------------------------------------\u001b[0m",
      "\u001b[0;31mNotImplementedError\u001b[0m                       Traceback (most recent call last)",
      "\u001b[0;32m~/Desktop/NLP/hw2/hw2.py\u001b[0m in \u001b[0;36m<module>\u001b[0;34m\u001b[0m\n\u001b[1;32m    134\u001b[0m \u001b[0;34m\u001b[0m\u001b[0m\n\u001b[1;32m    135\u001b[0m \u001b[0;32mif\u001b[0m \u001b[0m__name__\u001b[0m \u001b[0;34m==\u001b[0m \u001b[0;34m'__main__'\u001b[0m\u001b[0;34m:\u001b[0m\u001b[0;34m\u001b[0m\u001b[0;34m\u001b[0m\u001b[0m\n\u001b[0;32m--> 136\u001b[0;31m     \u001b[0mmain\u001b[0m\u001b[0;34m(\u001b[0m\u001b[0;34m)\u001b[0m\u001b[0;34m\u001b[0m\u001b[0;34m\u001b[0m\u001b[0m\n\u001b[0m",
      "\u001b[0;32m~/Desktop/NLP/hw2/hw2.py\u001b[0m in \u001b[0;36mmain\u001b[0;34m()\u001b[0m\n\u001b[1;32m    130\u001b[0m     \u001b[0;31m# TODO 2) run train_model() to train it, and\u001b[0m\u001b[0;34m\u001b[0m\u001b[0;34m\u001b[0m\u001b[0;34m\u001b[0m\u001b[0m\n\u001b[1;32m    131\u001b[0m     \u001b[0;31m# TODO: 3) run test_model() on the result\u001b[0m\u001b[0;34m\u001b[0m\u001b[0;34m\u001b[0m\u001b[0;34m\u001b[0m\u001b[0m\n\u001b[0;32m--> 132\u001b[0;31m     \u001b[0;32mraise\u001b[0m \u001b[0mNotImplementedError\u001b[0m\u001b[0;34m\u001b[0m\u001b[0;34m\u001b[0m\u001b[0m\n\u001b[0m\u001b[1;32m    133\u001b[0m \u001b[0;34m\u001b[0m\u001b[0m\n\u001b[1;32m    134\u001b[0m \u001b[0;34m\u001b[0m\u001b[0m\n",
      "\u001b[0;31mNotImplementedError\u001b[0m: "
     ]
    }
   ],
   "source": [
    "%run hw2.py"
   ]
  },
  {
   "cell_type": "code",
   "execution_count": null,
   "metadata": {
    "collapsed": true
   },
   "outputs": [],
   "source": []
  }
 ],
 "metadata": {
  "kernelspec": {
   "display_name": "Python 3",
   "language": "python",
   "name": "python3"
  },
  "language_info": {
   "codemirror_mode": {
    "name": "ipython",
    "version": 3
   },
   "file_extension": ".py",
   "mimetype": "text/x-python",
   "name": "python",
   "nbconvert_exporter": "python",
   "pygments_lexer": "ipython3",
   "version": "3.6.9"
  }
 },
 "nbformat": 4,
 "nbformat_minor": 2
}
