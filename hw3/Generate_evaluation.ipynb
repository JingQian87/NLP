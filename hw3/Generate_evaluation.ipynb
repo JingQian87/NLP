{
 "cells": [
  {
   "cell_type": "code",
   "execution_count": 1,
   "metadata": {},
   "outputs": [],
   "source": [
    "import evaluate\n",
    "import process\n",
    "import numpy as np\n",
    "import os"
   ]
  },
  {
   "cell_type": "code",
   "execution_count": 2,
   "metadata": {},
   "outputs": [],
   "source": [
    "windowList = [2,5,10]\n",
    "dimList = [100,300,1000]\n",
    "numNS = [1,5,15]"
   ]
  },
  {
   "cell_type": "code",
   "execution_count": 4,
   "metadata": {},
   "outputs": [
    {
     "data": {
      "text/plain": [
       "27"
      ]
     },
     "execution_count": 4,
     "metadata": {},
     "output_type": "execute_result"
    }
   ],
   "source": [
    "files = []\n",
    "for iwin in windowList:\n",
    "    for idim in dimList:\n",
    "        for inum in numNS:\n",
    "            files.append(\"../../NLPdata/hw3/savedWV_word2vec/wv_win%d_dim%d_num%d\" %(iwin, idim, inum))\n",
    "len(files)\n",
    "            "
   ]
  },
  {
   "cell_type": "code",
   "execution_count": 6,
   "metadata": {},
   "outputs": [
    {
     "name": "stdout",
     "output_type": "stream",
     "text": [
      "[evaluate_models] Reading ../../NLPdata/hw3/savedWV_word2vec/wv_win2_dim100_num1\n",
      "[evaluate_models] Evaluating on WordSim...\n",
      "[evaluate_models] Evaluating on BATS...\n",
      "[evaluate_models] Evaluating on MSRPC...\n",
      "[evaluate_models] Reading ../../NLPdata/hw3/savedWV_word2vec/wv_win2_dim100_num5\n",
      "[evaluate_models] Evaluating on WordSim...\n",
      "[evaluate_models] Evaluating on BATS...\n",
      "[evaluate_models] Evaluating on MSRPC...\n",
      "[evaluate_models] Reading ../../NLPdata/hw3/savedWV_word2vec/wv_win2_dim100_num15\n",
      "[evaluate_models] Evaluating on WordSim...\n",
      "[evaluate_models] Evaluating on BATS...\n",
      "[evaluate_models] Evaluating on MSRPC...\n",
      "[evaluate_models] Reading ../../NLPdata/hw3/savedWV_word2vec/wv_win2_dim300_num1\n",
      "[evaluate_models] Evaluating on WordSim...\n",
      "[evaluate_models] Evaluating on BATS...\n",
      "[evaluate_models] Evaluating on MSRPC...\n",
      "[evaluate_models] Reading ../../NLPdata/hw3/savedWV_word2vec/wv_win2_dim300_num5\n",
      "[evaluate_models] Evaluating on WordSim...\n",
      "[evaluate_models] Evaluating on BATS...\n",
      "[evaluate_models] Evaluating on MSRPC...\n",
      "[evaluate_models] Reading ../../NLPdata/hw3/savedWV_word2vec/wv_win2_dim300_num15\n",
      "[evaluate_models] Evaluating on WordSim...\n",
      "[evaluate_models] Evaluating on BATS...\n",
      "[evaluate_models] Evaluating on MSRPC...\n",
      "[evaluate_models] Reading ../../NLPdata/hw3/savedWV_word2vec/wv_win2_dim1000_num1\n",
      "[evaluate_models] Evaluating on WordSim...\n",
      "[evaluate_models] Evaluating on BATS...\n",
      "[evaluate_models] Evaluating on MSRPC...\n",
      "[evaluate_models] Reading ../../NLPdata/hw3/savedWV_word2vec/wv_win2_dim1000_num5\n",
      "[evaluate_models] Evaluating on WordSim...\n",
      "[evaluate_models] Evaluating on BATS...\n",
      "[evaluate_models] Evaluating on MSRPC...\n",
      "[evaluate_models] Reading ../../NLPdata/hw3/savedWV_word2vec/wv_win2_dim1000_num15\n",
      "[evaluate_models] Evaluating on WordSim...\n",
      "[evaluate_models] Evaluating on BATS...\n",
      "[evaluate_models] Evaluating on MSRPC...\n",
      "[evaluate_models] Reading ../../NLPdata/hw3/savedWV_word2vec/wv_win5_dim100_num1\n",
      "[evaluate_models] Evaluating on WordSim...\n",
      "[evaluate_models] Evaluating on BATS...\n",
      "[evaluate_models] Evaluating on MSRPC...\n",
      "[evaluate_models] Reading ../../NLPdata/hw3/savedWV_word2vec/wv_win5_dim100_num5\n",
      "[evaluate_models] Evaluating on WordSim...\n",
      "[evaluate_models] Evaluating on BATS...\n",
      "[evaluate_models] Evaluating on MSRPC...\n",
      "[evaluate_models] Reading ../../NLPdata/hw3/savedWV_word2vec/wv_win5_dim100_num15\n",
      "[evaluate_models] Evaluating on WordSim...\n",
      "[evaluate_models] Evaluating on BATS...\n",
      "[evaluate_models] Evaluating on MSRPC...\n",
      "[evaluate_models] Reading ../../NLPdata/hw3/savedWV_word2vec/wv_win5_dim300_num1\n",
      "[evaluate_models] Evaluating on WordSim...\n",
      "[evaluate_models] Evaluating on BATS...\n",
      "[evaluate_models] Evaluating on MSRPC...\n",
      "[evaluate_models] Reading ../../NLPdata/hw3/savedWV_word2vec/wv_win5_dim300_num5\n",
      "[evaluate_models] Evaluating on WordSim...\n",
      "[evaluate_models] Evaluating on BATS...\n",
      "[evaluate_models] Evaluating on MSRPC...\n",
      "[evaluate_models] Reading ../../NLPdata/hw3/savedWV_word2vec/wv_win5_dim300_num15\n",
      "[evaluate_models] Evaluating on WordSim...\n",
      "[evaluate_models] Evaluating on BATS...\n",
      "[evaluate_models] Evaluating on MSRPC...\n",
      "[evaluate_models] Reading ../../NLPdata/hw3/savedWV_word2vec/wv_win5_dim1000_num1\n",
      "[evaluate_models] Evaluating on WordSim...\n",
      "[evaluate_models] Evaluating on BATS...\n",
      "[evaluate_models] Evaluating on MSRPC...\n",
      "[evaluate_models] Reading ../../NLPdata/hw3/savedWV_word2vec/wv_win5_dim1000_num5\n",
      "[evaluate_models] Evaluating on WordSim...\n",
      "[evaluate_models] Evaluating on BATS...\n",
      "[evaluate_models] Evaluating on MSRPC...\n",
      "[evaluate_models] Reading ../../NLPdata/hw3/savedWV_word2vec/wv_win5_dim1000_num15\n",
      "[evaluate_models] Evaluating on WordSim...\n",
      "[evaluate_models] Evaluating on BATS...\n",
      "[evaluate_models] Evaluating on MSRPC...\n",
      "[evaluate_models] Reading ../../NLPdata/hw3/savedWV_word2vec/wv_win10_dim100_num1\n",
      "[evaluate_models] Evaluating on WordSim...\n",
      "[evaluate_models] Evaluating on BATS...\n",
      "[evaluate_models] Evaluating on MSRPC...\n",
      "[evaluate_models] Reading ../../NLPdata/hw3/savedWV_word2vec/wv_win10_dim100_num5\n",
      "[evaluate_models] Evaluating on WordSim...\n",
      "[evaluate_models] Evaluating on BATS...\n",
      "[evaluate_models] Evaluating on MSRPC...\n",
      "[evaluate_models] Reading ../../NLPdata/hw3/savedWV_word2vec/wv_win10_dim100_num15\n",
      "[evaluate_models] Evaluating on WordSim...\n",
      "[evaluate_models] Evaluating on BATS...\n",
      "[evaluate_models] Evaluating on MSRPC...\n",
      "[evaluate_models] Reading ../../NLPdata/hw3/savedWV_word2vec/wv_win10_dim300_num1\n",
      "[evaluate_models] Evaluating on WordSim...\n",
      "[evaluate_models] Evaluating on BATS...\n",
      "[evaluate_models] Evaluating on MSRPC...\n",
      "[evaluate_models] Reading ../../NLPdata/hw3/savedWV_word2vec/wv_win10_dim300_num5\n",
      "[evaluate_models] Evaluating on WordSim...\n",
      "[evaluate_models] Evaluating on BATS...\n",
      "[evaluate_models] Evaluating on MSRPC...\n",
      "[evaluate_models] Reading ../../NLPdata/hw3/savedWV_word2vec/wv_win10_dim300_num15\n",
      "[evaluate_models] Evaluating on WordSim...\n",
      "[evaluate_models] Evaluating on BATS...\n",
      "[evaluate_models] Evaluating on MSRPC...\n",
      "[evaluate_models] Reading ../../NLPdata/hw3/savedWV_word2vec/wv_win10_dim1000_num1\n",
      "[evaluate_models] Evaluating on WordSim...\n",
      "[evaluate_models] Evaluating on BATS...\n",
      "[evaluate_models] Evaluating on MSRPC...\n",
      "[evaluate_models] Reading ../../NLPdata/hw3/savedWV_word2vec/wv_win10_dim1000_num5\n",
      "[evaluate_models] Evaluating on WordSim...\n",
      "[evaluate_models] Evaluating on BATS...\n",
      "[evaluate_models] Evaluating on MSRPC...\n",
      "[evaluate_models] Reading ../../NLPdata/hw3/savedWV_word2vec/wv_win10_dim1000_num15\n",
      "[evaluate_models] Evaluating on WordSim...\n",
      "[evaluate_models] Evaluating on BATS...\n",
      "[evaluate_models] Evaluating on MSRPC...\n"
     ]
    }
   ],
   "source": [
    "result = evaluate.evaluate_models(files)"
   ]
  },
  {
   "cell_type": "code",
   "execution_count": 8,
   "metadata": {},
   "outputs": [
    {
     "data": {
      "text/plain": [
       "27"
      ]
     },
     "execution_count": 8,
     "metadata": {},
     "output_type": "execute_result"
    }
   ],
   "source": [
    "len(result)"
   ]
  },
  {
   "cell_type": "code",
   "execution_count": 10,
   "metadata": {},
   "outputs": [
    {
     "data": {
      "text/plain": [
       "{'wordsim': SpearmanrResult(correlation=0.05523560909274706, pvalue=0.3606242200970572),\n",
       " 'bats': {'encyclopedic_semantics': 0.03292181069958847,\n",
       "  'E05 [name - occupation]': 0.0,\n",
       "  'E10 [male - female]': 0.0,\n",
       "  'E07 [animal - sound]': 0.0,\n",
       "  'E09 [things - color]': 0.2962962962962963,\n",
       "  'E08 [animal - shelter]': 0.0,\n",
       "  'E02 [country - language]': 0.0,\n",
       "  'E03 [UK_city - county]': None,\n",
       "  'E04 [name - nationality]': 0.0,\n",
       "  'E06 [animal - young]': 0.0,\n",
       "  'E01 [country - capital]': 0.0,\n",
       "  'inflectional_morphology': 0.006993695823483057,\n",
       "  'I09 [verb_Ving - Ved]': 0.0,\n",
       "  'I05 [verb_inf - 3pSg]': 0.0,\n",
       "  'I06 [verb_inf - Ving]': 0.0,\n",
       "  'I04 [adj - superlative]': None,\n",
       "  'I03 [adj - comparative]': 0.0,\n",
       "  'I08 [verb_Ving - 3pSg]': 0.0,\n",
       "  'I01 [noun - plural_reg]': 0.02127659574468085,\n",
       "  'I10 [verb_3pSg - Ved]': 0.0,\n",
       "  'I07 [verb_inf - Ved]': 0.041666666666666664,\n",
       "  'I02 [noun - plural_irreg]': 0.0,\n",
       "  'lexicographic_semantics': 0.01184939091915836,\n",
       "  'L02 [hypernyms - misc]': 0.0,\n",
       "  'L09 [antonyms - gradable]': 0.06666666666666667,\n",
       "  'L08 [synonyms - exact]': 0.0,\n",
       "  'L10 [antonyms - binary]': 0.023255813953488372,\n",
       "  'L04 [meronyms - substance]': 0.0,\n",
       "  'L03 [hyponyms - misc]': 0.02857142857142857,\n",
       "  'L07 [synonyms - intensity]': 0.0,\n",
       "  'L01 [hypernyms - animals]': 0.0,\n",
       "  'L05 [meronyms - member]': 0.0,\n",
       "  'L06 [meronyms - part]': 0.0,\n",
       "  'derivational_morphology': 0.0,\n",
       "  'D08 [verb+er_irreg]': 0.0,\n",
       "  'D04 [over+adj_reg]': None,\n",
       "  'D01 [noun+less_reg]': 0.0,\n",
       "  'D09 [verb+tion_irreg]': 0.0,\n",
       "  'D05 [adj+ness_reg]': 0.0,\n",
       "  'D03 [adj+ly_reg]': 0.0,\n",
       "  'D07 [verb+able_reg]': 0.0,\n",
       "  'D06 [re+verb_reg]': 0.0,\n",
       "  'D10 [verb+ment_irreg]': 0.0,\n",
       "  'D02 [un+adj_reg]': 0.0,\n",
       "  'total': 0.01291459427662091},\n",
       " 'msr': 0.6608695652173913}"
      ]
     },
     "execution_count": 10,
     "metadata": {},
     "output_type": "execute_result"
    }
   ],
   "source": [
    "result[0]"
   ]
  },
  {
   "cell_type": "code",
   "execution_count": 19,
   "metadata": {},
   "outputs": [
    {
     "data": {
      "text/plain": [
       "{'wordsim': SpearmanrResult(correlation=0.2913202919154103, pvalue=8.433926434497667e-07),\n",
       " 'bats': {'encyclopedic_semantics': 0.02946127946127946,\n",
       "  'E05 [name - occupation]': 0.0,\n",
       "  'E10 [male - female]': 0.18181818181818182,\n",
       "  'E07 [animal - sound]': 0.0,\n",
       "  'E09 [things - color]': 0.0,\n",
       "  'E08 [animal - shelter]': 0.0,\n",
       "  'E02 [country - language]': 0.0,\n",
       "  'E03 [UK_city - county]': None,\n",
       "  'E04 [name - nationality]': 0.0,\n",
       "  'E06 [animal - young]': 0.0,\n",
       "  'E01 [country - capital]': 0.08333333333333333,\n",
       "  'inflectional_morphology': 0.026612307582949177,\n",
       "  'I09 [verb_Ving - Ved]': 0.02127659574468085,\n",
       "  'I05 [verb_inf - 3pSg]': 0.022222222222222223,\n",
       "  'I06 [verb_inf - Ving]': 0.0,\n",
       "  'I04 [adj - superlative]': None,\n",
       "  'I03 [adj - comparative]': 0.0,\n",
       "  'I08 [verb_Ving - 3pSg]': 0.046511627906976744,\n",
       "  'I01 [noun - plural_reg]': 0.0851063829787234,\n",
       "  'I10 [verb_3pSg - Ved]': 0.0,\n",
       "  'I07 [verb_inf - Ved]': 0.041666666666666664,\n",
       "  'I02 [noun - plural_irreg]': 0.022727272727272728,\n",
       "  'lexicographic_semantics': 0.016481708146334827,\n",
       "  'L02 [hypernyms - misc]': 0.0,\n",
       "  'L09 [antonyms - gradable]': 0.022222222222222223,\n",
       "  'L08 [synonyms - exact]': 0.0,\n",
       "  'L10 [antonyms - binary]': 0.11627906976744186,\n",
       "  'L04 [meronyms - substance]': 0.0,\n",
       "  'L03 [hyponyms - misc]': 0.0,\n",
       "  'L07 [synonyms - intensity]': 0.0,\n",
       "  'L01 [hypernyms - animals]': 0.0,\n",
       "  'L05 [meronyms - member]': 0.02631578947368421,\n",
       "  'L06 [meronyms - part]': 0.0,\n",
       "  'derivational_morphology': 0.0,\n",
       "  'D08 [verb+er_irreg]': 0.0,\n",
       "  'D04 [over+adj_reg]': None,\n",
       "  'D01 [noun+less_reg]': 0.0,\n",
       "  'D09 [verb+tion_irreg]': 0.0,\n",
       "  'D05 [adj+ness_reg]': 0.0,\n",
       "  'D03 [adj+ly_reg]': 0.0,\n",
       "  'D07 [verb+able_reg]': 0.0,\n",
       "  'D06 [re+verb_reg]': 0.0,\n",
       "  'D10 [verb+ment_irreg]': 0.0,\n",
       "  'D02 [un+adj_reg]': 0.0,\n",
       "  'total': 0.018098406342730966},\n",
       " 'msr': 0.6678260869565218}"
      ]
     },
     "execution_count": 19,
     "metadata": {},
     "output_type": "execute_result"
    }
   ],
   "source": [
    "result[26]"
   ]
  },
  {
   "cell_type": "code",
   "execution_count": null,
   "metadata": {},
   "outputs": [],
   "source": []
  },
  {
   "cell_type": "code",
   "execution_count": null,
   "metadata": {},
   "outputs": [],
   "source": []
  },
  {
   "cell_type": "code",
   "execution_count": null,
   "metadata": {},
   "outputs": [],
   "source": []
  },
  {
   "cell_type": "code",
   "execution_count": 13,
   "metadata": {},
   "outputs": [],
   "source": [
    "files2 = []\n",
    "for iwin in windowList:\n",
    "    for idim in dimList:\n",
    "        for inum in numNS:\n",
    "            files2.append(\"../../NLPdata/hw3/savedWV_word2vec_okay/wv_win%d_dim%d_num%d\" %(iwin, idim, inum)) "
   ]
  },
  {
   "cell_type": "code",
   "execution_count": 14,
   "metadata": {},
   "outputs": [
    {
     "name": "stdout",
     "output_type": "stream",
     "text": [
      "[evaluate_models] Reading ../../NLPdata/hw3/savedWV_word2vec_okay/wv_win2_dim100_num1\n",
      "[evaluate_models] Evaluating on WordSim...\n",
      "[evaluate_models] Evaluating on BATS...\n",
      "[evaluate_models] Evaluating on MSRPC...\n",
      "[evaluate_models] Reading ../../NLPdata/hw3/savedWV_word2vec_okay/wv_win2_dim100_num5\n",
      "[evaluate_models] Evaluating on WordSim...\n",
      "[evaluate_models] Evaluating on BATS...\n",
      "[evaluate_models] Evaluating on MSRPC...\n",
      "[evaluate_models] Reading ../../NLPdata/hw3/savedWV_word2vec_okay/wv_win2_dim100_num15\n",
      "[evaluate_models] Evaluating on WordSim...\n",
      "[evaluate_models] Evaluating on BATS...\n",
      "[evaluate_models] Evaluating on MSRPC...\n",
      "[evaluate_models] Reading ../../NLPdata/hw3/savedWV_word2vec_okay/wv_win2_dim300_num1\n",
      "[evaluate_models] Evaluating on WordSim...\n",
      "[evaluate_models] Evaluating on BATS...\n",
      "[evaluate_models] Evaluating on MSRPC...\n",
      "[evaluate_models] Reading ../../NLPdata/hw3/savedWV_word2vec_okay/wv_win2_dim300_num5\n",
      "[evaluate_models] Evaluating on WordSim...\n",
      "[evaluate_models] Evaluating on BATS...\n",
      "[evaluate_models] Evaluating on MSRPC...\n"
     ]
    }
   ],
   "source": [
    "result2 = evaluate.evaluate_models(files2[:5])"
   ]
  },
  {
   "cell_type": "code",
   "execution_count": 15,
   "metadata": {},
   "outputs": [
    {
     "data": {
      "text/plain": [
       "{'wordsim': SpearmanrResult(correlation=0.07475060800649301, pvalue=0.215735734295172),\n",
       " 'bats': {'encyclopedic_semantics': 0.048073325851103625,\n",
       "  'E05 [name - occupation]': 0.0,\n",
       "  'E10 [male - female]': 0.13636363636363635,\n",
       "  'E07 [animal - sound]': 0.0,\n",
       "  'E09 [things - color]': 0.2962962962962963,\n",
       "  'E08 [animal - shelter]': 0.0,\n",
       "  'E02 [country - language]': 0.0,\n",
       "  'E03 [UK_city - county]': None,\n",
       "  'E04 [name - nationality]': 0.0,\n",
       "  'E06 [animal - young]': 0.0,\n",
       "  'E01 [country - capital]': 0.0,\n",
       "  'inflectional_morphology': 0.004898794142980189,\n",
       "  'I09 [verb_Ving - Ved]': 0.0,\n",
       "  'I05 [verb_inf - 3pSg]': 0.0,\n",
       "  'I06 [verb_inf - Ving]': 0.0,\n",
       "  'I04 [adj - superlative]': None,\n",
       "  'I03 [adj - comparative]': 0.0,\n",
       "  'I08 [verb_Ving - 3pSg]': 0.023255813953488372,\n",
       "  'I01 [noun - plural_reg]': 0.0,\n",
       "  'I10 [verb_3pSg - Ved]': 0.0,\n",
       "  'I07 [verb_inf - Ved]': 0.020833333333333332,\n",
       "  'I02 [noun - plural_irreg]': 0.0,\n",
       "  'lexicographic_semantics': 0.01579049367605059,\n",
       "  'L02 [hypernyms - misc]': 0.08333333333333333,\n",
       "  'L09 [antonyms - gradable]': 0.0,\n",
       "  'L08 [synonyms - exact]': 0.025,\n",
       "  'L10 [antonyms - binary]': 0.023255813953488372,\n",
       "  'L04 [meronyms - substance]': 0.0,\n",
       "  'L03 [hyponyms - misc]': 0.0,\n",
       "  'L07 [synonyms - intensity]': 0.02631578947368421,\n",
       "  'L01 [hypernyms - animals]': 0.0,\n",
       "  'L05 [meronyms - member]': 0.0,\n",
       "  'L06 [meronyms - part]': 0.0,\n",
       "  'derivational_morphology': 0.0,\n",
       "  'D08 [verb+er_irreg]': 0.0,\n",
       "  'D04 [over+adj_reg]': None,\n",
       "  'D01 [noun+less_reg]': 0.0,\n",
       "  'D09 [verb+tion_irreg]': 0.0,\n",
       "  'D05 [adj+ness_reg]': 0.0,\n",
       "  'D03 [adj+ly_reg]': 0.0,\n",
       "  'D07 [verb+able_reg]': 0.0,\n",
       "  'D06 [re+verb_reg]': 0.0,\n",
       "  'D10 [verb+ment_irreg]': 0.0,\n",
       "  'D02 [un+adj_reg]': 0.0,\n",
       "  'total': 0.017156503179936455},\n",
       " 'msr': 0.662608695652174}"
      ]
     },
     "execution_count": 15,
     "metadata": {},
     "output_type": "execute_result"
    }
   ],
   "source": [
    "result2[0]"
   ]
  },
  {
   "cell_type": "code",
   "execution_count": null,
   "metadata": {},
   "outputs": [],
   "source": []
  }
 ],
 "metadata": {
  "kernelspec": {
   "display_name": "Python 3",
   "language": "python",
   "name": "python3"
  },
  "language_info": {
   "codemirror_mode": {
    "name": "ipython",
    "version": 3
   },
   "file_extension": ".py",
   "mimetype": "text/x-python",
   "name": "python",
   "nbconvert_exporter": "python",
   "pygments_lexer": "ipython3",
   "version": "3.6.9"
  }
 },
 "nbformat": 4,
 "nbformat_minor": 2
}
