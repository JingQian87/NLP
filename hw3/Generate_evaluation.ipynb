{
 "cells": [
  {
   "cell_type": "code",
   "execution_count": 1,
   "metadata": {},
   "outputs": [],
   "source": [
    "import evaluate\n",
    "import process\n",
    "import numpy as np\n",
    "import os"
   ]
  },
  {
   "cell_type": "code",
   "execution_count": 2,
   "metadata": {},
   "outputs": [],
   "source": [
    "windowList = [2,5,10]\n",
    "dimList = [100,300,1000]\n",
    "numNS = [1,5,15]"
   ]
  },
  {
   "cell_type": "code",
   "execution_count": 4,
   "metadata": {},
   "outputs": [
    {
     "data": {
      "text/plain": [
       "27"
      ]
     },
     "execution_count": 4,
     "metadata": {},
     "output_type": "execute_result"
    }
   ],
   "source": [
    "files = []\n",
    "for iwin in windowList:\n",
    "    for idim in dimList:\n",
    "        for inum in numNS:\n",
    "            files.append(\"../../NLPdata/hw3/savedWV_word2vec/wv_win%d_dim%d_num%d\" %(iwin, idim, inum))\n",
    "len(files)\n",
    "            "
   ]
  },
  {
   "cell_type": "code",
   "execution_count": 6,
   "metadata": {},
   "outputs": [
    {
     "name": "stdout",
     "output_type": "stream",
     "text": [
      "[evaluate_models] Reading ../../NLPdata/hw3/savedWV_word2vec/wv_win2_dim100_num1\n",
      "[evaluate_models] Evaluating on WordSim...\n",
      "[evaluate_models] Evaluating on BATS...\n",
      "[evaluate_models] Evaluating on MSRPC...\n",
      "[evaluate_models] Reading ../../NLPdata/hw3/savedWV_word2vec/wv_win2_dim100_num5\n",
      "[evaluate_models] Evaluating on WordSim...\n",
      "[evaluate_models] Evaluating on BATS...\n",
      "[evaluate_models] Evaluating on MSRPC...\n",
      "[evaluate_models] Reading ../../NLPdata/hw3/savedWV_word2vec/wv_win2_dim100_num15\n",
      "[evaluate_models] Evaluating on WordSim...\n",
      "[evaluate_models] Evaluating on BATS...\n",
      "[evaluate_models] Evaluating on MSRPC...\n",
      "[evaluate_models] Reading ../../NLPdata/hw3/savedWV_word2vec/wv_win2_dim300_num1\n",
      "[evaluate_models] Evaluating on WordSim...\n",
      "[evaluate_models] Evaluating on BATS...\n",
      "[evaluate_models] Evaluating on MSRPC...\n",
      "[evaluate_models] Reading ../../NLPdata/hw3/savedWV_word2vec/wv_win2_dim300_num5\n",
      "[evaluate_models] Evaluating on WordSim...\n",
      "[evaluate_models] Evaluating on BATS...\n",
      "[evaluate_models] Evaluating on MSRPC...\n",
      "[evaluate_models] Reading ../../NLPdata/hw3/savedWV_word2vec/wv_win2_dim300_num15\n",
      "[evaluate_models] Evaluating on WordSim...\n",
      "[evaluate_models] Evaluating on BATS...\n",
      "[evaluate_models] Evaluating on MSRPC...\n",
      "[evaluate_models] Reading ../../NLPdata/hw3/savedWV_word2vec/wv_win2_dim1000_num1\n",
      "[evaluate_models] Evaluating on WordSim...\n",
      "[evaluate_models] Evaluating on BATS...\n",
      "[evaluate_models] Evaluating on MSRPC...\n",
      "[evaluate_models] Reading ../../NLPdata/hw3/savedWV_word2vec/wv_win2_dim1000_num5\n",
      "[evaluate_models] Evaluating on WordSim...\n",
      "[evaluate_models] Evaluating on BATS...\n",
      "[evaluate_models] Evaluating on MSRPC...\n",
      "[evaluate_models] Reading ../../NLPdata/hw3/savedWV_word2vec/wv_win2_dim1000_num15\n",
      "[evaluate_models] Evaluating on WordSim...\n",
      "[evaluate_models] Evaluating on BATS...\n",
      "[evaluate_models] Evaluating on MSRPC...\n",
      "[evaluate_models] Reading ../../NLPdata/hw3/savedWV_word2vec/wv_win5_dim100_num1\n",
      "[evaluate_models] Evaluating on WordSim...\n",
      "[evaluate_models] Evaluating on BATS...\n",
      "[evaluate_models] Evaluating on MSRPC...\n",
      "[evaluate_models] Reading ../../NLPdata/hw3/savedWV_word2vec/wv_win5_dim100_num5\n",
      "[evaluate_models] Evaluating on WordSim...\n",
      "[evaluate_models] Evaluating on BATS...\n",
      "[evaluate_models] Evaluating on MSRPC...\n",
      "[evaluate_models] Reading ../../NLPdata/hw3/savedWV_word2vec/wv_win5_dim100_num15\n",
      "[evaluate_models] Evaluating on WordSim...\n",
      "[evaluate_models] Evaluating on BATS...\n",
      "[evaluate_models] Evaluating on MSRPC...\n",
      "[evaluate_models] Reading ../../NLPdata/hw3/savedWV_word2vec/wv_win5_dim300_num1\n",
      "[evaluate_models] Evaluating on WordSim...\n",
      "[evaluate_models] Evaluating on BATS...\n",
      "[evaluate_models] Evaluating on MSRPC...\n",
      "[evaluate_models] Reading ../../NLPdata/hw3/savedWV_word2vec/wv_win5_dim300_num5\n",
      "[evaluate_models] Evaluating on WordSim...\n",
      "[evaluate_models] Evaluating on BATS...\n",
      "[evaluate_models] Evaluating on MSRPC...\n",
      "[evaluate_models] Reading ../../NLPdata/hw3/savedWV_word2vec/wv_win5_dim300_num15\n",
      "[evaluate_models] Evaluating on WordSim...\n",
      "[evaluate_models] Evaluating on BATS...\n",
      "[evaluate_models] Evaluating on MSRPC...\n",
      "[evaluate_models] Reading ../../NLPdata/hw3/savedWV_word2vec/wv_win5_dim1000_num1\n",
      "[evaluate_models] Evaluating on WordSim...\n",
      "[evaluate_models] Evaluating on BATS...\n",
      "[evaluate_models] Evaluating on MSRPC...\n",
      "[evaluate_models] Reading ../../NLPdata/hw3/savedWV_word2vec/wv_win5_dim1000_num5\n",
      "[evaluate_models] Evaluating on WordSim...\n",
      "[evaluate_models] Evaluating on BATS...\n",
      "[evaluate_models] Evaluating on MSRPC...\n",
      "[evaluate_models] Reading ../../NLPdata/hw3/savedWV_word2vec/wv_win5_dim1000_num15\n",
      "[evaluate_models] Evaluating on WordSim...\n",
      "[evaluate_models] Evaluating on BATS...\n",
      "[evaluate_models] Evaluating on MSRPC...\n",
      "[evaluate_models] Reading ../../NLPdata/hw3/savedWV_word2vec/wv_win10_dim100_num1\n",
      "[evaluate_models] Evaluating on WordSim...\n",
      "[evaluate_models] Evaluating on BATS...\n",
      "[evaluate_models] Evaluating on MSRPC...\n",
      "[evaluate_models] Reading ../../NLPdata/hw3/savedWV_word2vec/wv_win10_dim100_num5\n",
      "[evaluate_models] Evaluating on WordSim...\n",
      "[evaluate_models] Evaluating on BATS...\n",
      "[evaluate_models] Evaluating on MSRPC...\n",
      "[evaluate_models] Reading ../../NLPdata/hw3/savedWV_word2vec/wv_win10_dim100_num15\n",
      "[evaluate_models] Evaluating on WordSim...\n",
      "[evaluate_models] Evaluating on BATS...\n",
      "[evaluate_models] Evaluating on MSRPC...\n",
      "[evaluate_models] Reading ../../NLPdata/hw3/savedWV_word2vec/wv_win10_dim300_num1\n",
      "[evaluate_models] Evaluating on WordSim...\n",
      "[evaluate_models] Evaluating on BATS...\n",
      "[evaluate_models] Evaluating on MSRPC...\n",
      "[evaluate_models] Reading ../../NLPdata/hw3/savedWV_word2vec/wv_win10_dim300_num5\n",
      "[evaluate_models] Evaluating on WordSim...\n",
      "[evaluate_models] Evaluating on BATS...\n",
      "[evaluate_models] Evaluating on MSRPC...\n",
      "[evaluate_models] Reading ../../NLPdata/hw3/savedWV_word2vec/wv_win10_dim300_num15\n",
      "[evaluate_models] Evaluating on WordSim...\n",
      "[evaluate_models] Evaluating on BATS...\n",
      "[evaluate_models] Evaluating on MSRPC...\n",
      "[evaluate_models] Reading ../../NLPdata/hw3/savedWV_word2vec/wv_win10_dim1000_num1\n",
      "[evaluate_models] Evaluating on WordSim...\n",
      "[evaluate_models] Evaluating on BATS...\n",
      "[evaluate_models] Evaluating on MSRPC...\n",
      "[evaluate_models] Reading ../../NLPdata/hw3/savedWV_word2vec/wv_win10_dim1000_num5\n",
      "[evaluate_models] Evaluating on WordSim...\n",
      "[evaluate_models] Evaluating on BATS...\n",
      "[evaluate_models] Evaluating on MSRPC...\n",
      "[evaluate_models] Reading ../../NLPdata/hw3/savedWV_word2vec/wv_win10_dim1000_num15\n",
      "[evaluate_models] Evaluating on WordSim...\n",
      "[evaluate_models] Evaluating on BATS...\n",
      "[evaluate_models] Evaluating on MSRPC...\n"
     ]
    }
   ],
   "source": [
    "result = evaluate.evaluate_models(files)"
   ]
  },
  {
   "cell_type": "code",
   "execution_count": 8,
   "metadata": {},
   "outputs": [
    {
     "data": {
      "text/plain": [
       "27"
      ]
     },
     "execution_count": 8,
     "metadata": {},
     "output_type": "execute_result"
    }
   ],
   "source": [
    "len(result)"
   ]
  },
  {
   "cell_type": "code",
   "execution_count": 10,
   "metadata": {},
   "outputs": [
    {
     "data": {
      "text/plain": [
       "{'wordsim': SpearmanrResult(correlation=0.05523560909274706, pvalue=0.3606242200970572),\n",
       " 'bats': {'encyclopedic_semantics': 0.03292181069958847,\n",
       "  'E05 [name - occupation]': 0.0,\n",
       "  'E10 [male - female]': 0.0,\n",
       "  'E07 [animal - sound]': 0.0,\n",
       "  'E09 [things - color]': 0.2962962962962963,\n",
       "  'E08 [animal - shelter]': 0.0,\n",
       "  'E02 [country - language]': 0.0,\n",
       "  'E03 [UK_city - county]': None,\n",
       "  'E04 [name - nationality]': 0.0,\n",
       "  'E06 [animal - young]': 0.0,\n",
       "  'E01 [country - capital]': 0.0,\n",
       "  'inflectional_morphology': 0.006993695823483057,\n",
       "  'I09 [verb_Ving - Ved]': 0.0,\n",
       "  'I05 [verb_inf - 3pSg]': 0.0,\n",
       "  'I06 [verb_inf - Ving]': 0.0,\n",
       "  'I04 [adj - superlative]': None,\n",
       "  'I03 [adj - comparative]': 0.0,\n",
       "  'I08 [verb_Ving - 3pSg]': 0.0,\n",
       "  'I01 [noun - plural_reg]': 0.02127659574468085,\n",
       "  'I10 [verb_3pSg - Ved]': 0.0,\n",
       "  'I07 [verb_inf - Ved]': 0.041666666666666664,\n",
       "  'I02 [noun - plural_irreg]': 0.0,\n",
       "  'lexicographic_semantics': 0.01184939091915836,\n",
       "  'L02 [hypernyms - misc]': 0.0,\n",
       "  'L09 [antonyms - gradable]': 0.06666666666666667,\n",
       "  'L08 [synonyms - exact]': 0.0,\n",
       "  'L10 [antonyms - binary]': 0.023255813953488372,\n",
       "  'L04 [meronyms - substance]': 0.0,\n",
       "  'L03 [hyponyms - misc]': 0.02857142857142857,\n",
       "  'L07 [synonyms - intensity]': 0.0,\n",
       "  'L01 [hypernyms - animals]': 0.0,\n",
       "  'L05 [meronyms - member]': 0.0,\n",
       "  'L06 [meronyms - part]': 0.0,\n",
       "  'derivational_morphology': 0.0,\n",
       "  'D08 [verb+er_irreg]': 0.0,\n",
       "  'D04 [over+adj_reg]': None,\n",
       "  'D01 [noun+less_reg]': 0.0,\n",
       "  'D09 [verb+tion_irreg]': 0.0,\n",
       "  'D05 [adj+ness_reg]': 0.0,\n",
       "  'D03 [adj+ly_reg]': 0.0,\n",
       "  'D07 [verb+able_reg]': 0.0,\n",
       "  'D06 [re+verb_reg]': 0.0,\n",
       "  'D10 [verb+ment_irreg]': 0.0,\n",
       "  'D02 [un+adj_reg]': 0.0,\n",
       "  'total': 0.01291459427662091},\n",
       " 'msr': 0.6608695652173913}"
      ]
     },
     "execution_count": 10,
     "metadata": {},
     "output_type": "execute_result"
    }
   ],
   "source": [
    "result[0]"
   ]
  },
  {
   "cell_type": "code",
   "execution_count": 19,
   "metadata": {},
   "outputs": [
    {
     "data": {
      "text/plain": [
       "{'wordsim': SpearmanrResult(correlation=0.2913202919154103, pvalue=8.433926434497667e-07),\n",
       " 'bats': {'encyclopedic_semantics': 0.02946127946127946,\n",
       "  'E05 [name - occupation]': 0.0,\n",
       "  'E10 [male - female]': 0.18181818181818182,\n",
       "  'E07 [animal - sound]': 0.0,\n",
       "  'E09 [things - color]': 0.0,\n",
       "  'E08 [animal - shelter]': 0.0,\n",
       "  'E02 [country - language]': 0.0,\n",
       "  'E03 [UK_city - county]': None,\n",
       "  'E04 [name - nationality]': 0.0,\n",
       "  'E06 [animal - young]': 0.0,\n",
       "  'E01 [country - capital]': 0.08333333333333333,\n",
       "  'inflectional_morphology': 0.026612307582949177,\n",
       "  'I09 [verb_Ving - Ved]': 0.02127659574468085,\n",
       "  'I05 [verb_inf - 3pSg]': 0.022222222222222223,\n",
       "  'I06 [verb_inf - Ving]': 0.0,\n",
       "  'I04 [adj - superlative]': None,\n",
       "  'I03 [adj - comparative]': 0.0,\n",
       "  'I08 [verb_Ving - 3pSg]': 0.046511627906976744,\n",
       "  'I01 [noun - plural_reg]': 0.0851063829787234,\n",
       "  'I10 [verb_3pSg - Ved]': 0.0,\n",
       "  'I07 [verb_inf - Ved]': 0.041666666666666664,\n",
       "  'I02 [noun - plural_irreg]': 0.022727272727272728,\n",
       "  'lexicographic_semantics': 0.016481708146334827,\n",
       "  'L02 [hypernyms - misc]': 0.0,\n",
       "  'L09 [antonyms - gradable]': 0.022222222222222223,\n",
       "  'L08 [synonyms - exact]': 0.0,\n",
       "  'L10 [antonyms - binary]': 0.11627906976744186,\n",
       "  'L04 [meronyms - substance]': 0.0,\n",
       "  'L03 [hyponyms - misc]': 0.0,\n",
       "  'L07 [synonyms - intensity]': 0.0,\n",
       "  'L01 [hypernyms - animals]': 0.0,\n",
       "  'L05 [meronyms - member]': 0.02631578947368421,\n",
       "  'L06 [meronyms - part]': 0.0,\n",
       "  'derivational_morphology': 0.0,\n",
       "  'D08 [verb+er_irreg]': 0.0,\n",
       "  'D04 [over+adj_reg]': None,\n",
       "  'D01 [noun+less_reg]': 0.0,\n",
       "  'D09 [verb+tion_irreg]': 0.0,\n",
       "  'D05 [adj+ness_reg]': 0.0,\n",
       "  'D03 [adj+ly_reg]': 0.0,\n",
       "  'D07 [verb+able_reg]': 0.0,\n",
       "  'D06 [re+verb_reg]': 0.0,\n",
       "  'D10 [verb+ment_irreg]': 0.0,\n",
       "  'D02 [un+adj_reg]': 0.0,\n",
       "  'total': 0.018098406342730966},\n",
       " 'msr': 0.6678260869565218}"
      ]
     },
     "execution_count": 19,
     "metadata": {},
     "output_type": "execute_result"
    }
   ],
   "source": [
    "result[26]"
   ]
  },
  {
   "cell_type": "code",
   "execution_count": 21,
   "metadata": {},
   "outputs": [
    {
     "data": {
      "text/plain": [
       "{'wordsim': SpearmanrResult(correlation=0.1966280262736731, pvalue=0.001023735510792839),\n",
       " 'bats': {'encyclopedic_semantics': 0.02974186307519641,\n",
       "  'E05 [name - occupation]': 0.0,\n",
       "  'E10 [male - female]': 0.045454545454545456,\n",
       "  'E07 [animal - sound]': 0.0,\n",
       "  'E09 [things - color]': 0.2222222222222222,\n",
       "  'E08 [animal - shelter]': 0.0,\n",
       "  'E02 [country - language]': 0.0,\n",
       "  'E03 [UK_city - county]': None,\n",
       "  'E04 [name - nationality]': 0.0,\n",
       "  'E06 [animal - young]': 0.0,\n",
       "  'E01 [country - capital]': 0.0,\n",
       "  'inflectional_morphology': 0.017448045522018802,\n",
       "  'I09 [verb_Ving - Ved]': 0.0,\n",
       "  'I05 [verb_inf - 3pSg]': 0.06666666666666667,\n",
       "  'I06 [verb_inf - Ving]': 0.0,\n",
       "  'I04 [adj - superlative]': None,\n",
       "  'I03 [adj - comparative]': 0.0,\n",
       "  'I08 [verb_Ving - 3pSg]': 0.023255813953488372,\n",
       "  'I01 [noun - plural_reg]': 0.02127659574468085,\n",
       "  'I10 [verb_3pSg - Ved]': 0.025,\n",
       "  'I07 [verb_inf - Ved]': 0.020833333333333332,\n",
       "  'I02 [noun - plural_irreg]': 0.0,\n",
       "  'lexicographic_semantics': 0.021663952402666494,\n",
       "  'L02 [hypernyms - misc]': 0.0,\n",
       "  'L09 [antonyms - gradable]': 0.08888888888888889,\n",
       "  'L08 [synonyms - exact]': 0.0,\n",
       "  'L10 [antonyms - binary]': 0.06976744186046512,\n",
       "  'L04 [meronyms - substance]': 0.0,\n",
       "  'L03 [hyponyms - misc]': 0.02857142857142857,\n",
       "  'L07 [synonyms - intensity]': 0.0,\n",
       "  'L01 [hypernyms - animals]': 0.0,\n",
       "  'L05 [meronyms - member]': 0.0,\n",
       "  'L06 [meronyms - part]': 0.029411764705882353,\n",
       "  'derivational_morphology': 0.010101010101010102,\n",
       "  'D08 [verb+er_irreg]': 0.0,\n",
       "  'D04 [over+adj_reg]': None,\n",
       "  'D01 [noun+less_reg]': 0.0,\n",
       "  'D09 [verb+tion_irreg]': 0.0,\n",
       "  'D05 [adj+ness_reg]': 0.0,\n",
       "  'D03 [adj+ly_reg]': 0.0,\n",
       "  'D07 [verb+able_reg]': 0.0,\n",
       "  'D06 [re+verb_reg]': 0.0,\n",
       "  'D10 [verb+ment_irreg]': 0.0,\n",
       "  'D02 [un+adj_reg]': 0.09090909090909091,\n",
       "  'total': 0.01978567471735572},\n",
       " 'msr': 0.6782608695652174}"
      ]
     },
     "execution_count": 21,
     "metadata": {},
     "output_type": "execute_result"
    }
   ],
   "source": [
    "result[1]"
   ]
  },
  {
   "cell_type": "code",
   "execution_count": 22,
   "metadata": {},
   "outputs": [
    {
     "data": {
      "text/plain": [
       "{'wordsim': SpearmanrResult(correlation=0.2216952963758795, pvalue=0.00020508625425706093),\n",
       " 'bats': {'encyclopedic_semantics': 0.06183528405750628,\n",
       "  'E05 [name - occupation]': 0.0,\n",
       "  'E10 [male - female]': 0.09090909090909091,\n",
       "  'E07 [animal - sound]': 0.0,\n",
       "  'E09 [things - color]': 0.37037037037037035,\n",
       "  'E08 [animal - shelter]': 0.0,\n",
       "  'E02 [country - language]': 0.0,\n",
       "  'E03 [UK_city - county]': None,\n",
       "  'E04 [name - nationality]': 0.09523809523809523,\n",
       "  'E06 [animal - young]': 0.0,\n",
       "  'E01 [country - capital]': 0.0,\n",
       "  'inflectional_morphology': 0.02730168111373785,\n",
       "  'I09 [verb_Ving - Ved]': 0.0,\n",
       "  'I05 [verb_inf - 3pSg]': 0.022222222222222223,\n",
       "  'I06 [verb_inf - Ving]': 0.0,\n",
       "  'I04 [adj - superlative]': None,\n",
       "  'I03 [adj - comparative]': 0.0,\n",
       "  'I08 [verb_Ving - 3pSg]': 0.0,\n",
       "  'I01 [noun - plural_reg]': 0.1276595744680851,\n",
       "  'I10 [verb_3pSg - Ved]': 0.075,\n",
       "  'I07 [verb_inf - Ved]': 0.020833333333333332,\n",
       "  'I02 [noun - plural_irreg]': 0.0,\n",
       "  'lexicographic_semantics': 0.026295789633682932,\n",
       "  'L02 [hypernyms - misc]': 0.0,\n",
       "  'L09 [antonyms - gradable]': 0.1111111111111111,\n",
       "  'L08 [synonyms - exact]': 0.0,\n",
       "  'L10 [antonyms - binary]': 0.09302325581395349,\n",
       "  'L04 [meronyms - substance]': 0.0,\n",
       "  'L03 [hyponyms - misc]': 0.0,\n",
       "  'L07 [synonyms - intensity]': 0.0,\n",
       "  'L01 [hypernyms - animals]': 0.0,\n",
       "  'L05 [meronyms - member]': 0.0,\n",
       "  'L06 [meronyms - part]': 0.058823529411764705,\n",
       "  'derivational_morphology': 0.0,\n",
       "  'D08 [verb+er_irreg]': 0.0,\n",
       "  'D04 [over+adj_reg]': None,\n",
       "  'D01 [noun+less_reg]': 0.0,\n",
       "  'D09 [verb+tion_irreg]': 0.0,\n",
       "  'D05 [adj+ness_reg]': 0.0,\n",
       "  'D03 [adj+ly_reg]': 0.0,\n",
       "  'D07 [verb+able_reg]': 0.0,\n",
       "  'D06 [re+verb_reg]': 0.0,\n",
       "  'D10 [verb+ment_irreg]': 0.0,\n",
       "  'D02 [un+adj_reg]': 0.0,\n",
       "  'total': 0.028795691162998866},\n",
       " 'msr': 0.673623188405797}"
      ]
     },
     "execution_count": 22,
     "metadata": {},
     "output_type": "execute_result"
    }
   ],
   "source": [
    "result[2]"
   ]
  },
  {
   "cell_type": "code",
   "execution_count": 45,
   "metadata": {},
   "outputs": [
    {
     "data": {
      "text/plain": [
       "{'wordsim': SpearmanrResult(correlation=0.26693852967209275, pvalue=6.909894876809144e-06),\n",
       " 'bats': {'encyclopedic_semantics': 0.047578964245630906,\n",
       "  'E05 [name - occupation]': 0.047619047619047616,\n",
       "  'E10 [male - female]': 0.09090909090909091,\n",
       "  'E07 [animal - sound]': 0.0,\n",
       "  'E09 [things - color]': 0.1111111111111111,\n",
       "  'E08 [animal - shelter]': 0.0,\n",
       "  'E02 [country - language]': 0.08333333333333333,\n",
       "  'E03 [UK_city - county]': None,\n",
       "  'E04 [name - nationality]': 0.09523809523809523,\n",
       "  'E06 [animal - young]': 0.0,\n",
       "  'E01 [country - capital]': 0.0,\n",
       "  'inflectional_morphology': 0.02406780571674189,\n",
       "  'I09 [verb_Ving - Ved]': 0.02127659574468085,\n",
       "  'I05 [verb_inf - 3pSg]': 0.0,\n",
       "  'I06 [verb_inf - Ving]': 0.0425531914893617,\n",
       "  'I04 [adj - superlative]': None,\n",
       "  'I03 [adj - comparative]': 0.0,\n",
       "  'I08 [verb_Ving - 3pSg]': 0.0,\n",
       "  'I01 [noun - plural_reg]': 0.0425531914893617,\n",
       "  'I10 [verb_3pSg - Ved]': 0.025,\n",
       "  'I07 [verb_inf - Ved]': 0.0625,\n",
       "  'I02 [noun - plural_irreg]': 0.022727272727272728,\n",
       "  'lexicographic_semantics': 0.018826135105204873,\n",
       "  'L02 [hypernyms - misc]': 0.0,\n",
       "  'L09 [antonyms - gradable]': 0.06666666666666667,\n",
       "  'L08 [synonyms - exact]': 0.0,\n",
       "  'L10 [antonyms - binary]': 0.09302325581395349,\n",
       "  'L04 [meronyms - substance]': 0.0,\n",
       "  'L03 [hyponyms - misc]': 0.02857142857142857,\n",
       "  'L07 [synonyms - intensity]': 0.0,\n",
       "  'L01 [hypernyms - animals]': 0.0,\n",
       "  'L05 [meronyms - member]': 0.0,\n",
       "  'L06 [meronyms - part]': 0.0,\n",
       "  'derivational_morphology': 0.0,\n",
       "  'D08 [verb+er_irreg]': 0.0,\n",
       "  'D04 [over+adj_reg]': None,\n",
       "  'D01 [noun+less_reg]': 0.0,\n",
       "  'D09 [verb+tion_irreg]': 0.0,\n",
       "  'D05 [adj+ness_reg]': 0.0,\n",
       "  'D03 [adj+ly_reg]': 0.0,\n",
       "  'D07 [verb+able_reg]': 0.0,\n",
       "  'D06 [re+verb_reg]': 0.0,\n",
       "  'D10 [verb+ment_irreg]': 0.0,\n",
       "  'D02 [un+adj_reg]': 0.0,\n",
       "  'total': 0.022525736238560523},\n",
       " 'msr': 0.6759420289855073}"
      ]
     },
     "execution_count": 45,
     "metadata": {},
     "output_type": "execute_result"
    }
   ],
   "source": [
    "result[25]"
   ]
  },
  {
   "cell_type": "code",
   "execution_count": null,
   "metadata": {},
   "outputs": [],
   "source": []
  },
  {
   "cell_type": "code",
   "execution_count": null,
   "metadata": {},
   "outputs": [],
   "source": []
  },
  {
   "cell_type": "code",
   "execution_count": null,
   "metadata": {},
   "outputs": [],
   "source": []
  },
  {
   "cell_type": "code",
   "execution_count": null,
   "metadata": {},
   "outputs": [],
   "source": []
  },
  {
   "cell_type": "code",
   "execution_count": 52,
   "metadata": {},
   "outputs": [],
   "source": [
    "files2 = []\n",
    "for iwin in windowList:\n",
    "    for idim in dimList:\n",
    "        files2.append(\"../../NLPdata/hw3/savedWV_svd/wv_svd_win%d_dim%d.txt\" %(iwin, idim)) "
   ]
  },
  {
   "cell_type": "code",
   "execution_count": 53,
   "metadata": {},
   "outputs": [
    {
     "name": "stdout",
     "output_type": "stream",
     "text": [
      "[evaluate_models] Reading ../../NLPdata/hw3/savedWV_svd/wv_svd_win2_dim100.txt\n",
      "[evaluate_models] Evaluating on WordSim...\n",
      "[evaluate_models] Evaluating on BATS...\n",
      "[evaluate_models] Evaluating on MSRPC...\n",
      "[evaluate_models] Reading ../../NLPdata/hw3/savedWV_svd/wv_svd_win2_dim300.txt\n",
      "[evaluate_models] Evaluating on WordSim...\n",
      "[evaluate_models] Evaluating on BATS...\n",
      "[evaluate_models] Evaluating on MSRPC...\n",
      "[evaluate_models] Reading ../../NLPdata/hw3/savedWV_svd/wv_svd_win2_dim1000.txt\n",
      "[evaluate_models] Evaluating on WordSim...\n",
      "[evaluate_models] Evaluating on BATS...\n",
      "[evaluate_models] Evaluating on MSRPC...\n",
      "[evaluate_models] Reading ../../NLPdata/hw3/savedWV_svd/wv_svd_win5_dim100.txt\n",
      "[evaluate_models] Evaluating on WordSim...\n",
      "[evaluate_models] Evaluating on BATS...\n",
      "[evaluate_models] Evaluating on MSRPC...\n",
      "[evaluate_models] Reading ../../NLPdata/hw3/savedWV_svd/wv_svd_win5_dim300.txt\n",
      "[evaluate_models] Evaluating on WordSim...\n",
      "[evaluate_models] Evaluating on BATS...\n",
      "[evaluate_models] Evaluating on MSRPC...\n",
      "[evaluate_models] Reading ../../NLPdata/hw3/savedWV_svd/wv_svd_win5_dim1000.txt\n",
      "[evaluate_models] Evaluating on WordSim...\n",
      "[evaluate_models] Evaluating on BATS...\n",
      "[evaluate_models] Evaluating on MSRPC...\n",
      "[evaluate_models] Reading ../../NLPdata/hw3/savedWV_svd/wv_svd_win10_dim100.txt\n",
      "[evaluate_models] Evaluating on WordSim...\n",
      "[evaluate_models] Evaluating on BATS...\n",
      "[evaluate_models] Evaluating on MSRPC...\n",
      "[evaluate_models] Reading ../../NLPdata/hw3/savedWV_svd/wv_svd_win10_dim300.txt\n",
      "[evaluate_models] Evaluating on WordSim...\n",
      "[evaluate_models] Evaluating on BATS...\n",
      "[evaluate_models] Evaluating on MSRPC...\n",
      "[evaluate_models] Reading ../../NLPdata/hw3/savedWV_svd/wv_svd_win10_dim1000.txt\n",
      "[evaluate_models] Evaluating on WordSim...\n",
      "[evaluate_models] Evaluating on BATS...\n",
      "[evaluate_models] Evaluating on MSRPC...\n"
     ]
    }
   ],
   "source": [
    "result2 = evaluate.evaluate_models(files2)"
   ]
  },
  {
   "cell_type": "code",
   "execution_count": 62,
   "metadata": {},
   "outputs": [
    {
     "data": {
      "text/plain": [
       "{'wordsim': SpearmanrResult(correlation=0.33863536816484024, pvalue=3.906339761008876e-10),\n",
       " 'bats': {'encyclopedic_semantics': 0.0,\n",
       "  'E05 [name - occupation]': 0.0,\n",
       "  'E10 [male - female]': 0.0,\n",
       "  'E07 [animal - sound]': 0.0,\n",
       "  'E09 [things - color]': 0.0,\n",
       "  'E08 [animal - shelter]': 0.0,\n",
       "  'E02 [country - language]': 0.0,\n",
       "  'E03 [UK_city - county]': 0.0,\n",
       "  'E04 [name - nationality]': 0.0,\n",
       "  'E06 [animal - young]': 0.0,\n",
       "  'E01 [country - capital]': 0.0,\n",
       "  'inflectional_morphology': 0.0,\n",
       "  'I09 [verb_Ving - Ved]': 0.0,\n",
       "  'I05 [verb_inf - 3pSg]': 0.0,\n",
       "  'I06 [verb_inf - Ving]': 0.0,\n",
       "  'I04 [adj - superlative]': 0.0,\n",
       "  'I03 [adj - comparative]': 0.0,\n",
       "  'I08 [verb_Ving - 3pSg]': 0.0,\n",
       "  'I01 [noun - plural_reg]': 0.0,\n",
       "  'I10 [verb_3pSg - Ved]': 0.0,\n",
       "  'I07 [verb_inf - Ved]': 0.0,\n",
       "  'I02 [noun - plural_irreg]': 0.0,\n",
       "  'lexicographic_semantics': 0.004759238521836506,\n",
       "  'L02 [hypernyms - misc]': 0.0,\n",
       "  'L09 [antonyms - gradable]': 0.0,\n",
       "  'L08 [synonyms - exact]': 0.0,\n",
       "  'L10 [antonyms - binary]': 0.0,\n",
       "  'L04 [meronyms - substance]': 0.0,\n",
       "  'L03 [hyponyms - misc]': 0.02127659574468085,\n",
       "  'L07 [synonyms - intensity]': 0.0,\n",
       "  'L01 [hypernyms - animals]': 0.0,\n",
       "  'L05 [meronyms - member]': 0.0,\n",
       "  'L06 [meronyms - part]': 0.02631578947368421,\n",
       "  'derivational_morphology': 0.0,\n",
       "  'D08 [verb+er_irreg]': 0.0,\n",
       "  'D04 [over+adj_reg]': 0.0,\n",
       "  'D01 [noun+less_reg]': 0.0,\n",
       "  'D09 [verb+tion_irreg]': 0.0,\n",
       "  'D05 [adj+ness_reg]': 0.0,\n",
       "  'D03 [adj+ly_reg]': 0.0,\n",
       "  'D07 [verb+able_reg]': 0.0,\n",
       "  'D06 [re+verb_reg]': 0.0,\n",
       "  'D10 [verb+ment_irreg]': 0.0,\n",
       "  'D02 [un+adj_reg]': 0.0,\n",
       "  'total': 0.0011898096304591265},\n",
       " 'msr': 0.6556521739130434}"
      ]
     },
     "execution_count": 62,
     "metadata": {},
     "output_type": "execute_result"
    }
   ],
   "source": [
    "result2[8]"
   ]
  },
  {
   "cell_type": "code",
   "execution_count": 66,
   "metadata": {},
   "outputs": [],
   "source": [
    "f = '../../NLPdata/hw3/savedWV_svd/wv_svd_win2_dim300.txt'\n",
    "import process\n",
    "model = process.load_model(f)\n",
    "matrix, vocab, indices = evaluate.collect(model)"
   ]
  },
  {
   "cell_type": "code",
   "execution_count": 68,
   "metadata": {},
   "outputs": [
    {
     "name": "stdout",
     "output_type": "stream",
     "text": [
      "None\n"
     ]
    }
   ],
   "source": [
    "print(evaluate.eval_bats_file(model, matrix, vocab, indices, f, repeat=False,multi=0))"
   ]
  },
  {
   "cell_type": "code",
   "execution_count": 69,
   "metadata": {},
   "outputs": [],
   "source": [
    "f = '../../NLPdata/hw3/savedWV_word2vec/wv_win2_dim300_num1'\n",
    "import process\n",
    "model = process.load_model(f)\n",
    "matrix, vocab, indices = evaluate.collect(model)"
   ]
  },
  {
   "cell_type": "code",
   "execution_count": 70,
   "metadata": {},
   "outputs": [
    {
     "ename": "UnicodeDecodeError",
     "evalue": "'utf-8' codec can't decode byte 0x80 in position 0: invalid start byte",
     "output_type": "error",
     "traceback": [
      "\u001b[0;31m---------------------------------------------------------------------------\u001b[0m",
      "\u001b[0;31mUnicodeDecodeError\u001b[0m                        Traceback (most recent call last)",
      "\u001b[0;32m<ipython-input-70-b9c79727e6a8>\u001b[0m in \u001b[0;36m<module>\u001b[0;34m\u001b[0m\n\u001b[0;32m----> 1\u001b[0;31m \u001b[0mprint\u001b[0m\u001b[0;34m(\u001b[0m\u001b[0mevaluate\u001b[0m\u001b[0;34m.\u001b[0m\u001b[0meval_bats_file\u001b[0m\u001b[0;34m(\u001b[0m\u001b[0mmodel\u001b[0m\u001b[0;34m,\u001b[0m \u001b[0mmatrix\u001b[0m\u001b[0;34m,\u001b[0m \u001b[0mvocab\u001b[0m\u001b[0;34m,\u001b[0m \u001b[0mindices\u001b[0m\u001b[0;34m,\u001b[0m \u001b[0mf\u001b[0m\u001b[0;34m,\u001b[0m \u001b[0mrepeat\u001b[0m\u001b[0;34m=\u001b[0m\u001b[0;32mFalse\u001b[0m\u001b[0;34m,\u001b[0m\u001b[0mmulti\u001b[0m\u001b[0;34m=\u001b[0m\u001b[0;36m0\u001b[0m\u001b[0;34m)\u001b[0m\u001b[0;34m)\u001b[0m\u001b[0;34m\u001b[0m\u001b[0;34m\u001b[0m\u001b[0m\n\u001b[0m",
      "\u001b[0;32m~/Desktop/NLP/hw3/evaluate.py\u001b[0m in \u001b[0;36meval_bats_file\u001b[0;34m(model, matrix, vocab, indices, f, repeat, multi)\u001b[0m\n\u001b[1;32m     88\u001b[0m         \u001b[0mDefault\u001b[0m \u001b[0mbehavior\u001b[0m \u001b[0;32mis\u001b[0m \u001b[0mto\u001b[0m \u001b[0muse\u001b[0m \u001b[0;36m3\u001b[0m\u001b[0mCosAdd\u001b[0m\u001b[0;34m.\u001b[0m\u001b[0;34m\u001b[0m\u001b[0;34m\u001b[0m\u001b[0m\n\u001b[1;32m     89\u001b[0m     '''\n\u001b[0;32m---> 90\u001b[0;31m     \u001b[0mpairs\u001b[0m \u001b[0;34m=\u001b[0m \u001b[0;34m[\u001b[0m\u001b[0mline\u001b[0m\u001b[0;34m.\u001b[0m\u001b[0mstrip\u001b[0m\u001b[0;34m(\u001b[0m\u001b[0;34m)\u001b[0m\u001b[0;34m.\u001b[0m\u001b[0msplit\u001b[0m\u001b[0;34m(\u001b[0m\u001b[0;34m)\u001b[0m \u001b[0;32mfor\u001b[0m \u001b[0mline\u001b[0m \u001b[0;32min\u001b[0m \u001b[0mopen\u001b[0m\u001b[0;34m(\u001b[0m\u001b[0mf\u001b[0m\u001b[0;34m,\u001b[0m \u001b[0;34m'r'\u001b[0m\u001b[0;34m)\u001b[0m\u001b[0;34m.\u001b[0m\u001b[0mreadlines\u001b[0m\u001b[0;34m(\u001b[0m\u001b[0;34m)\u001b[0m\u001b[0;34m]\u001b[0m\u001b[0;34m\u001b[0m\u001b[0;34m\u001b[0m\u001b[0m\n\u001b[0m\u001b[1;32m     91\u001b[0m \u001b[0;34m\u001b[0m\u001b[0m\n\u001b[1;32m     92\u001b[0m     \u001b[0;31m# discard pairs that are not in our vocabulary\u001b[0m\u001b[0;34m\u001b[0m\u001b[0;34m\u001b[0m\u001b[0;34m\u001b[0m\u001b[0m\n",
      "\u001b[0;32m~/anaconda3/lib/python3.6/codecs.py\u001b[0m in \u001b[0;36mdecode\u001b[0;34m(self, input, final)\u001b[0m\n\u001b[1;32m    319\u001b[0m         \u001b[0;31m# decode input (taking the buffer into account)\u001b[0m\u001b[0;34m\u001b[0m\u001b[0;34m\u001b[0m\u001b[0;34m\u001b[0m\u001b[0m\n\u001b[1;32m    320\u001b[0m         \u001b[0mdata\u001b[0m \u001b[0;34m=\u001b[0m \u001b[0mself\u001b[0m\u001b[0;34m.\u001b[0m\u001b[0mbuffer\u001b[0m \u001b[0;34m+\u001b[0m \u001b[0minput\u001b[0m\u001b[0;34m\u001b[0m\u001b[0;34m\u001b[0m\u001b[0m\n\u001b[0;32m--> 321\u001b[0;31m         \u001b[0;34m(\u001b[0m\u001b[0mresult\u001b[0m\u001b[0;34m,\u001b[0m \u001b[0mconsumed\u001b[0m\u001b[0;34m)\u001b[0m \u001b[0;34m=\u001b[0m \u001b[0mself\u001b[0m\u001b[0;34m.\u001b[0m\u001b[0m_buffer_decode\u001b[0m\u001b[0;34m(\u001b[0m\u001b[0mdata\u001b[0m\u001b[0;34m,\u001b[0m \u001b[0mself\u001b[0m\u001b[0;34m.\u001b[0m\u001b[0merrors\u001b[0m\u001b[0;34m,\u001b[0m \u001b[0mfinal\u001b[0m\u001b[0;34m)\u001b[0m\u001b[0;34m\u001b[0m\u001b[0;34m\u001b[0m\u001b[0m\n\u001b[0m\u001b[1;32m    322\u001b[0m         \u001b[0;31m# keep undecoded input until the next call\u001b[0m\u001b[0;34m\u001b[0m\u001b[0;34m\u001b[0m\u001b[0;34m\u001b[0m\u001b[0m\n\u001b[1;32m    323\u001b[0m         \u001b[0mself\u001b[0m\u001b[0;34m.\u001b[0m\u001b[0mbuffer\u001b[0m \u001b[0;34m=\u001b[0m \u001b[0mdata\u001b[0m\u001b[0;34m[\u001b[0m\u001b[0mconsumed\u001b[0m\u001b[0;34m:\u001b[0m\u001b[0;34m]\u001b[0m\u001b[0;34m\u001b[0m\u001b[0;34m\u001b[0m\u001b[0m\n",
      "\u001b[0;31mUnicodeDecodeError\u001b[0m: 'utf-8' codec can't decode byte 0x80 in position 0: invalid start byte"
     ]
    }
   ],
   "source": [
    "print(evaluate.eval_bats_file(model, matrix, vocab, indices, f, repeat=False,multi=0))"
   ]
  },
  {
   "cell_type": "code",
   "execution_count": 71,
   "metadata": {},
   "outputs": [],
   "source": [
    "def eval_bats_file(model, matrix, vocab, indices, f, repeat=False,\n",
    "                   multi=0):\n",
    "    '''\n",
    "        Evaluates a trained embedding model on a single BATS file using either\n",
    "        3CosAdd (the classic vector offset cosine method) or 3CosAvg (held-out\n",
    "        averaging).\n",
    "\n",
    "        If multi is set to zero or None, this function will usee 3CosAdd;\n",
    "        otherwise it will use 3CosAvg, holding out (multi) samples at a time.\n",
    "\n",
    "        Default behavior is to use 3CosAdd.\n",
    "    '''\n",
    "    pairs = [line.strip().split() for line in open(f, 'rb').readlines()]\n",
    "\n",
    "    # discard pairs that are not in our vocabulary\n",
    "    pairs = [[p[0], p[1].split('/')] for p in pairs if p[0] in model]\n",
    "    pairs = [[p[0], [w for w in p[1] if w in model]] for p in pairs]\n",
    "    pairs = [p for p in pairs if len(p[1]) > 0]\n",
    "    if len(pairs) <= 1: return None\n",
    "\n",
    "    transposed = np.transpose(np.array([x / norm(x) for x in matrix]))\n",
    "\n",
    "    if not multi:\n",
    "        qa = []\n",
    "        qb = []\n",
    "        qc = []\n",
    "        targets = []\n",
    "        exclude = []\n",
    "        groups = []\n",
    "        \n",
    "        for i in range(len(pairs)):\n",
    "            j = random.randint(0, len(pairs) - 2)\n",
    "            if j >= i: j += 1\n",
    "            a = model[pairs[i][0]]\n",
    "            c = model[pairs[j][0]]\n",
    "            for bw in pairs[i][1]:\n",
    "                qa.append(a)\n",
    "                qb.append(model[bw])\n",
    "                qc.append(c)\n",
    "                groups.append(i)\n",
    "                targets.append(pairs[j][1])\n",
    "                exclude.append([pairs[i][0], bw, pairs[j][0]])\n",
    "\n",
    "        for queries in [qa, qb, qc]:\n",
    "            queries = np.array([x / norm(x) for x in queries])\n",
    "        \n",
    "        sa = np.matmul(qa, transposed) + .0001\n",
    "        sb = np.matmul(qb, transposed)\n",
    "        sc = np.matmul(qc, transposed)\n",
    "        sims = sb + sc - sa\n",
    "\n",
    "        # exclude original query words from candidates\n",
    "        for i in range(len(exclude)):\n",
    "            for w in exclude[i]:\n",
    "                sims[i][indices[w]] = 0\n",
    "\n",
    "    else:\n",
    "        offsets = []\n",
    "        exclude = []\n",
    "        preds = []\n",
    "        targets = []\n",
    "        groups = []\n",
    "        \n",
    "        for i in range(len(pairs) // multi):\n",
    "            qa = [pairs[j][0] for j in range(len(pairs)) if j - i not in range(multi)]\n",
    "            qb = [[w for w in pairs[j][1] if w in model] for j in range(len(pairs)) if j - i not in range(multi)]\n",
    "            qbs = []\n",
    "            for ws in qb: qbs += ws\n",
    "            a = np.mean([model[w] for w in qa], axis=0)\n",
    "            b = np.mean([np.mean([model[w] for w in ws], axis=0) for ws in qb], axis=0)\n",
    "            a = a / norm(a)\n",
    "            b = b / norm(b)\n",
    "\n",
    "            for k in range(multi):\n",
    "                c = model[pairs[i + k][0]]\n",
    "                c = c / norm(c)\n",
    "                offset = b + c - a\n",
    "                offsets.append(offset / norm(offset))\n",
    "                targets.append(pairs[i + k][1])\n",
    "                exclude.append(qa + qbs + [pairs[i + k][0]])\n",
    "                groups.append(len(groups))\n",
    "\n",
    "        print(np.shape(transposed))\n",
    "\n",
    "        sims = np.matmul(np.array(offsets), transposed)\n",
    "        print(np.shape(sims))\n",
    "        for i in range(len(exclude)):\n",
    "            for w in exclude[i]:\n",
    "                sims[i][indices[w]] = 0\n",
    "\n",
    "    preds = [vocab[np.argmax(x)] for x in sims]\n",
    "    accs = [1 if preds[i].lower() in targets[i] else 0 for i in range(len(preds))]\n",
    "    regrouped = np.zeros(np.max(groups) + 1)\n",
    "    for a, g in zip(accs, groups):\n",
    "        regrouped[g] = max(a, regrouped[g])\n",
    "    return np.mean(regrouped)"
   ]
  },
  {
   "cell_type": "code",
   "execution_count": 72,
   "metadata": {},
   "outputs": [
    {
     "ename": "IndexError",
     "evalue": "list index out of range",
     "output_type": "error",
     "traceback": [
      "\u001b[0;31m---------------------------------------------------------------------------\u001b[0m",
      "\u001b[0;31mIndexError\u001b[0m                                Traceback (most recent call last)",
      "\u001b[0;32m<ipython-input-72-4371ae1b03bd>\u001b[0m in \u001b[0;36m<module>\u001b[0;34m\u001b[0m\n\u001b[0;32m----> 1\u001b[0;31m \u001b[0meval_bats_file\u001b[0m\u001b[0;34m(\u001b[0m\u001b[0mmodel\u001b[0m\u001b[0;34m,\u001b[0m \u001b[0mmatrix\u001b[0m\u001b[0;34m,\u001b[0m \u001b[0mvocab\u001b[0m\u001b[0;34m,\u001b[0m \u001b[0mindices\u001b[0m\u001b[0;34m,\u001b[0m \u001b[0mf\u001b[0m\u001b[0;34m,\u001b[0m \u001b[0mrepeat\u001b[0m\u001b[0;34m=\u001b[0m\u001b[0;32mFalse\u001b[0m\u001b[0;34m,\u001b[0m\u001b[0mmulti\u001b[0m\u001b[0;34m=\u001b[0m\u001b[0;36m0\u001b[0m\u001b[0;34m)\u001b[0m\u001b[0;34m\u001b[0m\u001b[0;34m\u001b[0m\u001b[0m\n\u001b[0m",
      "\u001b[0;32m<ipython-input-71-69a7e41fe0a2>\u001b[0m in \u001b[0;36meval_bats_file\u001b[0;34m(model, matrix, vocab, indices, f, repeat, multi)\u001b[0m\n\u001b[1;32m     14\u001b[0m \u001b[0;34m\u001b[0m\u001b[0m\n\u001b[1;32m     15\u001b[0m     \u001b[0;31m# discard pairs that are not in our vocabulary\u001b[0m\u001b[0;34m\u001b[0m\u001b[0;34m\u001b[0m\u001b[0;34m\u001b[0m\u001b[0m\n\u001b[0;32m---> 16\u001b[0;31m     \u001b[0mpairs\u001b[0m \u001b[0;34m=\u001b[0m \u001b[0;34m[\u001b[0m\u001b[0;34m[\u001b[0m\u001b[0mp\u001b[0m\u001b[0;34m[\u001b[0m\u001b[0;36m0\u001b[0m\u001b[0;34m]\u001b[0m\u001b[0;34m,\u001b[0m \u001b[0mp\u001b[0m\u001b[0;34m[\u001b[0m\u001b[0;36m1\u001b[0m\u001b[0;34m]\u001b[0m\u001b[0;34m.\u001b[0m\u001b[0msplit\u001b[0m\u001b[0;34m(\u001b[0m\u001b[0;34m'/'\u001b[0m\u001b[0;34m)\u001b[0m\u001b[0;34m]\u001b[0m \u001b[0;32mfor\u001b[0m \u001b[0mp\u001b[0m \u001b[0;32min\u001b[0m \u001b[0mpairs\u001b[0m \u001b[0;32mif\u001b[0m \u001b[0mp\u001b[0m\u001b[0;34m[\u001b[0m\u001b[0;36m0\u001b[0m\u001b[0;34m]\u001b[0m \u001b[0;32min\u001b[0m \u001b[0mmodel\u001b[0m\u001b[0;34m]\u001b[0m\u001b[0;34m\u001b[0m\u001b[0;34m\u001b[0m\u001b[0m\n\u001b[0m\u001b[1;32m     17\u001b[0m     \u001b[0mpairs\u001b[0m \u001b[0;34m=\u001b[0m \u001b[0;34m[\u001b[0m\u001b[0;34m[\u001b[0m\u001b[0mp\u001b[0m\u001b[0;34m[\u001b[0m\u001b[0;36m0\u001b[0m\u001b[0;34m]\u001b[0m\u001b[0;34m,\u001b[0m \u001b[0;34m[\u001b[0m\u001b[0mw\u001b[0m \u001b[0;32mfor\u001b[0m \u001b[0mw\u001b[0m \u001b[0;32min\u001b[0m \u001b[0mp\u001b[0m\u001b[0;34m[\u001b[0m\u001b[0;36m1\u001b[0m\u001b[0;34m]\u001b[0m \u001b[0;32mif\u001b[0m \u001b[0mw\u001b[0m \u001b[0;32min\u001b[0m \u001b[0mmodel\u001b[0m\u001b[0;34m]\u001b[0m\u001b[0;34m]\u001b[0m \u001b[0;32mfor\u001b[0m \u001b[0mp\u001b[0m \u001b[0;32min\u001b[0m \u001b[0mpairs\u001b[0m\u001b[0;34m]\u001b[0m\u001b[0;34m\u001b[0m\u001b[0;34m\u001b[0m\u001b[0m\n\u001b[1;32m     18\u001b[0m     \u001b[0mpairs\u001b[0m \u001b[0;34m=\u001b[0m \u001b[0;34m[\u001b[0m\u001b[0mp\u001b[0m \u001b[0;32mfor\u001b[0m \u001b[0mp\u001b[0m \u001b[0;32min\u001b[0m \u001b[0mpairs\u001b[0m \u001b[0;32mif\u001b[0m \u001b[0mlen\u001b[0m\u001b[0;34m(\u001b[0m\u001b[0mp\u001b[0m\u001b[0;34m[\u001b[0m\u001b[0;36m1\u001b[0m\u001b[0;34m]\u001b[0m\u001b[0;34m)\u001b[0m \u001b[0;34m>\u001b[0m \u001b[0;36m0\u001b[0m\u001b[0;34m]\u001b[0m\u001b[0;34m\u001b[0m\u001b[0;34m\u001b[0m\u001b[0m\n",
      "\u001b[0;32m<ipython-input-71-69a7e41fe0a2>\u001b[0m in \u001b[0;36m<listcomp>\u001b[0;34m(.0)\u001b[0m\n\u001b[1;32m     14\u001b[0m \u001b[0;34m\u001b[0m\u001b[0m\n\u001b[1;32m     15\u001b[0m     \u001b[0;31m# discard pairs that are not in our vocabulary\u001b[0m\u001b[0;34m\u001b[0m\u001b[0;34m\u001b[0m\u001b[0;34m\u001b[0m\u001b[0m\n\u001b[0;32m---> 16\u001b[0;31m     \u001b[0mpairs\u001b[0m \u001b[0;34m=\u001b[0m \u001b[0;34m[\u001b[0m\u001b[0;34m[\u001b[0m\u001b[0mp\u001b[0m\u001b[0;34m[\u001b[0m\u001b[0;36m0\u001b[0m\u001b[0;34m]\u001b[0m\u001b[0;34m,\u001b[0m \u001b[0mp\u001b[0m\u001b[0;34m[\u001b[0m\u001b[0;36m1\u001b[0m\u001b[0;34m]\u001b[0m\u001b[0;34m.\u001b[0m\u001b[0msplit\u001b[0m\u001b[0;34m(\u001b[0m\u001b[0;34m'/'\u001b[0m\u001b[0;34m)\u001b[0m\u001b[0;34m]\u001b[0m \u001b[0;32mfor\u001b[0m \u001b[0mp\u001b[0m \u001b[0;32min\u001b[0m \u001b[0mpairs\u001b[0m \u001b[0;32mif\u001b[0m \u001b[0mp\u001b[0m\u001b[0;34m[\u001b[0m\u001b[0;36m0\u001b[0m\u001b[0;34m]\u001b[0m \u001b[0;32min\u001b[0m \u001b[0mmodel\u001b[0m\u001b[0;34m]\u001b[0m\u001b[0;34m\u001b[0m\u001b[0;34m\u001b[0m\u001b[0m\n\u001b[0m\u001b[1;32m     17\u001b[0m     \u001b[0mpairs\u001b[0m \u001b[0;34m=\u001b[0m \u001b[0;34m[\u001b[0m\u001b[0;34m[\u001b[0m\u001b[0mp\u001b[0m\u001b[0;34m[\u001b[0m\u001b[0;36m0\u001b[0m\u001b[0;34m]\u001b[0m\u001b[0;34m,\u001b[0m \u001b[0;34m[\u001b[0m\u001b[0mw\u001b[0m \u001b[0;32mfor\u001b[0m \u001b[0mw\u001b[0m \u001b[0;32min\u001b[0m \u001b[0mp\u001b[0m\u001b[0;34m[\u001b[0m\u001b[0;36m1\u001b[0m\u001b[0;34m]\u001b[0m \u001b[0;32mif\u001b[0m \u001b[0mw\u001b[0m \u001b[0;32min\u001b[0m \u001b[0mmodel\u001b[0m\u001b[0;34m]\u001b[0m\u001b[0;34m]\u001b[0m \u001b[0;32mfor\u001b[0m \u001b[0mp\u001b[0m \u001b[0;32min\u001b[0m \u001b[0mpairs\u001b[0m\u001b[0;34m]\u001b[0m\u001b[0;34m\u001b[0m\u001b[0;34m\u001b[0m\u001b[0m\n\u001b[1;32m     18\u001b[0m     \u001b[0mpairs\u001b[0m \u001b[0;34m=\u001b[0m \u001b[0;34m[\u001b[0m\u001b[0mp\u001b[0m \u001b[0;32mfor\u001b[0m \u001b[0mp\u001b[0m \u001b[0;32min\u001b[0m \u001b[0mpairs\u001b[0m \u001b[0;32mif\u001b[0m \u001b[0mlen\u001b[0m\u001b[0;34m(\u001b[0m\u001b[0mp\u001b[0m\u001b[0;34m[\u001b[0m\u001b[0;36m1\u001b[0m\u001b[0;34m]\u001b[0m\u001b[0;34m)\u001b[0m \u001b[0;34m>\u001b[0m \u001b[0;36m0\u001b[0m\u001b[0;34m]\u001b[0m\u001b[0;34m\u001b[0m\u001b[0;34m\u001b[0m\u001b[0m\n",
      "\u001b[0;31mIndexError\u001b[0m: list index out of range"
     ]
    }
   ],
   "source": [
    "eval_bats_file(model, matrix, vocab, indices, f, repeat=False,multi=0)"
   ]
  },
  {
   "cell_type": "code",
   "execution_count": null,
   "metadata": {},
   "outputs": [],
   "source": []
  }
 ],
 "metadata": {
  "kernelspec": {
   "display_name": "Python 3",
   "language": "python",
   "name": "python3"
  },
  "language_info": {
   "codemirror_mode": {
    "name": "ipython",
    "version": 3
   },
   "file_extension": ".py",
   "mimetype": "text/x-python",
   "name": "python",
   "nbconvert_exporter": "python",
   "pygments_lexer": "ipython3",
   "version": "3.6.9"
  }
 },
 "nbformat": 4,
 "nbformat_minor": 2
}
