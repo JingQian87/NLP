{
  "nbformat": 4,
  "nbformat_minor": 0,
  "metadata": {
    "colab": {
      "name": "BLEU.ipynb",
      "provenance": [],
      "collapsed_sections": []
    },
    "kernelspec": {
      "name": "python3",
      "display_name": "Python 3"
    }
  },
  "cells": [
    {
      "cell_type": "code",
      "metadata": {
        "id": "mOe5ClBGfXNu",
        "colab_type": "code",
        "colab": {}
      },
      "source": [
        "from nltk import ngrams"
      ],
      "execution_count": 0,
      "outputs": []
    },
    {
      "cell_type": "code",
      "metadata": {
        "id": "IE1-5LgZffxJ",
        "colab_type": "code",
        "colab": {}
      },
      "source": [
        "# candidate\n",
        "words = ['<sos>', 'The', 'Olive', 'Grove', 'is', 'a', 'pub', 'providing', 'Indian', 'food', 'in', 'the', 'high', 'price', 'range.', 'It', 'is', 'located', 'in', 'the', 'city', 'centre.', '<eos>']\n",
        "# reference\n",
        "reference = [['<sos>', 'There', 'is', 'a', 'place', 'in', 'the', 'city', 'centre,', 'Alimentum,', 'that', 'is', 'not', 'family-friendly.', '<eos>'],\n",
        "['<sos>', 'In', 'the', 'city', 'centre', 'there', 'is', 'a', 'venue', 'name', 'Alimentum,', 'this', 'is', 'not', 'a', 'family-friendly', 'venue.', '<eos>'],\n",
        "['<sos>', 'Alimentum', 'is', 'not', 'a', 'family-friendly', 'place,', 'located', 'in', 'city', 'centre.', '<eos>'],\n",
        "['<sos>', 'Alimentum', 'is', 'not', 'a', 'family-friendly', 'arena', 'and', 'is', 'located', 'in', 'the', 'city', 'centre.', '<eos>'],\n",
        "['<sos>', 'Alimentum', 'is', 'not', 'a', 'family-friendly', 'place', 'in', 'the', 'city', 'centre.', '<eos>'],\n",
        "['<sos>', 'Alimentum', 'in', 'city', 'centre', 'is', 'not', 'a', 'family-friendly', 'place.', '<eos>']]\n",
        "\n",
        "SOS_TOKEN = '<sos>'\n",
        "EOS_TOKEN = '<eos>'"
      ],
      "execution_count": 0,
      "outputs": []
    },
    {
      "cell_type": "code",
      "metadata": {
        "id": "sSJMCf4GArLJ",
        "colab_type": "code",
        "colab": {
          "base_uri": "https://localhost:8080/",
          "height": 54
        },
        "outputId": "a54b532d-c968-4bf8-e214-f351ea848355"
      },
      "source": [
        "import string\n",
        "def preprocessing(seq):\n",
        "    if EOS_TOKEN in seq:\n",
        "        seq.remove(EOS_TOKEN)\n",
        "    if SOS_TOKEN in seq:\n",
        "        seq.remove(SOS_TOKEN)\n",
        "    seq = [i.translate(str.maketrans('','',string.punctuation)).lower() for i in seq]\n",
        "    return seq\n",
        "words = preprocessing(words)\n",
        "print(words)"
      ],
      "execution_count": 8,
      "outputs": [
        {
          "output_type": "stream",
          "text": [
            "['the', 'olive', 'grove', 'is', 'a', 'pub', 'providing', 'indian', 'food', 'in', 'the', 'high', 'price', 'range', 'it', 'is', 'located', 'in', 'the', 'city', 'centre']\n"
          ],
          "name": "stdout"
        }
      ]
    },
    {
      "cell_type": "code",
      "metadata": {
        "id": "_X2A1XaoBFGo",
        "colab_type": "code",
        "colab": {}
      },
      "source": [
        "def pn(src, tgt_list, n):\n",
        "    ngram = ngrams(src, n)\n",
        "    "
      ],
      "execution_count": 0,
      "outputs": []
    },
    {
      "cell_type": "code",
      "metadata": {
        "id": "t7V-7C5dftwp",
        "colab_type": "code",
        "outputId": "e22c0506-f597-445a-80dd-baf072e742b7",
        "colab": {
          "base_uri": "https://localhost:8080/",
          "height": 34
        }
      },
      "source": [
        "ngram = [i for i in ngrams(words,1)]\n",
        "unique_ngram = list(set(ngram))\n",
        "print(len(ngram), len(unique_ngram))"
      ],
      "execution_count": 14,
      "outputs": [
        {
          "output_type": "stream",
          "text": [
            "21 17\n"
          ],
          "name": "stdout"
        }
      ]
    },
    {
      "cell_type": "code",
      "metadata": {
        "id": "KlAXs_yzF_sq",
        "colab_type": "code",
        "colab": {
          "base_uri": "https://localhost:8080/",
          "height": 34
        },
        "outputId": "f3d19c2a-109c-4d72-9e49-f9ac4469b4d6"
      },
      "source": [
        "for i in reference:\n",
        "    ref_ngram = ngrams(preprocessing(reference[0]),1)\n",
        "\n"
      ],
      "execution_count": 16,
      "outputs": [
        {
          "output_type": "execute_result",
          "data": {
            "text/plain": [
              "13"
            ]
          },
          "metadata": {
            "tags": []
          },
          "execution_count": 16
        }
      ]
    },
    {
      "cell_type": "code",
      "metadata": {
        "id": "nwdYPRROf441",
        "colab_type": "code",
        "outputId": "76597eb5-ddeb-44a0-c32b-1b3dae04d19b",
        "colab": {
          "base_uri": "https://localhost:8080/",
          "height": 306
        }
      },
      "source": [
        "for j in unique_ngram:\n",
        "    print(j)\n",
        "    #print(sum(1 for tmp in ngrams(preprocessing(reference[i]),1) if tmp==j))"
      ],
      "execution_count": 28,
      "outputs": [
        {
          "output_type": "stream",
          "text": [
            "('familyfriendly',)\n",
            "('indian',)\n",
            "('high',)\n",
            "('located',)\n",
            "('a',)\n",
            "('price',)\n",
            "('centre',)\n",
            "('providing',)\n",
            "('in',)\n",
            "('it',)\n",
            "('the',)\n",
            "('pub',)\n",
            "('food',)\n",
            "('grove',)\n",
            "('range',)\n",
            "('city',)\n",
            "('is',)\n"
          ],
          "name": "stdout"
        }
      ]
    },
    {
      "cell_type": "code",
      "metadata": {
        "id": "gDWzwLPdgGVm",
        "colab_type": "code",
        "outputId": "f83b801f-05f4-4bfa-cb4e-aa9e49f08c3a",
        "colab": {
          "base_uri": "https://localhost:8080/",
          "height": 130
        }
      },
      "source": [
        "sum(1  if tmp==unique_ngram[0])"
      ],
      "execution_count": 30,
      "outputs": [
        {
          "output_type": "error",
          "ename": "SyntaxError",
          "evalue": "ignored",
          "traceback": [
            "\u001b[0;36m  File \u001b[0;32m\"<ipython-input-30-a86e5c62d0af>\"\u001b[0;36m, line \u001b[0;32m1\u001b[0m\n\u001b[0;31m    sum(1 for tmp in ngrams(preprocessing(reference[i]),1)) if tmp==unique_ngram[0])\u001b[0m\n\u001b[0m                                                                                   ^\u001b[0m\n\u001b[0;31mSyntaxError\u001b[0m\u001b[0;31m:\u001b[0m invalid syntax\n"
          ]
        }
      ]
    },
    {
      "cell_type": "code",
      "metadata": {
        "id": "kiheWjd-g3ZJ",
        "colab_type": "code",
        "outputId": "07ecef6d-f401-4d7d-ccc2-207dd9bbdbd1",
        "colab": {
          "base_uri": "https://localhost:8080/",
          "height": 181
        }
      },
      "source": [
        "for tmp in ngrams(preprocessing(reference[i]),1):\n",
        "    print(tmp)"
      ],
      "execution_count": 32,
      "outputs": [
        {
          "output_type": "error",
          "ename": "TypeError",
          "evalue": "ignored",
          "traceback": [
            "\u001b[0;31m---------------------------------------------------------------------------\u001b[0m",
            "\u001b[0;31mTypeError\u001b[0m                                 Traceback (most recent call last)",
            "\u001b[0;32m<ipython-input-32-5f618577c604>\u001b[0m in \u001b[0;36m<module>\u001b[0;34m()\u001b[0m\n\u001b[0;32m----> 1\u001b[0;31m \u001b[0;32mfor\u001b[0m \u001b[0mtmp\u001b[0m \u001b[0;32min\u001b[0m \u001b[0mngrams\u001b[0m\u001b[0;34m(\u001b[0m\u001b[0mpreprocessing\u001b[0m\u001b[0;34m(\u001b[0m\u001b[0mreference\u001b[0m\u001b[0;34m[\u001b[0m\u001b[0mi\u001b[0m\u001b[0;34m]\u001b[0m\u001b[0;34m)\u001b[0m\u001b[0;34m,\u001b[0m\u001b[0;36m1\u001b[0m\u001b[0;34m)\u001b[0m\u001b[0;34m:\u001b[0m\u001b[0;34m\u001b[0m\u001b[0;34m\u001b[0m\u001b[0m\n\u001b[0m\u001b[1;32m      2\u001b[0m     \u001b[0mprint\u001b[0m\u001b[0;34m(\u001b[0m\u001b[0mtmp\u001b[0m\u001b[0;34m)\u001b[0m\u001b[0;34m\u001b[0m\u001b[0;34m\u001b[0m\u001b[0m\n",
            "\u001b[0;31mTypeError\u001b[0m: list indices must be integers or slices, not tuple"
          ]
        }
      ]
    },
    {
      "cell_type": "code",
      "metadata": {
        "id": "9mpRnyR6n0jZ",
        "colab_type": "code",
        "outputId": "8d7de778-ea95-45d5-8971-e408115f6865",
        "colab": {
          "base_uri": "https://localhost:8080/",
          "height": 238
        }
      },
      "source": [
        "for i in ngrams(preprocessing(reference[0]),1):\n",
        "    print(i)"
      ],
      "execution_count": 21,
      "outputs": [
        {
          "output_type": "stream",
          "text": [
            "('there',)\n",
            "('is',)\n",
            "('a',)\n",
            "('place',)\n",
            "('in',)\n",
            "('the',)\n",
            "('city',)\n",
            "('centre',)\n",
            "('alimentum',)\n",
            "('that',)\n",
            "('is',)\n",
            "('not',)\n",
            "('familyfriendly',)\n"
          ],
          "name": "stdout"
        }
      ]
    },
    {
      "cell_type": "code",
      "metadata": {
        "id": "L7axBhHFqsZa",
        "colab_type": "code",
        "outputId": "4a5c35b4-6356-4e79-cfa0-606aefd573f7",
        "colab": {
          "base_uri": "https://localhost:8080/",
          "height": 34
        }
      },
      "source": [
        "unique_ngram[0] in ngrams(preprocessing(reference[0]),1)"
      ],
      "execution_count": 22,
      "outputs": [
        {
          "output_type": "execute_result",
          "data": {
            "text/plain": [
              "True"
            ]
          },
          "metadata": {
            "tags": []
          },
          "execution_count": 22
        }
      ]
    },
    {
      "cell_type": "code",
      "metadata": {
        "id": "lIwE2CQkq7x_",
        "colab_type": "code",
        "colab": {}
      },
      "source": [
        ""
      ],
      "execution_count": 0,
      "outputs": []
    }
  ]
}