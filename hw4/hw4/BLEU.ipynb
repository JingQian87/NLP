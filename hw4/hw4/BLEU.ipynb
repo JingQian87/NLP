{
  "nbformat": 4,
  "nbformat_minor": 0,
  "metadata": {
    "colab": {
      "name": "BLEU.ipynb",
      "provenance": [],
      "collapsed_sections": []
    },
    "kernelspec": {
      "name": "python3",
      "display_name": "Python 3"
    }
  },
  "cells": [
    {
      "cell_type": "code",
      "metadata": {
        "id": "mOe5ClBGfXNu",
        "colab_type": "code",
        "colab": {}
      },
      "source": [
        "from nltk import ngrams"
      ],
      "execution_count": 0,
      "outputs": []
    },
    {
      "cell_type": "code",
      "metadata": {
        "id": "IE1-5LgZffxJ",
        "colab_type": "code",
        "colab": {}
      },
      "source": [
        "words = ['<sos>', 'The', 'Eagle', 'only', 'scores', '3', 'out', 'of', '5', 'for', 'the', 'fast', 'food.', '<eos>']\n",
        "SOS_TOKEN = '<sos>'\n",
        "EOS_TOKEN = '<eos>'\n",
        "\n",
        "if EOS_TOKEN in words:\n",
        "    words.remove(EOS_TOKEN)\n",
        "if SOS_TOKEN in words:\n",
        "    words.remove(SOS_TOKEN)\n",
        "\n",
        "# preprocessing of the words\n",
        "import string\n",
        "words = [i.translate(str.maketrans('','',string.punctuation)).lower() for i in words]"
      ],
      "execution_count": 0,
      "outputs": []
    },
    {
      "cell_type": "code",
      "metadata": {
        "id": "t7V-7C5dftwp",
        "colab_type": "code",
        "colab": {
          "base_uri": "https://localhost:8080/",
          "height": 221
        },
        "outputId": "61db7d38-49db-46a6-dfd5-1541a40acbc1"
      },
      "source": [
        "tmp = ngrams(words,1)\n",
        "for i in tmp:\n",
        "    print(i)"
      ],
      "execution_count": 27,
      "outputs": [
        {
          "output_type": "stream",
          "text": [
            "('the',)\n",
            "('eagle',)\n",
            "('only',)\n",
            "('scores',)\n",
            "('3',)\n",
            "('out',)\n",
            "('of',)\n",
            "('5',)\n",
            "('for',)\n",
            "('the',)\n",
            "('fast',)\n",
            "('food',)\n"
          ],
          "name": "stdout"
        }
      ]
    },
    {
      "cell_type": "code",
      "metadata": {
        "id": "nwdYPRROf441",
        "colab_type": "code",
        "colab": {
          "base_uri": "https://localhost:8080/",
          "height": 204
        },
        "outputId": "9b18ed66-3aba-4608-e65c-14d063591b1d"
      },
      "source": [
        "tmp = ngrams(words,2)\n",
        "for i in tmp:\n",
        "    print(i)"
      ],
      "execution_count": 9,
      "outputs": [
        {
          "output_type": "stream",
          "text": [
            "('The', 'Eagle')\n",
            "('Eagle', 'only')\n",
            "('only', 'scores')\n",
            "('scores', '3')\n",
            "('3', 'out')\n",
            "('out', 'of')\n",
            "('of', '5')\n",
            "('5', 'for')\n",
            "('for', 'their')\n",
            "('their', 'fast')\n",
            "('fast', 'food.')\n"
          ],
          "name": "stdout"
        }
      ]
    },
    {
      "cell_type": "code",
      "metadata": {
        "id": "gDWzwLPdgGVm",
        "colab_type": "code",
        "colab": {
          "base_uri": "https://localhost:8080/",
          "height": 221
        },
        "outputId": "490e8c59-d9c1-438f-dfa1-a28d3bdb4ce1"
      },
      "source": [
        "import string\n",
        "[i.translate(str.maketrans('','',string.punctuation)).lower() for i in words]"
      ],
      "execution_count": 22,
      "outputs": [
        {
          "output_type": "execute_result",
          "data": {
            "text/plain": [
              "['the',\n",
              " 'eagle',\n",
              " 'only',\n",
              " 'scores',\n",
              " '3',\n",
              " 'out',\n",
              " 'of',\n",
              " '5',\n",
              " 'for',\n",
              " 'their',\n",
              " 'fast',\n",
              " 'food']"
            ]
          },
          "metadata": {
            "tags": []
          },
          "execution_count": 22
        }
      ]
    },
    {
      "cell_type": "code",
      "metadata": {
        "id": "kiheWjd-g3ZJ",
        "colab_type": "code",
        "colab": {
          "base_uri": "https://localhost:8080/",
          "height": 164
        },
        "outputId": "b9c92f28-be31-4b1c-a255-9ec499cb21fc"
      },
      "source": [
        "'food.'.translate(str.maketrans((\"\",\"\"), string.punctuation))\n"
      ],
      "execution_count": 15,
      "outputs": [
        {
          "output_type": "error",
          "ename": "TypeError",
          "evalue": "ignored",
          "traceback": [
            "\u001b[0;31m---------------------------------------------------------------------------\u001b[0m",
            "\u001b[0;31mTypeError\u001b[0m                                 Traceback (most recent call last)",
            "\u001b[0;32m<ipython-input-15-26f7cc0eb051>\u001b[0m in \u001b[0;36m<module>\u001b[0;34m()\u001b[0m\n\u001b[0;32m----> 1\u001b[0;31m \u001b[0;34m'food.'\u001b[0m\u001b[0;34m.\u001b[0m\u001b[0mtranslate\u001b[0m\u001b[0;34m(\u001b[0m\u001b[0mstr\u001b[0m\u001b[0;34m.\u001b[0m\u001b[0mmaketrans\u001b[0m\u001b[0;34m(\u001b[0m\u001b[0;34m(\u001b[0m\u001b[0;34m\"\"\u001b[0m\u001b[0;34m,\u001b[0m\u001b[0;34m\"\"\u001b[0m\u001b[0;34m)\u001b[0m\u001b[0;34m,\u001b[0m \u001b[0mstring\u001b[0m\u001b[0;34m.\u001b[0m\u001b[0mpunctuation\u001b[0m\u001b[0;34m)\u001b[0m\u001b[0;34m)\u001b[0m\u001b[0;34m\u001b[0m\u001b[0;34m\u001b[0m\u001b[0m\n\u001b[0m",
            "\u001b[0;31mTypeError\u001b[0m: first maketrans argument must be a string if there is a second argument"
          ]
        }
      ]
    },
    {
      "cell_type": "code",
      "metadata": {
        "id": "9mpRnyR6n0jZ",
        "colab_type": "code",
        "colab": {
          "base_uri": "https://localhost:8080/",
          "height": 34
        },
        "outputId": "c04878e4-520f-4cb7-b9e1-29d6edec9e42"
      },
      "source": [
        "'food.'.translate(('', string.punctuation))"
      ],
      "execution_count": 18,
      "outputs": [
        {
          "output_type": "execute_result",
          "data": {
            "text/plain": [
              "'food.'"
            ]
          },
          "metadata": {
            "tags": []
          },
          "execution_count": 18
        }
      ]
    },
    {
      "cell_type": "code",
      "metadata": {
        "id": "L7axBhHFqsZa",
        "colab_type": "code",
        "colab": {
          "base_uri": "https://localhost:8080/",
          "height": 34
        },
        "outputId": "2379853c-27f0-4254-9e4d-24cfcf20d6b2"
      },
      "source": [
        "table = str.maketrans(\"\",\"\")\n",
        "'food.'.translate(str.maketrans('','',string.punctuation))"
      ],
      "execution_count": 21,
      "outputs": [
        {
          "output_type": "execute_result",
          "data": {
            "text/plain": [
              "'food'"
            ]
          },
          "metadata": {
            "tags": []
          },
          "execution_count": 21
        }
      ]
    },
    {
      "cell_type": "code",
      "metadata": {
        "id": "lIwE2CQkq7x_",
        "colab_type": "code",
        "colab": {}
      },
      "source": [
        ""
      ],
      "execution_count": 0,
      "outputs": []
    }
  ]
}