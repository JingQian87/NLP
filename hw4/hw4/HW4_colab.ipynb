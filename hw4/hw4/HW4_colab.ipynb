{
  "nbformat": 4,
  "nbformat_minor": 0,
  "metadata": {
    "kernelspec": {
      "name": "python3",
      "display_name": "Python 3"
    },
    "language_info": {
      "codemirror_mode": {
        "name": "ipython",
        "version": 3
      },
      "file_extension": ".py",
      "mimetype": "text/x-python",
      "name": "python",
      "nbconvert_exporter": "python",
      "pygments_lexer": "ipython3",
      "version": "3.7.4"
    },
    "colab": {
      "name": "HW4_colab.ipynb",
      "provenance": [],
      "collapsed_sections": []
    },
    "accelerator": "GPU"
  },
  "cells": [
    {
      "cell_type": "markdown",
      "metadata": {
        "id": "HWaY2R8Nc8CB",
        "colab_type": "text"
      },
      "source": [
        "# Homework 4: Sequence to Sequence Modeling\n",
        "\n",
        "The aim of this homework is to familiarize you with sequence-to-sequence language modeling, specifically using an encoder-decoder model. This is the coding portion; you also have a written portion. The written portion can be found the homework instructions, i.e. the pdf you download from the syllabus website. In this notebook, you are provided with pre-written code for a simple sequence-to-sequence model that already works and learns how to reverse short sequences of numbers.\n",
        "\n",
        "If you run this whole jupyter notebook, it will learn to reverse short sequences of numbers. Although much of this code you will not be modifying, we recommend reading through it to get a sense of how the model and training works.\n",
        "\n",
        "This starter code is based on [this tutorial](https://pytorch.org/tutorials/intermediate/seq2seq_translation_tutorial.html) by Sean Robertson from the PyTorch website. It has been modified by Katy Ilonka Gero for COMS W4705 taught at Columbia University by Professor Kathy McKeown. \n",
        "\n",
        "### Overview\n",
        "\n",
        "Your assignment is to:\n",
        "\n",
        "1. modify this code to run with the E2E restaurant data set (provided)\n",
        "2. train a model on this dataset on a GPU\n",
        "3. implement beam search for evaluation\n",
        "4. implement a BLEU evaluator and report BLEU scores\n",
        "\n",
        "These do not need to be done in this order.\n",
        "\n",
        "You must submit:\n",
        "\n",
        "1. This jupyter notebook, with your solutions to the above assignments. (Note cells that require specific outputs. Do not clear outputs before submitting.)\n",
        "2. A saved model (encoder and decoder) that takes in a meaning representation and generates a restaurant description.\n",
        "\n",
        "Write all your code **in this jupyter notebook**. Cells are provided where you should be implementing your code. See homework instructions for further details on how to submit this homework.\n",
        "\n",
        "### 1. Modify to work with E2E Dataset\n",
        "\n",
        "You will be working with the end-to-end (E2E) challenge dataset. More information can be found on [their website](http://www.macs.hw.ac.uk/InteractionLab/E2E/). In this dataset, the inputs are restaurant meaning representations, which are a series of key-value pairs that encode information about a restaurant. The outputs are fluent sentences that describe the restaurant. Here is an example:\n",
        "\n",
        "*Input: Meaning Representation*\n",
        "\n",
        "```\n",
        "name[The Eagle],\n",
        "eatType[coffee shop],\n",
        "food[French],\n",
        "priceRange[moderate],\n",
        "customerRating[3/5],\n",
        "area[riverside],\n",
        "kidsFriendly[yes],\n",
        "near[Burger King]\n",
        "```\n",
        "\n",
        "*Output: Fluent Sentence*\n",
        "\n",
        "```\n",
        "The three star coffee shop, The Eagle, gives families a mid-priced dining experience featuring a variety of wines and cheeses. Find The Eagle near Burger King.\n",
        "```\n",
        "\n",
        "You will need to read in and process the training and development data. This data is provided in csv format. Here is an example line from the `trainset.csv` file:\n",
        "\n",
        "```\n",
        "\"name[Browns Cambridge], eatType[coffee shop], food[English], customer rating[5 out of 5], area[riverside], familyFriendly[no], near[Crowne Plaza Hotel]\",\"Browns Cambridge, a 5 out of 5 English coffee shop, is not kid friendly. It is located near Crowne Plaza Hotel and riverside.\"\n",
        "```\n",
        "\n",
        "You will need to tokenize the input and output. The input should be tokenized such that each token is a single entry from the meaning representation. You can decide how to tokenize the output. Here is how the input should be tokenize, and a simple tokenization for the output:\n",
        "\n",
        "*Input:*\n",
        "\n",
        "```\n",
        "['name[Browns Cambridge]', 'eatType[coffee shop]', 'food[English]', 'customer rating[5 out of 5]', 'area[riverside]', 'familyFriendly[no]', 'near[Crowne Plaza Hotel]']\n",
        "```\n",
        "\n",
        "*Output:*\n",
        "\n",
        "```\n",
        "['<SOS>', 'Browns', 'Cambridge,', 'a', '5', 'out', 'of', '5', 'English', 'coffee', 'shop,', 'is', 'not', 'kid', 'friendly.', 'It', 'is', 'located', 'near', 'Crowne', 'Plaza', 'Hotel', 'and', 'riverside.', '<EOS>']\n",
        "```\n",
        "\n",
        "Be sure to note the `<SOS>` (start-of-sequence) and `<EOS>` (end-of-sequence) tokens in the output. This is important and necessary! The decoder requires start and end tokens; the start token gives it an initial input to start generating, and the end token lets you know when to stop.\n",
        "\n",
        "Your first goal is to load in this data with [torchtext](https://torchtext.readthedocs.io/en/latest/index.html), a library used to manage text datasets in pytorch. *You do not need to change anything in the model or training or evaluation.* All you need to do is load in the data similar to how the number-reversal data is loaded in.\n",
        "\n",
        "### 2. Train a model on this data\n",
        "\n",
        "To train a model on this data in a reasonable period of time, you will need to run this notebook on the Google Cloud VM with a GPU. [This tutorial](https://towardsdatascience.com/running-jupyter-notebook-in-google-cloud-platform-in-15-min-61e16da34d52) gives a good explanation of how to use jupyter notebooks from a Google Cloud VM. It can take time to correctly get set up on a GPU, so don't leave this to the last minute. \n",
        "\n",
        "However, we *do* recommend testing your code by loading in a small amount of data (say, 5 examples,) and training on these. This should train quickly even without a GPU and the model should be able to almost memorize the data. This is generally good practice with generative networks -- ensure your model will memorize a small amount of data.\n",
        "\n",
        "With the full e2e dataset on a GPU, it should take around 20 minutes to train a single epoch. You should see decent results after a single epoch. Decent results are sentences with a few mistakes, but are mostly readable. You are encouraged to see what kind of improvements can be found with more training or different parameters.\n",
        "\n",
        "You do not need to modify any code to train the model, nor are you allowed to modify the model. You may modify the `trainIters` function, if you would like to improve how you track progress, or change parameters while training. For example, it can be useful to decrease the teacher-forcing ratio as training progresses.\n",
        "\n",
        "*You must submit a trained model. This model must be a GPU model. It is not reasonable to train this model with a CPU; part of the assignment is training it on a GPU.*\n",
        "\n",
        "*Note that the model is trained using single examples -- that is, it doesn't use batching. Batching is possible with seq2seq models, but for simplicity of reading the code we have not implemented it here.*\n",
        "\n",
        "### 3. Implement a beam search evaluator\n",
        "\n",
        "We provide you with an evaluation function that takes in an input sequence and generates an output sentence given a trained model. This evaluation function performs *greedy decoding* by taking the most likely token at each generation step. You are required to implement a beam search version of this evaluation function, that keeps track of the top *k* most likely sequences at each generation step, and then returns the top *k* best sequences with their associated probabilities.\n",
        "\n",
        "### 4. Implement a BLEU evaluator and report scores\n",
        "\n",
        "While loss and accuracy are good for tracking training progress, they don't tell us much about how well the model generates meaningful sentences. You need to implement a BLEU evaluation function that takes in an input/output pair and returns the BLEU score for how well the model predicts the output.\n",
        "\n",
        "You can find a formal description of how to calculate BLEU in the original paper, [BLEU: A Method for Automatic Evaluation of Machine Translation](https://www.aclweb.org/anthology/P02-1040.pdf). We reprodue this formal description for you in the homework instructions.\n",
        "\n",
        "When reporting these scores, use the *development dataset* provided. Report scores for greedy decoding and beam search (beam size=3). For beam search, use the top-scoring output sentence as the score for that datapoint.\n",
        "\n",
        "*You must implement your BLEU evaluator from scratch.* There exist python libraries that implement BLEU for you. Do not use these.\n",
        "\n",
        "### Don't forget the written portion!\n",
        "\n",
        "A series of open-ended questions about these tasks are required for the written portion of this homework. Please see the homework instructions for this, as well as instructions about how to submit."
      ]
    },
    {
      "cell_type": "code",
      "metadata": {
        "id": "_whVTquoc8CG",
        "colab_type": "code",
        "colab": {}
      },
      "source": [
        "# You may modify this cell\n",
        "\n",
        "import random\n",
        "import time\n",
        "\n",
        "import torch\n",
        "import torch.nn as nn\n",
        "from torch import optim\n",
        "import torch.nn.functional as F\n",
        "\n",
        "import torchtext"
      ],
      "execution_count": 0,
      "outputs": []
    },
    {
      "cell_type": "code",
      "metadata": {
        "id": "2D919AKbc8CN",
        "colab_type": "code",
        "outputId": "e644fd98-23c5-4aa4-999f-dda90873267c",
        "colab": {
          "base_uri": "https://localhost:8080/",
          "height": 34
        }
      },
      "source": [
        "# DO NO MODIFY\n",
        "\n",
        "# this is useful for checking if your code is successfully using the GPU\n",
        "\n",
        "mydevice = torch.device(\"cuda\" if torch.cuda.is_available() else \"cpu\")\n",
        "mydevice"
      ],
      "execution_count": 2,
      "outputs": [
        {
          "output_type": "execute_result",
          "data": {
            "text/plain": [
              "device(type='cuda')"
            ]
          },
          "metadata": {
            "tags": []
          },
          "execution_count": 2
        }
      ]
    },
    {
      "cell_type": "code",
      "metadata": {
        "id": "1kAmB5NAc8C5",
        "colab_type": "code",
        "colab": {}
      },
      "source": [
        "# DO NOT MODIFY\n",
        "\n",
        "SOS_TOKEN = '<sos>'\n",
        "EOS_TOKEN = '<eos>'\n",
        "\n",
        "MAX_LEN = 50\n",
        "\n",
        "def len_filter(example):\n",
        "    return len(example.src) <= MAX_LEN and len(example.tgt) <= MAX_LEN"
      ],
      "execution_count": 0,
      "outputs": []
    },
    {
      "cell_type": "markdown",
      "metadata": {
        "id": "IooFVuqjc8DH",
        "colab_type": "text"
      },
      "source": [
        "### Load dummy number reversal dataset"
      ]
    },
    {
      "cell_type": "code",
      "metadata": {
        "id": "iP1hNN96dUOw",
        "colab_type": "code",
        "outputId": "5f2ac802-bda2-43d1-cbd6-729ccaf54b35",
        "colab": {
          "base_uri": "https://localhost:8080/",
          "height": 54
        }
      },
      "source": [
        "from google.colab import drive\n",
        "drive.mount('/content/gdrive')"
      ],
      "execution_count": 4,
      "outputs": [
        {
          "output_type": "stream",
          "text": [
            "Drive already mounted at /content/gdrive; to attempt to forcibly remount, call drive.mount(\"/content/gdrive\", force_remount=True).\n"
          ],
          "name": "stdout"
        }
      ]
    },
    {
      "cell_type": "code",
      "metadata": {
        "id": "O5ANyhUkc8DO",
        "colab_type": "code",
        "colab": {}
      },
      "source": [
        "# # DO NOT MODIFY\n",
        "\n",
        "# train_path = '/content/gdrive/My Drive/NLP/hw4/data/toy_reverse/train/data.txt'\n",
        "# dev_path = '/content/gdrive/My Drive/NLP/hw4/data/toy_reverse/dev/data.txt'\n",
        "\n",
        "# src = torchtext.data.Field(\n",
        "#     batch_first=True, \n",
        "#     include_lengths=True\n",
        "#     )\n",
        "# tgt = torchtext.data.Field(\n",
        "#     batch_first=True, \n",
        "#     preprocessing = lambda seq: [SOS_TOKEN] + seq + [EOS_TOKEN]\n",
        "#     )\n",
        "\n",
        "# data_train = torchtext.data.TabularDataset(\n",
        "#         path=train_path, format='tsv',\n",
        "#         fields=[('src', src), ('tgt', tgt)],\n",
        "#         filter_pred=len_filter\n",
        "#     )\n",
        "# data_dev = torchtext.data.TabularDataset(\n",
        "#         path=dev_path, format='tsv',\n",
        "#         fields=[('src', src), ('tgt', tgt)],\n",
        "#         filter_pred=len_filter\n",
        "#     )"
      ],
      "execution_count": 0,
      "outputs": []
    },
    {
      "cell_type": "markdown",
      "metadata": {
        "id": "eaAYXBG-c8De",
        "colab_type": "text"
      },
      "source": [
        "### 1. Load the e2e data\n",
        "\n",
        "Load in the E2E data similar to how the dummy number reversal dataset is loaded. That is, use the same `torchtext.data.Field` and `torchtext.data.TabularDataset` classes."
      ]
    },
    {
      "cell_type": "code",
      "metadata": {
        "id": "2282IQ0Hc8Df",
        "colab_type": "code",
        "colab": {}
      },
      "source": [
        "# WRITE YOUR CODE FOR LOADING THE E2E DATA HERE\n",
        "train_path = '/content/gdrive/My Drive/NLP/hw4/data/e2e-dataset/trainset.csv'\n",
        "dev_path = '/content/gdrive/My Drive/NLP/hw4/data/e2e-dataset/devset.csv'\n",
        "\n",
        "src = torchtext.data.Field(\n",
        "    batch_first=True, \n",
        "    tokenize=lambda row: row.split(', '),\n",
        "    include_lengths=True\n",
        "    )\n",
        "tgt = torchtext.data.Field(\n",
        "    batch_first=True, \n",
        "    tokenize=lambda row: row.split(),\n",
        "    preprocessing = lambda seq: [SOS_TOKEN] + seq + [EOS_TOKEN]\n",
        "    )\n",
        "\n",
        "data_train = torchtext.data.TabularDataset(\n",
        "        path=train_path, format='csv',\n",
        "        skip_header=True,\n",
        "        fields=[('src', src), ('tgt', tgt)],\n",
        "        filter_pred=len_filter\n",
        "    )\n",
        "data_dev = torchtext.data.TabularDataset(\n",
        "        path=dev_path, format='csv',\n",
        "        skip_header=True,\n",
        "        fields=[('src', src), ('tgt', tgt)],\n",
        "        filter_pred=len_filter\n",
        "    )"
      ],
      "execution_count": 0,
      "outputs": []
    },
    {
      "cell_type": "markdown",
      "metadata": {
        "id": "EZsQu3zGc8Dj",
        "colab_type": "text"
      },
      "source": [
        "Have a look at the vocab and some example data points.\n",
        "\n",
        "*If you have loaded in the E2E dataset correctly, the code in the cell below should work without any modification.*"
      ]
    },
    {
      "cell_type": "code",
      "metadata": {
        "id": "4T2As_8qc8Dl",
        "colab_type": "code",
        "outputId": "86806ed6-6f40-4590-9040-857310b5390a",
        "colab": {
          "base_uri": "https://localhost:8080/",
          "height": 258
        }
      },
      "source": [
        "# You may modify this cell\n",
        "\n",
        "src.build_vocab(data_train, max_size=50000)\n",
        "tgt.build_vocab(data_train, max_size=50000)\n",
        "input_vocab = src.vocab\n",
        "output_vocab = tgt.vocab\n",
        "\n",
        "print('20 tokens from input vocab:\\n', list(input_vocab.stoi.keys())[:20])\n",
        "print('\\n20 tokens from output vocab:\\n', list(output_vocab.stoi.keys())[:20])\n",
        "\n",
        "print('\\nnum training examples:', len(data_train.examples))\n",
        "\n",
        "item = random.choice(data_train.examples)\n",
        "print('\\nexample train data:')\n",
        "print('src:\\n', item.src)\n",
        "print('tgt:\\n', item.tgt)"
      ],
      "execution_count": 7,
      "outputs": [
        {
          "output_type": "stream",
          "text": [
            "20 tokens from input vocab:\n",
            " ['<unk>', '<pad>', 'familyFriendly[yes]', 'area[riverside]', 'eatType[coffee shop]', 'familyFriendly[no]', 'area[city centre]', 'eatType[pub]', 'food[Japanese]', 'food[Italian]', 'food[Fast food]', 'food[French]', 'priceRange[moderate]', 'priceRange[less than £20]', 'customer rating[average]', 'customer rating[low]', 'priceRange[high]', 'customer rating[5 out of 5]', 'priceRange[more than £30]', 'food[Indian]']\n",
            "\n",
            "20 tokens from output vocab:\n",
            " ['<unk>', '<pad>', 'is', '<eos>', '<sos>', 'a', 'The', 'the', 'in', 'near', 'of', 'and', 'food', 'customer', 'located', 'It', 'restaurant', 'has', 'coffee', 'price']\n",
            "\n",
            "num training examples: 42037\n",
            "\n",
            "example train data:\n",
            "src:\n",
            " ['name[The Eagle]', 'food[Fast food]', 'customer rating[3 out of 5]']\n",
            "tgt:\n",
            " ['<sos>', 'The', 'Eagle', 'only', 'scores', '3', 'out', 'of', '5', 'for', 'their', 'fast', 'food.', '<eos>']\n"
          ],
          "name": "stdout"
        }
      ]
    },
    {
      "cell_type": "markdown",
      "metadata": {
        "id": "C2WV3kTHc8Do",
        "colab_type": "text"
      },
      "source": [
        "### Model definition and training functions"
      ]
    },
    {
      "cell_type": "code",
      "metadata": {
        "id": "ChWURHmhc8Dp",
        "colab_type": "code",
        "colab": {}
      },
      "source": [
        "# DO NOT MODIFY\n",
        "\n",
        "class EncoderRNN(nn.Module):\n",
        "    def __init__(self, input_size, hidden_size):\n",
        "        super(EncoderRNN, self).__init__()\n",
        "        self.hidden_size = hidden_size\n",
        "\n",
        "        self.embedding = nn.Embedding(input_size, hidden_size)\n",
        "        self.gru = nn.GRU(hidden_size, hidden_size)\n",
        "\n",
        "    def forward(self, myinput, hidden):\n",
        "        embedded = self.embedding(myinput).view(1, 1, -1)\n",
        "        output = embedded\n",
        "        output, hidden = self.gru(output, hidden)\n",
        "        return output, hidden\n",
        "\n",
        "    def initHidden(self):\n",
        "        return torch.zeros(1, 1, self.hidden_size, device=mydevice)\n",
        "\n",
        "    \n",
        "class DecoderRNN(nn.Module):\n",
        "    def __init__(self, hidden_size, output_size):\n",
        "        super(DecoderRNN, self).__init__()\n",
        "        self.hidden_size = hidden_size\n",
        "\n",
        "        self.embedding = nn.Embedding(output_size, hidden_size)\n",
        "        self.gru = nn.GRU(hidden_size, hidden_size)\n",
        "        self.out = nn.Linear(hidden_size, output_size)\n",
        "        self.softmax = nn.LogSoftmax(dim=1)\n",
        "\n",
        "    def forward(self, input, hidden):\n",
        "        output = self.embedding(input).view(1, 1, -1)\n",
        "        output = F.relu(output)\n",
        "        output, hidden = self.gru(output, hidden)\n",
        "        output = self.softmax(self.out(output[0]))\n",
        "        return output, hidden\n",
        "\n",
        "    def initHidden(self):\n",
        "        return torch.zeros(1, 1, self.hidden_size, device=mydevice)"
      ],
      "execution_count": 0,
      "outputs": []
    },
    {
      "cell_type": "code",
      "metadata": {
        "id": "Ly5qydMKc8Ds",
        "colab_type": "code",
        "colab": {}
      },
      "source": [
        "# DO NOT MODIFY\n",
        "\n",
        "def train(input_tensor, target_tensor, encoder, decoder, encoder_optimizer, decoder_optimizer, criterion,\n",
        "          max_length=MAX_LEN, teacher_forcing_ratio=0.5):\n",
        "    \n",
        "    # get an initial hidden state for the encoder\n",
        "    encoder_hidden = encoder.initHidden()\n",
        "\n",
        "    # zero the gradients of the optimizers\n",
        "    encoder_optimizer.zero_grad()\n",
        "    decoder_optimizer.zero_grad()\n",
        "\n",
        "    # get the seq lengths, used for iterating through encoder/decoder\n",
        "    input_length = input_tensor.size(0)\n",
        "    target_length = target_tensor.size(0)\n",
        "\n",
        "    # create empty tensor to fill with encoder outputs\n",
        "    encoder_outputs = torch.zeros(max_length, encoder.hidden_size, device=mydevice)\n",
        "\n",
        "    # create a variable for loss\n",
        "    loss = 0\n",
        "    \n",
        "    # pass the inputs through the encoder\n",
        "    for ei in range(input_length):\n",
        "        encoder_output, encoder_hidden = encoder(input_tensor[ei], encoder_hidden)\n",
        "        encoder_outputs[ei] = encoder_output[0, 0]\n",
        "\n",
        "    # create a start-of-sequence tensor for the decoder\n",
        "    decoder_input = torch.tensor([[output_vocab.stoi[SOS_TOKEN]]], device=mydevice)\n",
        "\n",
        "    # set the decoder hidden state to the final encoder hidden state\n",
        "    decoder_hidden = encoder_hidden\n",
        "\n",
        "    # decide if we will use teacher forcing\n",
        "    use_teacher_forcing = True if random.random() < teacher_forcing_ratio else False\n",
        "\n",
        "    for di in range(target_length):\n",
        "        decoder_output, decoder_hidden = decoder(decoder_input, decoder_hidden)\n",
        "        \n",
        "        topv, topi = decoder_output.topk(1)\n",
        "        decoder_input = topi.squeeze().detach()  # detach from history as input\n",
        "                \n",
        "        loss += criterion(decoder_output, target_tensor[di].unsqueeze(0))\n",
        "        \n",
        "        if use_teacher_forcing:\n",
        "            decoder_input = target_tensor[di]\n",
        "        \n",
        "        if decoder_input.item() == output_vocab.stoi[EOS_TOKEN]:\n",
        "                break\n",
        "\n",
        "    loss.backward()\n",
        "\n",
        "    encoder_optimizer.step()\n",
        "    decoder_optimizer.step()\n",
        "\n",
        "    return loss.item() / target_length"
      ],
      "execution_count": 0,
      "outputs": []
    },
    {
      "cell_type": "code",
      "metadata": {
        "id": "UywEYqKNc8Dw",
        "colab_type": "code",
        "colab": {}
      },
      "source": [
        "# You may modify this cell\n",
        "\n",
        "def trainIters(encoder, decoder, n_iters, print_every=1000, learning_rate=0.01, teacher_forcing_ratio=0.5):\n",
        "    print(f'Running {n_iters} epochs...')\n",
        "    print_loss_total = 0\n",
        "    print_loss_epoch = 0\n",
        "\n",
        "    encoder_optim = optim.SGD(encoder.parameters(), lr=learning_rate)\n",
        "    decoder_optim = optim.SGD(decoder.parameters(), lr=learning_rate)\n",
        "\n",
        "    # note batch size of 1, just for simplicity\n",
        "    # DO NOT INCREASE THE BATCH SIZE\n",
        "    batch_iterator = torchtext.data.Iterator(\n",
        "        dataset=data_train, batch_size=1,\n",
        "        sort=False, sort_within_batch=True,\n",
        "        sort_key=lambda x: len(x.src),\n",
        "        device=mydevice, repeat=False)\n",
        "    \n",
        "\n",
        "    criterion = nn.NLLLoss()\n",
        "\n",
        "    for e in range(n_iters):\n",
        "        batch_generator = batch_iterator.__iter__()\n",
        "        step = 0\n",
        "        start = time.time()\n",
        "        for batch in batch_generator:\n",
        "            step += 1\n",
        "            \n",
        "            # get the input and target from the batch iterator\n",
        "            input_tensor, input_lengths = getattr(batch, 'src')\n",
        "            target_tensor = getattr(batch, 'tgt')\n",
        "            \n",
        "            # this is because we're not actually using the batches.\n",
        "            # batch size is 1 and this just selects that first one\n",
        "            input_tensor = input_tensor[0]\n",
        "            target_tensor = target_tensor[0]\n",
        "\n",
        "            loss = train(input_tensor, target_tensor, encoder, decoder, encoder_optim, decoder_optim, criterion, teacher_forcing_ratio=teacher_forcing_ratio)\n",
        "            print_loss_total += loss\n",
        "            print_loss_epoch += loss\n",
        "            \n",
        "\n",
        "            if step % print_every == 0:\n",
        "                print_loss_avg = print_loss_total / print_every\n",
        "                print_loss_total = 0\n",
        "                t = (time.time() - start) / 60\n",
        "                print(f'step: {step}\\t avg loss: {print_loss_avg:.2f}\\t time for {print_every} steps: {t:.2f} min')\n",
        "                start = time.time()\n",
        "        \n",
        "        print_loss_avg = print_loss_epoch / step\n",
        "        print_loss_epoch = 0\n",
        "        print(f'End of epoch {e}, avg loss {print_loss_avg:.2f}')  "
      ],
      "execution_count": 0,
      "outputs": []
    },
    {
      "cell_type": "markdown",
      "metadata": {
        "id": "Zjn6DR-Fc8Dz",
        "colab_type": "text"
      },
      "source": [
        "### 2. Create and train a model"
      ]
    },
    {
      "cell_type": "code",
      "metadata": {
        "id": "XN5yLil1c8D0",
        "colab_type": "code",
        "colab": {}
      },
      "source": [
        "# You may modify this cell\n",
        "\n",
        "hidden_size = 128\n",
        "encoder1 = EncoderRNN(len(input_vocab), hidden_size).to(mydevice)\n",
        "decoder1 = DecoderRNN(hidden_size, len(output_vocab)).to(mydevice)"
      ],
      "execution_count": 0,
      "outputs": []
    },
    {
      "cell_type": "markdown",
      "metadata": {
        "id": "faW9JDFyc8D6",
        "colab_type": "text"
      },
      "source": [
        "Here are some guidelines for how much training to expect. Note that these *guidelines*; they are not exact.\n",
        "\n",
        "Only 1 epoch is needed for the number reversal dataset. This produces near-perfect results, and should take less than 5 minutes to run on a CPU.\n",
        "\n",
        "To memorize ~5 examples of the e2e dataset, ~100 epochs are needed (with a high teacher forcing ratio). This produces near-perfect results.\n",
        "\n",
        "To train on the full e2e dataset, only 1 epoch is needed to see decent outputs on the training data. More are required to increase fluency and see improvements on the development data."
      ]
    },
    {
      "cell_type": "code",
      "metadata": {
        "id": "yQW-oI8vc8D7",
        "colab_type": "code",
        "outputId": "4f14b804-a253-494c-a49a-eb77ca29a73a",
        "colab": {
          "base_uri": "https://localhost:8080/",
          "height": 765
        }
      },
      "source": [
        "# # You may modify this cell\n",
        "# # but be sure that it prints some indication of how training is progressing\n",
        "\n",
        "# trainIters(encoder1, decoder1, 1, print_every=1000, teacher_forcing_ratio=0.75)"
      ],
      "execution_count": 17,
      "outputs": [
        {
          "output_type": "stream",
          "text": [
            "Running 1 epochs...\n",
            "step: 1000\t avg loss: 4.26\t time for 1000 steps: 0.41 min\n",
            "step: 2000\t avg loss: 3.52\t time for 1000 steps: 0.41 min\n",
            "step: 3000\t avg loss: 3.45\t time for 1000 steps: 0.41 min\n",
            "step: 4000\t avg loss: 3.23\t time for 1000 steps: 0.42 min\n",
            "step: 5000\t avg loss: 3.11\t time for 1000 steps: 0.42 min\n",
            "step: 6000\t avg loss: 3.08\t time for 1000 steps: 0.42 min\n",
            "step: 7000\t avg loss: 2.91\t time for 1000 steps: 0.41 min\n",
            "step: 8000\t avg loss: 2.87\t time for 1000 steps: 0.42 min\n",
            "step: 9000\t avg loss: 2.81\t time for 1000 steps: 0.41 min\n",
            "step: 10000\t avg loss: 2.74\t time for 1000 steps: 0.41 min\n",
            "step: 11000\t avg loss: 2.75\t time for 1000 steps: 0.41 min\n",
            "step: 12000\t avg loss: 2.62\t time for 1000 steps: 0.42 min\n",
            "step: 13000\t avg loss: 2.71\t time for 1000 steps: 0.42 min\n",
            "step: 14000\t avg loss: 2.67\t time for 1000 steps: 0.41 min\n",
            "step: 15000\t avg loss: 2.64\t time for 1000 steps: 0.41 min\n",
            "step: 16000\t avg loss: 2.54\t time for 1000 steps: 0.42 min\n",
            "step: 17000\t avg loss: 2.67\t time for 1000 steps: 0.41 min\n",
            "step: 18000\t avg loss: 2.56\t time for 1000 steps: 0.41 min\n",
            "step: 19000\t avg loss: 2.56\t time for 1000 steps: 0.41 min\n",
            "step: 20000\t avg loss: 2.50\t time for 1000 steps: 0.42 min\n",
            "step: 21000\t avg loss: 2.49\t time for 1000 steps: 0.41 min\n",
            "step: 22000\t avg loss: 2.48\t time for 1000 steps: 0.42 min\n",
            "step: 23000\t avg loss: 2.38\t time for 1000 steps: 0.41 min\n",
            "step: 24000\t avg loss: 2.43\t time for 1000 steps: 0.42 min\n",
            "step: 25000\t avg loss: 2.40\t time for 1000 steps: 0.43 min\n",
            "step: 26000\t avg loss: 2.40\t time for 1000 steps: 0.42 min\n",
            "step: 27000\t avg loss: 2.40\t time for 1000 steps: 0.42 min\n",
            "step: 28000\t avg loss: 2.36\t time for 1000 steps: 0.42 min\n",
            "step: 29000\t avg loss: 2.42\t time for 1000 steps: 0.41 min\n",
            "step: 30000\t avg loss: 2.39\t time for 1000 steps: 0.41 min\n",
            "step: 31000\t avg loss: 2.41\t time for 1000 steps: 0.42 min\n",
            "step: 32000\t avg loss: 2.39\t time for 1000 steps: 0.41 min\n",
            "step: 33000\t avg loss: 2.40\t time for 1000 steps: 0.41 min\n",
            "step: 34000\t avg loss: 2.38\t time for 1000 steps: 0.42 min\n",
            "step: 35000\t avg loss: 2.31\t time for 1000 steps: 0.42 min\n",
            "step: 36000\t avg loss: 2.40\t time for 1000 steps: 0.42 min\n",
            "step: 37000\t avg loss: 2.35\t time for 1000 steps: 0.42 min\n",
            "step: 38000\t avg loss: 2.42\t time for 1000 steps: 0.42 min\n",
            "step: 39000\t avg loss: 2.37\t time for 1000 steps: 0.42 min\n",
            "step: 40000\t avg loss: 2.34\t time for 1000 steps: 0.41 min\n",
            "step: 41000\t avg loss: 2.28\t time for 1000 steps: 0.43 min\n",
            "step: 42000\t avg loss: 2.33\t time for 1000 steps: 0.42 min\n",
            "End of epoch 0, avg loss 2.64\n"
          ],
          "name": "stdout"
        }
      ]
    },
    {
      "cell_type": "code",
      "metadata": {
        "id": "d4yXnma6c8D-",
        "colab_type": "code",
        "colab": {}
      },
      "source": [
        "# WRITE YOUR CODE FOR SAVING YOUR MODEL HERE\n",
        "ENCODER_PATH = '/content/gdrive/My Drive/NLP/hw4/encoder.dict'\n",
        "DECODER_PATH = '/content/gdrive/My Drive/NLP/hw4/decoder.dict'"
      ],
      "execution_count": 0,
      "outputs": []
    },
    {
      "cell_type": "code",
      "metadata": {
        "id": "DaKIznPI4TSc",
        "colab_type": "code",
        "colab": {}
      },
      "source": [
        "# torch.save(encoder1.state_dict(), ENCODER_PATH)\n",
        "# torch.save(decoder1.state_dict(), DECODER_PATH)"
      ],
      "execution_count": 0,
      "outputs": []
    },
    {
      "cell_type": "code",
      "metadata": {
        "id": "mT9NKZTQ4QMg",
        "colab_type": "code",
        "colab": {
          "base_uri": "https://localhost:8080/",
          "height": 34
        },
        "outputId": "2378be20-daa4-4e0b-bec4-1a8a8364f8a8"
      },
      "source": [
        "# We encourage you to confirm that you can load your trained model here also\n",
        "encoder = EncoderRNN(len(input_vocab), hidden_size).to(mydevice)\n",
        "decoder = DecoderRNN(hidden_size, len(output_vocab)).to(mydevice)\n",
        "encoder.load_state_dict(torch.load(ENCODER_PATH))\n",
        "decoder.load_state_dict(torch.load(DECODER_PATH))"
      ],
      "execution_count": 23,
      "outputs": [
        {
          "output_type": "execute_result",
          "data": {
            "text/plain": [
              "<All keys matched successfully>"
            ]
          },
          "metadata": {
            "tags": []
          },
          "execution_count": 23
        }
      ]
    },
    {
      "cell_type": "code",
      "metadata": {
        "id": "6Cnz2XE0c8EB",
        "colab_type": "code",
        "colab": {}
      },
      "source": [
        "# DO NOT MODIFY\n",
        "\n",
        "def evaluate(encoder, decoder, sentence, max_length=MAX_LEN):\n",
        "    with torch.no_grad():\n",
        "        input_tensor = torch.tensor([input_vocab.stoi[word] for word in sentence], device=mydevice)\n",
        "        input_length = input_tensor.size()[0]\n",
        "        encoder_hidden = encoder.initHidden()\n",
        "\n",
        "        encoder_outputs = torch.zeros(max_length, encoder.hidden_size, device=mydevice)\n",
        "\n",
        "        for ei in range(input_length):\n",
        "            encoder_output, encoder_hidden = encoder(input_tensor[ei], encoder_hidden)\n",
        "            encoder_outputs[ei] += encoder_output[0, 0]\n",
        "\n",
        "        decoder_input = torch.tensor([[output_vocab.stoi[SOS_TOKEN]]], device=mydevice)\n",
        "\n",
        "        decoder_hidden = encoder_hidden\n",
        "\n",
        "        decoded_words = []\n",
        "\n",
        "        for di in range(max_length):\n",
        "            decoder_output, decoder_hidden = decoder(decoder_input, decoder_hidden)\n",
        "            topv, topi = decoder_output.data.topk(1)\n",
        "            next_word = output_vocab.itos[topi.item()]\n",
        "            decoded_words.append(next_word)\n",
        "            if next_word == EOS_TOKEN:\n",
        "                break\n",
        "\n",
        "            decoder_input = topi.squeeze().detach()\n",
        "\n",
        "        return decoded_words"
      ],
      "execution_count": 0,
      "outputs": []
    },
    {
      "cell_type": "code",
      "metadata": {
        "id": "ZGLpltixh3HK",
        "colab_type": "code",
        "colab": {}
      },
      "source": [
        "# for i in range(5):\n",
        "#     item = random.choice(data_train.examples)\n",
        "#     seq = item.src\n",
        "#     print(seq)\n",
        "#     words = evaluate(encoder_loaded, decoder_loaded, seq)\n",
        "#     print(' '.join(words))\n",
        "#     print()"
      ],
      "execution_count": 0,
      "outputs": []
    },
    {
      "cell_type": "markdown",
      "metadata": {
        "id": "o4_Op_dJc8EI",
        "colab_type": "text"
      },
      "source": [
        "### 3. Implement beam search evaluator\n",
        "\n",
        "Be sure to return all the output sequences (i.e. if the beam size is k, you should return k sequences) and their associated probabilities. You will need the associated probabilities to select the best performing sequence when calculating BLEU."
      ]
    },
    {
      "cell_type": "code",
      "metadata": {
        "id": "WyeArfhZc8EJ",
        "colab_type": "code",
        "colab": {}
      },
      "source": [
        "# WRITE YOUR CODE FOR BEAM SEARCH HERE\n",
        "\n",
        "# The output of this cell should be an example input from the dev set, \n",
        "# and three outputs from a beam search evaluator.\n",
        "\n",
        "def evaluate_beam_search(encoder, decoder, sentence, max_length=MAX_LEN, beam_size=3):\n",
        "    with torch.no_grad():\n",
        "        input_tensor = torch.tensor([input_vocab.stoi[word] for word in sentence], device=mydevice)\n",
        "        input_length = input_tensor.size()[0]\n",
        "        encoder_hidden = encoder.initHidden()\n",
        "        encoder_outputs = torch.zeros(max_length, encoder.hidden_size, device=mydevice)\n",
        "        for ei in range(input_length):\n",
        "            encoder_output, encoder_hidden = encoder(input_tensor[ei], encoder_hidden)\n",
        "            encoder_outputs[ei] += encoder_output[0, 0]\n",
        "\n",
        "        decoder_input = torch.tensor([[output_vocab.stoi[SOS_TOKEN]]], device=mydevice)\n",
        "        decoder_hidden = encoder_hidden\n",
        "\n",
        "        # Above are the same with greedy evaluate.\n",
        "####################################################################\n",
        "        # Initialize the beams\n",
        "        beams = [] #First element is sequence of tokens, second is corresponding log likelihood.\n",
        "        decoder_output, decoder_hidden = decoder(decoder_input, decoder_hidden)\n",
        "        topv, topi = decoder_output.data.topk(beam_size)\n",
        "        for i in range(beam_size):\n",
        "            beams.append([[topi[0][i]], topv[0][i].item()])\n",
        "\n",
        "        # Since above has run 1 decoder, here run max_length-1 times.\n",
        "        for di in range(max_length-1):\n",
        "            candidates = [] # Store k*k candidate seqs.\n",
        "            for ibeam in beams:\n",
        "                decoder_input = ibeam[0][-1] # Take last word in beam seq as input\n",
        "                # If current beam has ended, add it to candidates without expanding\n",
        "                if output_vocab.itos[decoder_input] == EOS_TOKEN:\n",
        "                    candidates.append(ibeam)\n",
        "                    continue \n",
        "                decoder_output, decoder_hidden = decoder(decoder_input, decoder_hidden)\n",
        "                topv, topi = decoder_output.data.topk(beam_size)\n",
        "                # Add the new words to seqs\n",
        "                for i in range(beam_size):\n",
        "                    candidates.append([ibeam[0]+[topi[0][i]], ibeam[1]+topv[0][i].item()])\n",
        "                    # Since the output of decoder is log likelihood, use summation.\n",
        "            # Choose top k seqs according to length-normalized log-likelihood.\n",
        "            if candidates:\n",
        "                beams = sorted(candidates, key=lambda x:x[1]/len(x[0]), reverse=True)[:beam_size]\n",
        "\n",
        "        # Transform tokens into words:\n",
        "        decoded_words = []\n",
        "        for i in range(beam_size):\n",
        "            tmp_words = []\n",
        "            for j in beams[i][0]:\n",
        "                tmp_words.append(output_vocab.itos[j])\n",
        "            decoded_words.append(tmp_words)\n",
        "\n",
        "        return decoded_words"
      ],
      "execution_count": 0,
      "outputs": []
    },
    {
      "cell_type": "code",
      "metadata": {
        "id": "yRaOcsFV1bJN",
        "colab_type": "code",
        "colab": {}
      },
      "source": [
        "# # test beam search1\n",
        "# # paras\n",
        "# sentence = random.choice(data_train.examples).src\n",
        "# max_length=MAX_LEN\n",
        "# beam_size=3\n",
        "\n",
        "# #code\n",
        "# input_tensor = torch.tensor([input_vocab.stoi[word] for word in sentence], device=mydevice)\n",
        "# input_length = input_tensor.size()[0]\n",
        "# encoder_hidden = encoder.initHidden()\n",
        "\n",
        "# encoder_outputs = torch.zeros(max_length, encoder.hidden_size, device=mydevice)\n",
        "\n",
        "# for ei in range(input_length):\n",
        "#     encoder_output, encoder_hidden = encoder(input_tensor[ei], encoder_hidden)\n",
        "#     encoder_outputs[ei] += encoder_output[0, 0]\n",
        "\n",
        "# decoder_input = torch.tensor([[output_vocab.stoi[SOS_TOKEN]]], device=mydevice)\n",
        "\n",
        "# decoder_hidden = encoder_hidden"
      ],
      "execution_count": 0,
      "outputs": []
    },
    {
      "cell_type": "code",
      "metadata": {
        "id": "3sZieezY19ZL",
        "colab_type": "code",
        "colab": {}
      },
      "source": [
        "# # test beam search1\n",
        "# beams = [] #first element is sequence, second is corresponding log likelihood.\n",
        "\n",
        "# decoder_input = torch.tensor([[output_vocab.stoi[SOS_TOKEN]]], device=mydevice)\n",
        "# decoder_hidden = encoder_hidden\n",
        "# decoder_output, decoder_hidden = decoder(decoder_input, decoder_hidden)\n",
        "# topv, topi = decoder_output.data.topk(beam_size)\n",
        "\n",
        "# for i in range(beam_size):\n",
        "#     beams.append([[topi[0][i]], topv[0][i].item()])\n",
        "# print(beams)\n",
        "# for di in range(max_length-1):\n",
        "#     candidates = []\n",
        "#     for ibeam in beams:\n",
        "#         decoder_input = ibeam[0][-1]\n",
        "#         if output_vocab.itos[decoder_input] == EOS_TOKEN:\n",
        "#             candidates.append(ibeam)\n",
        "#             continue\n",
        "#         decoder_output, decoder_hidden = decoder(decoder_input, decoder_hidden)\n",
        "#         topv, topi = decoder_output.data.topk(beam_size)\n",
        "#         for i in range(beam_size):\n",
        "#             candidates.append([ibeam[0]+[topi[0][i]], ibeam[1]+topv[0][i].item()])\n",
        "#     if candidates:\n",
        "#         beams = sorted(candidates, key=lambda x:x[1]/len(x[0]), reverse=True)[:beam_size]\n",
        "#     #print(beams)\n",
        "# test = []\n",
        "# for i in beams[0][0]:\n",
        "#     test.append(output_vocab.itos[i])\n",
        "# print(np.shape(test),test)\n",
        "# test = []\n",
        "# for i in beams[1][0]:\n",
        "#     test.append(output_vocab.itos[i])\n",
        "# print(np.shape(test),test)\n",
        "# test = []\n",
        "# for i in beams[2][0]:\n",
        "#     test.append(output_vocab.itos[i])\n",
        "# print(np.shape(test),test)\n",
        "#     # decoder_input = topi.squeeze().detach()"
      ],
      "execution_count": 0,
      "outputs": []
    },
    {
      "cell_type": "markdown",
      "metadata": {
        "id": "I7I4NKdEc8EM",
        "colab_type": "text"
      },
      "source": [
        "Have a look at some generated sequences! This is the fun part."
      ]
    },
    {
      "cell_type": "code",
      "metadata": {
        "id": "D6toQm7Wc8EQ",
        "colab_type": "code",
        "outputId": "8c49f3b6-7c47-496a-d354-f05533dc96b4",
        "colab": {
          "base_uri": "https://localhost:8080/",
          "height": 292
        }
      },
      "source": [
        "# You may modify this cell\n",
        "\n",
        "# This selects 5 random datapoints from the training data and shows the generated sequence\n",
        "\n",
        "for i in range(5):\n",
        "    item = random.choice(data_train.examples)\n",
        "    seq = item.src\n",
        "    print(seq)\n",
        "    words = evaluate(encoder1, decoder1, seq)\n",
        "    print(' '.join(words))\n",
        "    print()"
      ],
      "execution_count": 29,
      "outputs": [
        {
          "output_type": "stream",
          "text": [
            "['name[The Waterman]', 'food[French]', 'priceRange[high]', 'customer rating[3 out of 5]', 'area[riverside]', 'familyFriendly[yes]']\n",
            "<sos> The Waterman is a children friendly restaurant with a high customer rating and is located in the riverside area <eos>\n",
            "\n",
            "['name[Loch Fyne]', 'food[Italian]', 'customer rating[3 out of 5]', 'area[riverside]', 'near[The Rice Boat]']\n",
            "<sos> Loch Fyne is a Italian restaurant near The Rice Boat <eos>\n",
            "\n",
            "['name[The Dumpling Tree]', 'eatType[pub]', 'food[Fast food]', 'familyFriendly[yes]', 'near[The Portland Arms]']\n",
            "<sos> The Dumpling Tree is a pub near The Portland Arms <eos>\n",
            "\n",
            "['name[The Rice Boat]', 'food[Indian]', 'customer rating[low]', 'area[city centre]', 'familyFriendly[no]']\n",
            "<sos> The Rice Boat is a family-friendly Indian restaurant in the city centre is the <eos>\n",
            "\n",
            "['name[The Waterman]', 'eatType[pub]', 'food[French]', 'customer rating[3 out of 5]', 'area[riverside]']\n",
            "<sos> The Waterman is a pub providing French food in the riverside area <eos>\n",
            "\n"
          ],
          "name": "stdout"
        }
      ]
    },
    {
      "cell_type": "markdown",
      "metadata": {
        "id": "yFKV338Lc8EU",
        "colab_type": "text"
      },
      "source": [
        "### 4. Implement BLEU evaluator\n",
        "\n",
        "Remember that when calculating BLEU using beam search, select the top-scoring sequence output using the model probability."
      ]
    },
    {
      "cell_type": "code",
      "metadata": {
        "id": "EzRuVq_Kc8EV",
        "colab_type": "code",
        "colab": {
          "base_uri": "https://localhost:8080/",
          "height": 34
        },
        "outputId": "b0d601b4-bc70-4e4b-e4e8-b5d18f0188e7"
      },
      "source": [
        "# WRITE YOUR CODE FOR THE BLEU EVALUATION HERE\n",
        "# Get the src-tgt dictionary  in dev data.\n",
        "dev_dict = {}\n",
        "for i in data_dev.examples:\n",
        "    if tuple(i.src) not in dev_dict:\n",
        "        dev_dict[tuple(i.src)] = [i.tgt]\n",
        "    else:\n",
        "        dev_dict[tuple(i.src)] = dev_dict[tuple(i.src)]+[i.tgt]\n",
        "print(len(dev_dict))"
      ],
      "execution_count": 30,
      "outputs": [
        {
          "output_type": "stream",
          "text": [
            "547\n"
          ],
          "name": "stdout"
        }
      ]
    },
    {
      "cell_type": "code",
      "metadata": {
        "id": "0daxRRO_NcD2",
        "colab_type": "code",
        "colab": {}
      },
      "source": [
        "# # test the src-tgt dictionary \n",
        "# i = 0\n",
        "# for key, value in dev_dict.items():\n",
        "#     if i>1: break\n",
        "#     print(key, len(value))\n",
        "#     i += 1"
      ],
      "execution_count": 0,
      "outputs": []
    },
    {
      "cell_type": "code",
      "metadata": {
        "colab_type": "code",
        "id": "oIXCa-ZGfo_r",
        "colab": {}
      },
      "source": [
        "# The output of this cell should be the average BLEU score on the dev set\n",
        "# for greedy decoding AND for beam search decoding (beam size = 3)\n",
        "def BLEU(src, tgt_lists, encoder, decoder, evaluate=greedy, beam_size=3):\n",
        "    if evaluate == greedy:\n",
        "        words = evaluate(encoder, decoder, src)\n",
        "        # remove sos and eos from candidates.\n",
        "        if EOS_TOKEN in words:\n",
        "            words.remove(EOS_TOKEN)\n",
        "        if SOS_TOKEN in words:\n",
        "            words.remove(SOS_TOKEN)\n",
        "        candidate = ' '.join(words)\n",
        "\n",
        "\n",
        "         seq = item.src\n",
        "#     print(seq)\n",
        "#     words = evaluate(encoder_loaded, decoder_loaded, seq)\n",
        "#     print(' '.join(words))\n",
        "#     #print(item.tgt)\n",
        "#     print(' '.join(item.tgt))\n",
        "#     print(sacrebleu.raw_corpus_bleu(' '.join(words), ' '.join(item.tgt)))"
      ],
      "execution_count": 0,
      "outputs": []
    },
    {
      "cell_type": "code",
      "metadata": {
        "id": "TXHFnDRRRy7i",
        "colab_type": "code",
        "colab": {}
      },
      "source": [
        ""
      ],
      "execution_count": 0,
      "outputs": []
    },
    {
      "cell_type": "code",
      "metadata": {
        "id": "ahVGJWaWRy12",
        "colab_type": "code",
        "colab": {}
      },
      "source": [
        ""
      ],
      "execution_count": 0,
      "outputs": []
    },
    {
      "cell_type": "code",
      "metadata": {
        "id": "Ynk529psd0C7",
        "colab_type": "code",
        "colab": {}
      },
      "source": [
        "# test with bleu library\n",
        "#!pip install sacrebleu"
      ],
      "execution_count": 0,
      "outputs": []
    },
    {
      "cell_type": "code",
      "metadata": {
        "id": "cWVXuokf4kCa",
        "colab_type": "code",
        "colab": {}
      },
      "source": [
        "# import sacrebleu\n",
        "# for i in range(5):\n",
        "#     item = random.choice(data_dev.examples)\n",
        "#     seq = item.src\n",
        "#     print(seq)\n",
        "#     words = evaluate(encoder_loaded, decoder_loaded, seq)\n",
        "#     print(' '.join(words))\n",
        "#     #print(item.tgt)\n",
        "#     print(' '.join(item.tgt))\n",
        "#     print(sacrebleu.raw_corpus_bleu(' '.join(words), ' '.join(item.tgt)))\n",
        "#     print()"
      ],
      "execution_count": 0,
      "outputs": []
    },
    {
      "cell_type": "code",
      "metadata": {
        "id": "nbipSc-B46Fl",
        "colab_type": "code",
        "colab": {}
      },
      "source": [
        "import sacrebleu\n",
        "#for i in range(5):\n",
        "item = random.choice(data_dev.examples)\n",
        "seq = item.src\n",
        "print(seq)\n",
        "words = evaluate(encoder, decoder, seq)\n",
        "print(' '.join(words))\n",
        "#print(item.tgt)\n",
        "print(' '.join(item.tgt))\n",
        "print(sacrebleu.raw_corpus_bleu(' '.join(words), ' '.join(item.tgt)))\n"
      ],
      "execution_count": 0,
      "outputs": []
    },
    {
      "cell_type": "code",
      "metadata": {
        "id": "JmUg6zrqF8ig",
        "colab_type": "code",
        "colab": {}
      },
      "source": [
        "words_2 = evaluate_beam_search(encoder, decoder,seq)\n",
        "for i in words_2:\n",
        "    print(' '.join(i))\n",
        "    print(sacrebleu.raw_corpus_bleu(' '.join(i), ' '.join(item.tgt)))"
      ],
      "execution_count": 0,
      "outputs": []
    },
    {
      "cell_type": "code",
      "metadata": {
        "id": "0vCe0DqeGqZM",
        "colab_type": "code",
        "colab": {}
      },
      "source": [
        ""
      ],
      "execution_count": 0,
      "outputs": []
    }
  ]
}