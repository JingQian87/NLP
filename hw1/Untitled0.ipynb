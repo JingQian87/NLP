{
  "nbformat": 4,
  "nbformat_minor": 0,
  "metadata": {
    "colab": {
      "name": "Untitled0.ipynb",
      "provenance": []
    },
    "kernelspec": {
      "name": "python3",
      "display_name": "Python 3"
    }
  },
  "cells": [
    {
      "cell_type": "code",
      "metadata": {
        "id": "lRcqh-SXx-R-",
        "colab_type": "code",
        "outputId": "d8f506f7-4177-4cc6-ea21-cd11351b2622",
        "colab": {
          "base_uri": "https://localhost:8080/",
          "height": 122
        }
      },
      "source": [
        "from google.colab import drive\n",
        "drive.mount('/content/gdrive')"
      ],
      "execution_count": 0,
      "outputs": [
        {
          "output_type": "stream",
          "text": [
            "Go to this URL in a browser: https://accounts.google.com/o/oauth2/auth?client_id=947318989803-6bn6qk8qdgf4n4g3pfee6491hc0brc4i.apps.googleusercontent.com&redirect_uri=urn%3Aietf%3Awg%3Aoauth%3A2.0%3Aoob&scope=email%20https%3A%2F%2Fwww.googleapis.com%2Fauth%2Fdocs.test%20https%3A%2F%2Fwww.googleapis.com%2Fauth%2Fdrive%20https%3A%2F%2Fwww.googleapis.com%2Fauth%2Fdrive.photos.readonly%20https%3A%2F%2Fwww.googleapis.com%2Fauth%2Fpeopleapi.readonly&response_type=code\n",
            "\n",
            "Enter your authorization code:\n",
            "··········\n",
            "Mounted at /content/gdrive\n"
          ],
          "name": "stdout"
        }
      ]
    },
    {
      "cell_type": "code",
      "metadata": {
        "id": "G5Wcoxb7yB5e",
        "colab_type": "code",
        "colab": {}
      },
      "source": [
        "import numpy as np\n",
        "import nltk\n",
        "import pandas as pd\n",
        "\n",
        "data = pd.read_csv('/content/gdrive/My Drive/NLP/stance-data.csv')"
      ],
      "execution_count": 0,
      "outputs": []
    },
    {
      "cell_type": "code",
      "metadata": {
        "id": "wvy7VMw8z2Tc",
        "colab_type": "code",
        "colab": {}
      },
      "source": [
        "target_names = ['pro', 'con']\n",
        "k = 5"
      ],
      "execution_count": 0,
      "outputs": []
    },
    {
      "cell_type": "code",
      "metadata": {
        "id": "ckuTonuSyJZ3",
        "colab_type": "code",
        "colab": {}
      },
      "source": [
        "topic = \"gay rights\"\n",
        "data = data[data.topic==\"gay rights\"][[\"post_text\",\"label\"]]\n",
        "np.random.seed(10)\n",
        "shuffled_data = np.random.permutation(data)"
      ],
      "execution_count": 0,
      "outputs": []
    },
    {
      "cell_type": "code",
      "metadata": {
        "id": "Kurt4P_NzEZt",
        "colab_type": "code",
        "outputId": "8051b74a-ed9b-461e-ea33-7e6f6144512a",
        "colab": {
          "base_uri": "https://localhost:8080/",
          "height": 34
        }
      },
      "source": [
        "np.shape(shuffled_data)"
      ],
      "execution_count": 0,
      "outputs": [
        {
          "output_type": "execute_result",
          "data": {
            "text/plain": [
              "(1359, 2)"
            ]
          },
          "metadata": {
            "tags": []
          },
          "execution_count": 8
        }
      ]
    },
    {
      "cell_type": "code",
      "metadata": {
        "id": "9JuZDNZ-yQEZ",
        "colab_type": "code",
        "outputId": "7d7c3f17-fe6b-436d-d004-54d5ab4b9a54",
        "colab": {
          "base_uri": "https://localhost:8080/",
          "height": 187
        }
      },
      "source": [
        "test_size = len(shuffled_data)//k\n",
        "for i in range(k):\n",
        "  print('fold: %d' %i)\n",
        "  test_data = shuffled_data[i*test_size:(i+1)*test_size]\n",
        "  train_data = np.vstack((shuffled_data[:i*test_size],shuffled_data[(i+1)*test_size:]))\n",
        "  print(np.shape(test_data), np.shape(train_data))\n"
      ],
      "execution_count": 0,
      "outputs": [
        {
          "output_type": "stream",
          "text": [
            "fold: 0\n",
            "0 271 (271, 2) (1088, 2)\n",
            "fold: 1\n",
            "271 542 (271, 2) (1088, 2)\n",
            "fold: 2\n",
            "542 813 (271, 2) (1088, 2)\n",
            "fold: 3\n",
            "813 1084 (271, 2) (1088, 2)\n",
            "fold: 4\n",
            "1084 1355 (271, 2) (1088, 2)\n"
          ],
          "name": "stdout"
        }
      ]
    },
    {
      "cell_type": "code",
      "metadata": {
        "id": "FuWSlVdQz9hv",
        "colab_type": "code",
        "colab": {}
      },
      "source": [
        "# Extract features:\n",
        "from sklearn.feature_extraction.text import CountVectorizer\n",
        "#t0 = time()\n",
        "num_features = 100\n",
        "cv = CountVectorizer(stop_words='english', ngram_range=(1,3), \n",
        "                     max_features=num_features)\n",
        "X_train = cv.fit_transform(train_data[:,0])\n",
        "X_test = cv.fit_transform(test_data[:,0])\n",
        "\n",
        "y_train = train_data[:,1]\n",
        "y_test = test_data[:,1]"
      ],
      "execution_count": 0,
      "outputs": []
    },
    {
      "cell_type": "code",
      "metadata": {
        "id": "_REGWsNn1CYm",
        "colab_type": "code",
        "colab": {}
      },
      "source": [
        "from sklearn.feature_extraction.text import CountVectorizer\n",
        "from sklearn.feature_extraction.text import TfidfTransformer\n",
        "from sklearn.naive_bayes import BernoulliNB, MultinomialNB\n",
        "from sklearn.pipeline import Pipeline\n",
        "from sklearn import metrics\n",
        "from sklearn.svm import LinearSVC\n",
        "text_clf = Pipeline([\n",
        "    ('vect', CountVectorizer(stop_words='english')),\n",
        "    ('tfidf', TfidfTransformer()),\n",
        "    ('clf', MultinomialNB()),\n",
        "])\n",
        "from sklearn.model_selection import GridSearchCV\n",
        "parameters = {\n",
        "    'vect__ngram_range':[(1,1),(1,2),(1,3),(1,4)],\n",
        "    'tfidf__use_idf':(True,False),\n",
        "    'clf__alpha':(1e-2,1e-3),\n",
        "}"
      ],
      "execution_count": 0,
      "outputs": []
    },
    {
      "cell_type": "code",
      "metadata": {
        "id": "cGev_Yau1cOE",
        "colab_type": "code",
        "colab": {}
      },
      "source": [
        "gs_clf = GridSearchCV(text_clf, parameters, cv=5, iid=False, n_jobs=-1)"
      ],
      "execution_count": 0,
      "outputs": []
    },
    {
      "cell_type": "code",
      "metadata": {
        "id": "VjTaG8gN0fbA",
        "colab_type": "code",
        "colab": {}
      },
      "source": [
        "gs_clf = gs_clf.fit(train_data[:,0],train_data[:,1])"
      ],
      "execution_count": 0,
      "outputs": []
    },
    {
      "cell_type": "code",
      "metadata": {
        "id": "Jwm3vYno2_yZ",
        "colab_type": "code",
        "outputId": "358140e0-faa8-4357-ccba-5e29d33c5f1b",
        "colab": {
          "base_uri": "https://localhost:8080/",
          "height": 34
        }
      },
      "source": [
        "gs_clf.best_score_"
      ],
      "execution_count": 0,
      "outputs": [
        {
          "output_type": "execute_result",
          "data": {
            "text/plain": [
              "0.5789593334526382"
            ]
          },
          "metadata": {
            "tags": []
          },
          "execution_count": 25
        }
      ]
    },
    {
      "cell_type": "code",
      "metadata": {
        "id": "9RHETjGJ3IzC",
        "colab_type": "code",
        "outputId": "7518068d-c9e6-4a79-c13a-3d8dd694b9b9",
        "colab": {
          "base_uri": "https://localhost:8080/",
          "height": 68
        }
      },
      "source": [
        "for param_name in sorted(parameters.keys()):\n",
        "  print(\"%s: %r\" % (param_name, gs_clf.best_params_[param_name]))"
      ],
      "execution_count": 0,
      "outputs": [
        {
          "output_type": "stream",
          "text": [
            "clf__alpha: 0.01\n",
            "tfidf__use_idf: False\n",
            "vect__ngram_range: (1, 1)\n"
          ],
          "name": "stdout"
        }
      ]
    },
    {
      "cell_type": "code",
      "metadata": {
        "id": "G-qlSLOd3_bS",
        "colab_type": "code",
        "colab": {}
      },
      "source": [
        "num_features = 10000\n",
        "def evaluate(clf, train, test):\n",
        "  cv = CountVectorizer(stop_words='english', ngram_range=(1,3),max_features=num_features)\n",
        "  trainX = cv.fit_transform(train[:,0])\n",
        "  testX = cv.fit_transform(test[:,0])\n",
        "  trainY = train[:,1]\n",
        "  testY = test[:,1]\n",
        "  print(\"X train shape:\", np.shape(trainX),\"Y train shape\", np.shape(trainY),\n",
        "       \"X test shape:\", np.shape(testX),\"Y test shape\", np.shape(testY))\n",
        "  \n",
        "  clf.fit(trainX, trainY)\n",
        "  pred = clf.predict(testX)\n",
        "  score = metrics.accuracy_score(testY, pred)\n",
        "  print(\"accuracy:   %0.3f\" % score)\n",
        "  print(\"classification report:\")\n",
        "  print(metrics.classification_report(testY, pred,target_names=target_names))\n",
        "  return score"
      ],
      "execution_count": 0,
      "outputs": []
    },
    {
      "cell_type": "code",
      "metadata": {
        "id": "xJNHdhKE3n9y",
        "colab_type": "code",
        "outputId": "51603041-e00e-4dcd-e179-e41676ed942b",
        "colab": {
          "base_uri": "https://localhost:8080/",
          "height": 1000
        }
      },
      "source": [
        "clf = BernoulliNB(alpha=.01)\n",
        "test_size = len(shuffled_data)//k\n",
        "score = 0\n",
        "for i in range(k):\n",
        "  print('fold: %d' %i)\n",
        "  test_data = shuffled_data[i*test_size:(i+1)*test_size]\n",
        "  train_data = np.vstack((shuffled_data[:i*test_size],shuffled_data[(i+1)*test_size:]))\n",
        "  print(np.shape(test_data), np.shape(train_data))\n",
        "  score += evaluate(clf, train_data, test_data)\n",
        "print(score/5)"
      ],
      "execution_count": 0,
      "outputs": [
        {
          "output_type": "stream",
          "text": [
            "fold: 0\n",
            "(271, 2) (1088, 2)\n",
            "X train shape: (1088, 10000) Y train shape (1088,) X test shape: (271, 10000) Y test shape (271,)\n",
            "accuracy:   0.635\n",
            "classification report:\n",
            "              precision    recall  f1-score   support\n",
            "\n",
            "         pro       0.45      0.21      0.29        95\n",
            "         con       0.67      0.86      0.75       176\n",
            "\n",
            "    accuracy                           0.63       271\n",
            "   macro avg       0.56      0.54      0.52       271\n",
            "weighted avg       0.59      0.63      0.59       271\n",
            "\n",
            "fold: 1\n",
            "(271, 2) (1088, 2)\n",
            "X train shape: (1088, 10000) Y train shape (1088,) X test shape: (271, 10000) Y test shape (271,)\n",
            "accuracy:   0.590\n",
            "classification report:\n",
            "              precision    recall  f1-score   support\n",
            "\n",
            "         pro       0.38      0.38      0.38        90\n",
            "         con       0.69      0.70      0.69       181\n",
            "\n",
            "    accuracy                           0.59       271\n",
            "   macro avg       0.54      0.54      0.54       271\n",
            "weighted avg       0.59      0.59      0.59       271\n",
            "\n",
            "fold: 2\n",
            "(271, 2) (1088, 2)\n",
            "X train shape: (1088, 10000) Y train shape (1088,) X test shape: (271, 10000) Y test shape (271,)\n",
            "accuracy:   0.579\n",
            "classification report:\n",
            "              precision    recall  f1-score   support\n",
            "\n",
            "         pro       0.37      0.26      0.30        96\n",
            "         con       0.65      0.75      0.70       175\n",
            "\n",
            "    accuracy                           0.58       271\n",
            "   macro avg       0.51      0.51      0.50       271\n",
            "weighted avg       0.55      0.58      0.56       271\n",
            "\n",
            "fold: 3\n",
            "(271, 2) (1088, 2)\n",
            "X train shape: (1088, 10000) Y train shape (1088,) X test shape: (271, 10000) Y test shape (271,)\n",
            "accuracy:   0.561\n",
            "classification report:\n",
            "              precision    recall  f1-score   support\n",
            "\n",
            "         pro       0.42      0.23      0.30       109\n",
            "         con       0.60      0.78      0.68       162\n",
            "\n",
            "    accuracy                           0.56       271\n",
            "   macro avg       0.51      0.51      0.49       271\n",
            "weighted avg       0.53      0.56      0.53       271\n",
            "\n",
            "fold: 4\n",
            "(271, 2) (1088, 2)\n",
            "X train shape: (1088, 10000) Y train shape (1088,) X test shape: (271, 10000) Y test shape (271,)\n",
            "accuracy:   0.565\n",
            "classification report:\n",
            "              precision    recall  f1-score   support\n",
            "\n",
            "         pro       0.33      0.22      0.26        96\n",
            "         con       0.64      0.75      0.69       175\n",
            "\n",
            "    accuracy                           0.56       271\n",
            "   macro avg       0.48      0.49      0.48       271\n",
            "weighted avg       0.53      0.56      0.54       271\n",
            "\n",
            "0.5859778597785977\n"
          ],
          "name": "stdout"
        }
      ]
    },
    {
      "cell_type": "code",
      "metadata": {
        "id": "g-Kw6_XT7S2e",
        "colab_type": "code",
        "outputId": "d4191f91-286f-40ac-afb7-f0d190891550",
        "colab": {
          "base_uri": "https://localhost:8080/",
          "height": 1000
        }
      },
      "source": [
        "clf = MultinomialNB(alpha=.01)\n",
        "test_size = len(shuffled_data)//k\n",
        "score = 0\n",
        "for i in range(k):\n",
        "  print('fold: %d' %i)\n",
        "  test_data = shuffled_data[i*test_size:(i+1)*test_size]\n",
        "  train_data = np.vstack((shuffled_data[:i*test_size],shuffled_data[(i+1)*test_size:]))\n",
        "  print(np.shape(test_data), np.shape(train_data))\n",
        "  score += evaluate(clf, train_data, test_data)\n",
        "print(score/5)"
      ],
      "execution_count": 0,
      "outputs": [
        {
          "output_type": "stream",
          "text": [
            "fold: 0\n",
            "(271, 2) (1088, 2)\n",
            "X train shape: (1088, 10000) Y train shape (1088,) X test shape: (271, 10000) Y test shape (271,)\n",
            "accuracy:   0.638\n",
            "classification report:\n",
            "              precision    recall  f1-score   support\n",
            "\n",
            "         pro       0.46      0.20      0.28        95\n",
            "         con       0.67      0.88      0.76       176\n",
            "\n",
            "    accuracy                           0.64       271\n",
            "   macro avg       0.57      0.54      0.52       271\n",
            "weighted avg       0.60      0.64      0.59       271\n",
            "\n",
            "fold: 1\n",
            "(271, 2) (1088, 2)\n",
            "X train shape: (1088, 10000) Y train shape (1088,) X test shape: (271, 10000) Y test shape (271,)\n",
            "accuracy:   0.587\n",
            "classification report:\n",
            "              precision    recall  f1-score   support\n",
            "\n",
            "         pro       0.39      0.41      0.40        90\n",
            "         con       0.70      0.67      0.69       181\n",
            "\n",
            "    accuracy                           0.59       271\n",
            "   macro avg       0.54      0.54      0.54       271\n",
            "weighted avg       0.59      0.59      0.59       271\n",
            "\n",
            "fold: 2\n",
            "(271, 2) (1088, 2)\n",
            "X train shape: (1088, 10000) Y train shape (1088,) X test shape: (271, 10000) Y test shape (271,)\n",
            "accuracy:   0.528\n",
            "classification report:\n",
            "              precision    recall  f1-score   support\n",
            "\n",
            "         pro       0.28      0.21      0.24        96\n",
            "         con       0.62      0.70      0.66       175\n",
            "\n",
            "    accuracy                           0.53       271\n",
            "   macro avg       0.45      0.46      0.45       271\n",
            "weighted avg       0.50      0.53      0.51       271\n",
            "\n",
            "fold: 3\n",
            "(271, 2) (1088, 2)\n",
            "X train shape: (1088, 10000) Y train shape (1088,) X test shape: (271, 10000) Y test shape (271,)\n",
            "accuracy:   0.572\n",
            "classification report:\n",
            "              precision    recall  f1-score   support\n",
            "\n",
            "         pro       0.46      0.34      0.39       109\n",
            "         con       0.62      0.73      0.67       162\n",
            "\n",
            "    accuracy                           0.57       271\n",
            "   macro avg       0.54      0.53      0.53       271\n",
            "weighted avg       0.55      0.57      0.56       271\n",
            "\n",
            "fold: 4\n",
            "(271, 2) (1088, 2)\n",
            "X train shape: (1088, 10000) Y train shape (1088,) X test shape: (271, 10000) Y test shape (271,)\n",
            "accuracy:   0.587\n",
            "classification report:\n",
            "              precision    recall  f1-score   support\n",
            "\n",
            "         pro       0.39      0.28      0.33        96\n",
            "         con       0.66      0.75      0.70       175\n",
            "\n",
            "    accuracy                           0.59       271\n",
            "   macro avg       0.52      0.52      0.51       271\n",
            "weighted avg       0.56      0.59      0.57       271\n",
            "\n",
            "0.5822878228782289\n"
          ],
          "name": "stdout"
        }
      ]
    },
    {
      "cell_type": "code",
      "metadata": {
        "id": "AtsV29UB7bBv",
        "colab_type": "code",
        "colab": {}
      },
      "source": [
        "clf = BernoulliNB(alpha=.01)\n",
        "test_size = len(shuffled_data)//k\n",
        "score = 0\n",
        "for i in range(k):\n",
        "  print('fold: %d' %i)\n",
        "  test_data = shuffled_data[i*test_size:(i+1)*test_size]\n",
        "  train_data = np.vstack((shuffled_data[:i*test_size],shuffled_data[(i+1)*test_size:]))\n",
        "  print(np.shape(test_data), np.shape(train_data))\n",
        "  score += evaluate(clf, train_data, test_data)\n",
        "print(score/5)"
      ],
      "execution_count": 0,
      "outputs": []
    },
    {
      "cell_type": "markdown",
      "metadata": {
        "id": "L5e4pMYY7kSj",
        "colab_type": "text"
      },
      "source": [
        "# Test method2"
      ]
    },
    {
      "cell_type": "code",
      "metadata": {
        "id": "caiq7K-D7sIy",
        "colab_type": "code",
        "outputId": "fef75220-4455-476a-ac13-ca9cc1fa6860",
        "colab": {
          "base_uri": "https://localhost:8080/",
          "height": 34
        }
      },
      "source": [
        "topic = \"gay rights\"\n",
        "data = pd.read_csv('/content/gdrive/My Drive/NLP/stance-data.csv')\n",
        "data = data[data.topic==topic][[\"post_text\",\"label\",\"word_count\",\"words_pronom\",\n",
        "                                      \"words_per_sen\",\"words_over_6\",\"pos_emo\",\"neg_emo\"]]\n",
        "np.random.seed(10)\n",
        "shuffled_data = np.random.permutation(data)\n",
        "np.shape(shuffled_data)"
      ],
      "execution_count": 0,
      "outputs": [
        {
          "output_type": "execute_result",
          "data": {
            "text/plain": [
              "(1359, 8)"
            ]
          },
          "metadata": {
            "tags": []
          },
          "execution_count": 37
        }
      ]
    },
    {
      "cell_type": "code",
      "metadata": {
        "id": "N3lOxsp-70XY",
        "colab_type": "code",
        "colab": {}
      },
      "source": [
        "num_features = 10000\n",
        "from scipy.sparse import hstack\n",
        "def evaluate_2(clf, train, test, method2 = False):\n",
        "  cv = CountVectorizer(stop_words='english', ngram_range=(1,3),max_features=num_features)\n",
        "  if method2:\n",
        "    trainX = hstack((cv.fit_transform(train[:,0]), train[:,2:].astype(float)))\n",
        "    testX = hstack((cv.fit_transform(test[:,0]), test[:,2:].astype(float)))\n",
        "  else:\n",
        "    trainX = cv.fit_transform(train[:,0])\n",
        "    testX = cv.fit_transform(test[:,0])\n",
        "  trainY = train[:,1]\n",
        "  testY = test[:,1]\n",
        "  print(\"X train shape:\", np.shape(trainX),\"Y train shape\", np.shape(trainY),\n",
        "       \"X test shape:\", np.shape(testX),\"Y test shape\", np.shape(testY))\n",
        "  \n",
        "  clf.fit(trainX, trainY)\n",
        "  pred = clf.predict(testX)\n",
        "  score = metrics.accuracy_score(testY, pred)\n",
        "  print(\"accuracy:   %0.3f\" % score)\n",
        "  print(\"classification report:\")\n",
        "  print(metrics.classification_report(testY, pred,target_names=target_names))\n",
        "  return score"
      ],
      "execution_count": 0,
      "outputs": []
    },
    {
      "cell_type": "code",
      "metadata": {
        "id": "983AK0ZU8j1e",
        "colab_type": "code",
        "outputId": "fda605f4-f00f-4fe9-f07b-ad613b266999",
        "colab": {
          "base_uri": "https://localhost:8080/",
          "height": 1000
        }
      },
      "source": [
        "clf = BernoulliNB(alpha=.01)\n",
        "test_size = len(shuffled_data)//k\n",
        "score_BNB, score_MNB, score_LSV = 0,0,0\n",
        "for i in range(k):\n",
        "  print('fold: %d' %i)\n",
        "  test_data = shuffled_data[i*test_size:(i+1)*test_size]\n",
        "  train_data = np.vstack((shuffled_data[:i*test_size],shuffled_data[(i+1)*test_size:]))\n",
        "  print(np.shape(test_data), np.shape(train_data))\n",
        "  score_BNB += evaluate(BernoulliNB(alpha=.01), train_data, test_data)\n",
        "  score_MNB += evaluate(MultinomialNB(alpha=.01), train_data, test_data)\n",
        "  score_LSV += evaluate(LinearSVC(penalty='l1', dual=False,tol=1e-3), train_data, test_data)\n",
        "print(score_BNB/5, score_MNB/5, score_LSV/5)"
      ],
      "execution_count": 0,
      "outputs": [
        {
          "output_type": "stream",
          "text": [
            "fold: 0\n",
            "(271, 8) (1088, 8)\n",
            "X train shape: (1088, 10000) Y train shape (1088,) X test shape: (271, 10000) Y test shape (271,)\n",
            "accuracy:   0.635\n",
            "classification report:\n",
            "              precision    recall  f1-score   support\n",
            "\n",
            "         pro       0.45      0.21      0.29        95\n",
            "         con       0.67      0.86      0.75       176\n",
            "\n",
            "    accuracy                           0.63       271\n",
            "   macro avg       0.56      0.54      0.52       271\n",
            "weighted avg       0.59      0.63      0.59       271\n",
            "\n",
            "X train shape: (1088, 10000) Y train shape (1088,) X test shape: (271, 10000) Y test shape (271,)\n",
            "accuracy:   0.638\n",
            "classification report:\n",
            "              precision    recall  f1-score   support\n",
            "\n",
            "         pro       0.46      0.20      0.28        95\n",
            "         con       0.67      0.88      0.76       176\n",
            "\n",
            "    accuracy                           0.64       271\n",
            "   macro avg       0.57      0.54      0.52       271\n",
            "weighted avg       0.60      0.64      0.59       271\n",
            "\n",
            "X train shape: (1088, 10000) Y train shape (1088,) X test shape: (271, 10000) Y test shape (271,)\n",
            "accuracy:   0.583\n",
            "classification report:\n",
            "              precision    recall  f1-score   support\n",
            "\n",
            "         pro       0.40      0.36      0.38        95\n",
            "         con       0.67      0.70      0.69       176\n",
            "\n",
            "    accuracy                           0.58       271\n",
            "   macro avg       0.53      0.53      0.53       271\n",
            "weighted avg       0.57      0.58      0.58       271\n",
            "\n",
            "fold: 1\n",
            "(271, 8) (1088, 8)\n",
            "X train shape: (1088, 10000) Y train shape (1088,) X test shape: (271, 10000) Y test shape (271,)\n",
            "accuracy:   0.590\n",
            "classification report:\n",
            "              precision    recall  f1-score   support\n",
            "\n",
            "         pro       0.38      0.38      0.38        90\n",
            "         con       0.69      0.70      0.69       181\n",
            "\n",
            "    accuracy                           0.59       271\n",
            "   macro avg       0.54      0.54      0.54       271\n",
            "weighted avg       0.59      0.59      0.59       271\n",
            "\n",
            "X train shape: (1088, 10000) Y train shape (1088,) X test shape: (271, 10000) Y test shape (271,)\n",
            "accuracy:   0.587\n",
            "classification report:\n",
            "              precision    recall  f1-score   support\n",
            "\n",
            "         pro       0.39      0.41      0.40        90\n",
            "         con       0.70      0.67      0.69       181\n",
            "\n",
            "    accuracy                           0.59       271\n",
            "   macro avg       0.54      0.54      0.54       271\n",
            "weighted avg       0.59      0.59      0.59       271\n",
            "\n",
            "X train shape: (1088, 10000) Y train shape (1088,) X test shape: (271, 10000) Y test shape (271,)\n",
            "accuracy:   0.546\n",
            "classification report:\n",
            "              precision    recall  f1-score   support\n",
            "\n",
            "         pro       0.36      0.48      0.41        90\n",
            "         con       0.69      0.58      0.63       181\n",
            "\n",
            "    accuracy                           0.55       271\n",
            "   macro avg       0.53      0.53      0.52       271\n",
            "weighted avg       0.58      0.55      0.56       271\n",
            "\n",
            "fold: 2\n",
            "(271, 8) (1088, 8)\n",
            "X train shape: (1088, 10000) Y train shape (1088,) X test shape: (271, 10000) Y test shape (271,)\n",
            "accuracy:   0.579\n",
            "classification report:\n",
            "              precision    recall  f1-score   support\n",
            "\n",
            "         pro       0.37      0.26      0.30        96\n",
            "         con       0.65      0.75      0.70       175\n",
            "\n",
            "    accuracy                           0.58       271\n",
            "   macro avg       0.51      0.51      0.50       271\n",
            "weighted avg       0.55      0.58      0.56       271\n",
            "\n",
            "X train shape: (1088, 10000) Y train shape (1088,) X test shape: (271, 10000) Y test shape (271,)\n",
            "accuracy:   0.528\n",
            "classification report:\n",
            "              precision    recall  f1-score   support\n",
            "\n",
            "         pro       0.28      0.21      0.24        96\n",
            "         con       0.62      0.70      0.66       175\n",
            "\n",
            "    accuracy                           0.53       271\n",
            "   macro avg       0.45      0.46      0.45       271\n",
            "weighted avg       0.50      0.53      0.51       271\n",
            "\n",
            "X train shape: (1088, 10000) Y train shape (1088,) X test shape: (271, 10000) Y test shape (271,)\n"
          ],
          "name": "stdout"
        },
        {
          "output_type": "stream",
          "text": [
            "/usr/local/lib/python3.6/dist-packages/sklearn/svm/base.py:929: ConvergenceWarning: Liblinear failed to converge, increase the number of iterations.\n",
            "  \"the number of iterations.\", ConvergenceWarning)\n"
          ],
          "name": "stderr"
        },
        {
          "output_type": "stream",
          "text": [
            "accuracy:   0.613\n",
            "classification report:\n",
            "              precision    recall  f1-score   support\n",
            "\n",
            "         pro       0.44      0.35      0.39        96\n",
            "         con       0.68      0.75      0.72       175\n",
            "\n",
            "    accuracy                           0.61       271\n",
            "   macro avg       0.56      0.55      0.55       271\n",
            "weighted avg       0.60      0.61      0.60       271\n",
            "\n",
            "fold: 3\n",
            "(271, 8) (1088, 8)\n",
            "X train shape: (1088, 10000) Y train shape (1088,) X test shape: (271, 10000) Y test shape (271,)\n",
            "accuracy:   0.561\n",
            "classification report:\n",
            "              precision    recall  f1-score   support\n",
            "\n",
            "         pro       0.42      0.23      0.30       109\n",
            "         con       0.60      0.78      0.68       162\n",
            "\n",
            "    accuracy                           0.56       271\n",
            "   macro avg       0.51      0.51      0.49       271\n",
            "weighted avg       0.53      0.56      0.53       271\n",
            "\n",
            "X train shape: (1088, 10000) Y train shape (1088,) X test shape: (271, 10000) Y test shape (271,)\n",
            "accuracy:   0.572\n",
            "classification report:\n",
            "              precision    recall  f1-score   support\n",
            "\n",
            "         pro       0.46      0.34      0.39       109\n",
            "         con       0.62      0.73      0.67       162\n",
            "\n",
            "    accuracy                           0.57       271\n",
            "   macro avg       0.54      0.53      0.53       271\n",
            "weighted avg       0.55      0.57      0.56       271\n",
            "\n",
            "X train shape: (1088, 10000) Y train shape (1088,) X test shape: (271, 10000) Y test shape (271,)\n",
            "accuracy:   0.509\n",
            "classification report:\n",
            "              precision    recall  f1-score   support\n",
            "\n",
            "         pro       0.41      0.50      0.45       109\n",
            "         con       0.61      0.51      0.56       162\n",
            "\n",
            "    accuracy                           0.51       271\n",
            "   macro avg       0.51      0.51      0.50       271\n",
            "weighted avg       0.53      0.51      0.51       271\n",
            "\n",
            "fold: 4\n",
            "(271, 8) (1088, 8)\n",
            "X train shape: (1088, 10000) Y train shape (1088,) X test shape: (271, 10000) Y test shape (271,)\n",
            "accuracy:   0.565\n",
            "classification report:\n",
            "              precision    recall  f1-score   support\n",
            "\n",
            "         pro       0.33      0.22      0.26        96\n",
            "         con       0.64      0.75      0.69       175\n",
            "\n",
            "    accuracy                           0.56       271\n",
            "   macro avg       0.48      0.49      0.48       271\n",
            "weighted avg       0.53      0.56      0.54       271\n",
            "\n",
            "X train shape: (1088, 10000) Y train shape (1088,) X test shape: (271, 10000) Y test shape (271,)\n",
            "accuracy:   0.587\n",
            "classification report:\n",
            "              precision    recall  f1-score   support\n",
            "\n",
            "         pro       0.39      0.28      0.33        96\n",
            "         con       0.66      0.75      0.70       175\n",
            "\n",
            "    accuracy                           0.59       271\n",
            "   macro avg       0.52      0.52      0.51       271\n",
            "weighted avg       0.56      0.59      0.57       271\n",
            "\n",
            "X train shape: (1088, 10000) Y train shape (1088,) X test shape: (271, 10000) Y test shape (271,)\n",
            "accuracy:   0.502\n",
            "classification report:\n",
            "              precision    recall  f1-score   support\n",
            "\n",
            "         pro       0.31      0.34      0.33        96\n",
            "         con       0.62      0.59      0.60       175\n",
            "\n",
            "    accuracy                           0.50       271\n",
            "   macro avg       0.47      0.47      0.47       271\n",
            "weighted avg       0.51      0.50      0.51       271\n",
            "\n",
            "0.5859778597785977 0.5822878228782289 0.5505535055350553\n"
          ],
          "name": "stdout"
        },
        {
          "output_type": "stream",
          "text": [
            "/usr/local/lib/python3.6/dist-packages/sklearn/svm/base.py:929: ConvergenceWarning: Liblinear failed to converge, increase the number of iterations.\n",
            "  \"the number of iterations.\", ConvergenceWarning)\n"
          ],
          "name": "stderr"
        }
      ]
    },
    {
      "cell_type": "code",
      "metadata": {
        "id": "Df-aEUlO9_y_",
        "colab_type": "code",
        "colab": {}
      },
      "source": [
        "clf = BernoulliNB(alpha=.01)\n",
        "test_size = len(shuffled_data)//k\n",
        "score_BNB, score_MNB, score_LSV = 0,0,0\n",
        "for i in range(k):\n",
        "  print('fold: %d' %i)\n",
        "  test_data = shuffled_data[i*test_size:(i+1)*test_size]\n",
        "  train_data = np.vstack((shuffled_data[:i*test_size],shuffled_data[(i+1)*test_size:]))\n",
        "  print(np.shape(test_data), np.shape(train_data))\n",
        "  score_LSV += evaluate(LinearSVC(penalty='l1', dual=False,tol=1e-3), train_data, test_data)\n",
        "print(score_BNB/5, score_MNB/5, score_LSV/5)"
      ],
      "execution_count": 0,
      "outputs": []
    }
  ]
}