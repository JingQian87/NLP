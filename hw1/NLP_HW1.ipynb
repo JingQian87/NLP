{
  "nbformat": 4,
  "nbformat_minor": 0,
  "metadata": {
    "colab": {
      "name": "NLP-HW1.ipynb",
      "provenance": [],
      "collapsed_sections": []
    },
    "kernelspec": {
      "name": "python3",
      "display_name": "Python 3"
    }
  },
  "cells": [
    {
      "cell_type": "markdown",
      "metadata": {
        "id": "MrFOl2YcK28s",
        "colab_type": "text"
      },
      "source": [
        "# Homework 1: Stance Classification\n",
        "\n",
        "* 建立一个分类器，根据一段文字，预测pro vs. con\n",
        "* 仅使用**主题'abortion'和'gay rights'**\n",
        "* 在csv中，每行一个帖子。columns:帖子和信息，6个LIWC1特征，以及句子的3个词性标签的数量\n",
        "* 用5-fold CV来评估模型，选择最佳features和每个主题的模型类型。 报告平均准确度和F1分，每个主题的前20个功能。\n",
        "* 提交必须包含README文件\n",
        "* 试验SVM和naive bayes\n",
        "* Input: features. Output: label $y \\in\\{0,1\\}$, “pro” (1) or “con” (0).\n",
        "\n"
      ]
    },
    {
      "cell_type": "code",
      "metadata": {
        "id": "m1LF_wdqKz2M",
        "colab_type": "code",
        "colab": {
          "base_uri": "https://localhost:8080/",
          "height": 122
        },
        "outputId": "5ae33627-1ced-4a6b-fcc2-a138ef592995"
      },
      "source": [
        "from google.colab import drive\n",
        "drive.mount('/content/gdrive')"
      ],
      "execution_count": 1,
      "outputs": [
        {
          "output_type": "stream",
          "text": [
            "Go to this URL in a browser: https://accounts.google.com/o/oauth2/auth?client_id=947318989803-6bn6qk8qdgf4n4g3pfee6491hc0brc4i.apps.googleusercontent.com&redirect_uri=urn%3Aietf%3Awg%3Aoauth%3A2.0%3Aoob&scope=email%20https%3A%2F%2Fwww.googleapis.com%2Fauth%2Fdocs.test%20https%3A%2F%2Fwww.googleapis.com%2Fauth%2Fdrive%20https%3A%2F%2Fwww.googleapis.com%2Fauth%2Fdrive.photos.readonly%20https%3A%2F%2Fwww.googleapis.com%2Fauth%2Fpeopleapi.readonly&response_type=code\n",
            "\n",
            "Enter your authorization code:\n",
            "··········\n",
            "Mounted at /content/gdrive\n"
          ],
          "name": "stdout"
        }
      ]
    },
    {
      "cell_type": "code",
      "metadata": {
        "id": "77T1SQfYRKUM",
        "colab_type": "code",
        "colab": {
          "base_uri": "https://localhost:8080/",
          "height": 598
        },
        "outputId": "bf01f41e-6fb6-416a-f27f-d0963b0c3531"
      },
      "source": [
        "import numpy as np\n",
        "import nltk\n",
        "import pandas as pd\n",
        "\n",
        "data = pd.read_csv('/content/gdrive/My Drive/NLP/stance-data.csv')\n",
        "data.head()"
      ],
      "execution_count": 4,
      "outputs": [
        {
          "output_type": "execute_result",
          "data": {
            "text/html": [
              "<div>\n",
              "<style scoped>\n",
              "    .dataframe tbody tr th:only-of-type {\n",
              "        vertical-align: middle;\n",
              "    }\n",
              "\n",
              "    .dataframe tbody tr th {\n",
              "        vertical-align: top;\n",
              "    }\n",
              "\n",
              "    .dataframe thead th {\n",
              "        text-align: right;\n",
              "    }\n",
              "</style>\n",
              "<table border=\"1\" class=\"dataframe\">\n",
              "  <thead>\n",
              "    <tr style=\"text-align: right;\">\n",
              "      <th></th>\n",
              "      <th>post_text</th>\n",
              "      <th>topic</th>\n",
              "      <th>author</th>\n",
              "      <th>label</th>\n",
              "      <th>id</th>\n",
              "      <th>word_count</th>\n",
              "      <th>words_pronom</th>\n",
              "      <th>words_per_sen</th>\n",
              "      <th>words_over_6</th>\n",
              "      <th>pos_emo</th>\n",
              "      <th>neg_emo</th>\n",
              "      <th>count_noun</th>\n",
              "      <th>count_verb</th>\n",
              "      <th>count_adj</th>\n",
              "    </tr>\n",
              "  </thead>\n",
              "  <tbody>\n",
              "    <tr>\n",
              "      <th>0</th>\n",
              "      <td>There is only one question when it comes to ab...</td>\n",
              "      <td>abortion</td>\n",
              "      <td>jstantall</td>\n",
              "      <td>con</td>\n",
              "      <td>C0</td>\n",
              "      <td>185</td>\n",
              "      <td>18.50</td>\n",
              "      <td>1.62</td>\n",
              "      <td>3.78</td>\n",
              "      <td>16.22</td>\n",
              "      <td>12.97</td>\n",
              "      <td>41</td>\n",
              "      <td>33</td>\n",
              "      <td>15</td>\n",
              "    </tr>\n",
              "    <tr>\n",
              "      <th>1</th>\n",
              "      <td>People often try to personalize their pro-life...</td>\n",
              "      <td>abortion</td>\n",
              "      <td>NVYN</td>\n",
              "      <td>pro</td>\n",
              "      <td>C1</td>\n",
              "      <td>85</td>\n",
              "      <td>10.62</td>\n",
              "      <td>3.53</td>\n",
              "      <td>1.18</td>\n",
              "      <td>11.76</td>\n",
              "      <td>21.18</td>\n",
              "      <td>12</td>\n",
              "      <td>19</td>\n",
              "      <td>2</td>\n",
              "    </tr>\n",
              "    <tr>\n",
              "      <th>2</th>\n",
              "      <td>we 're saying that the pregnant person should ...</td>\n",
              "      <td>abortion</td>\n",
              "      <td>atypican</td>\n",
              "      <td>pro</td>\n",
              "      <td>C2</td>\n",
              "      <td>41</td>\n",
              "      <td>13.67</td>\n",
              "      <td>2.44</td>\n",
              "      <td>2.44</td>\n",
              "      <td>7.32</td>\n",
              "      <td>17.07</td>\n",
              "      <td>8</td>\n",
              "      <td>10</td>\n",
              "      <td>3</td>\n",
              "    </tr>\n",
              "    <tr>\n",
              "      <th>3</th>\n",
              "      <td>No answer to my retort , just a down vote . Th...</td>\n",
              "      <td>abortion</td>\n",
              "      <td>atypican</td>\n",
              "      <td>pro</td>\n",
              "      <td>C3</td>\n",
              "      <td>12</td>\n",
              "      <td>6.00</td>\n",
              "      <td>8.33</td>\n",
              "      <td>0.00</td>\n",
              "      <td>0.00</td>\n",
              "      <td>16.67</td>\n",
              "      <td>3</td>\n",
              "      <td>2</td>\n",
              "      <td>1</td>\n",
              "    </tr>\n",
              "    <tr>\n",
              "      <th>4</th>\n",
              "      <td>I 'm sooo sick of people like you who feel lik...</td>\n",
              "      <td>abortion</td>\n",
              "      <td>SMCdeBater</td>\n",
              "      <td>con</td>\n",
              "      <td>C4</td>\n",
              "      <td>34</td>\n",
              "      <td>17.00</td>\n",
              "      <td>0.00</td>\n",
              "      <td>8.82</td>\n",
              "      <td>14.71</td>\n",
              "      <td>23.53</td>\n",
              "      <td>5</td>\n",
              "      <td>10</td>\n",
              "      <td>2</td>\n",
              "    </tr>\n",
              "  </tbody>\n",
              "</table>\n",
              "</div>"
            ],
            "text/plain": [
              "                                           post_text  ... count_adj\n",
              "0  There is only one question when it comes to ab...  ...        15\n",
              "1  People often try to personalize their pro-life...  ...         2\n",
              "2  we 're saying that the pregnant person should ...  ...         3\n",
              "3  No answer to my retort , just a down vote . Th...  ...         1\n",
              "4  I 'm sooo sick of people like you who feel lik...  ...         2\n",
              "\n",
              "[5 rows x 14 columns]"
            ]
          },
          "metadata": {
            "tags": []
          },
          "execution_count": 4
        }
      ]
    },
    {
      "cell_type": "code",
      "metadata": {
        "id": "L0cbBqKyRSnD",
        "colab_type": "code",
        "colab": {}
      },
      "source": [
        ""
      ],
      "execution_count": 0,
      "outputs": []
    }
  ]
}