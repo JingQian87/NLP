{
  "nbformat": 4,
  "nbformat_minor": 0,
  "metadata": {
    "colab": {
      "name": "NLP-HW1.ipynb",
      "provenance": [],
      "collapsed_sections": []
    },
    "kernelspec": {
      "name": "python3",
      "display_name": "Python 3"
    }
  },
  "cells": [
    {
      "cell_type": "markdown",
      "metadata": {
        "id": "MrFOl2YcK28s",
        "colab_type": "text"
      },
      "source": [
        "# Homework 1: Stance Classification\n",
        "\n",
        "* 建立一个分类器，根据一段文字，预测pro vs. con\n",
        "* 仅使用**主题'abortion'和'gay rights'**\n",
        "* 在csv中，每行一个帖子。columns:帖子和信息，6个LIWC1特征，以及句子的3个词性标签的数量\n",
        "* 用5-fold CV来评估模型，选择最佳features和每个主题的模型类型。 报告平均准确度和F1分，每个主题的前20个功能。\n",
        "* 提交必须包含README文件\n",
        "* 试验SVM和naive bayes\n",
        "* Input: features. Output: label $y \\in\\{0,1\\}$, “pro” (1) or “con” (0).\n",
        "\n",
        "**每一个topic用两个模型**:\n",
        "1. Ngrams: combination of unigrams, bigrams and trigrams as features.(实验找到最好的)\n",
        "2. 对上面每个features set, 选模型SVM/NB. 也需要调参数防止overfitting (scikit-learn有包，Some examples are “kernel” and “C” for SVM.)\n",
        "\n",
        "**Feature selection**\n",
        "每组第二个模型可以考虑以下的feature或者额外的：\n",
        "* Ngrams. Unigrams, bigrams, and trigrams.\n",
        "* Cue words. The initial unigram, bigram, and trigram in a post.\n",
        "* Repeated punctuation. Features to capture punctuation such as ??, ??????, !!!, or ?!.\n",
        "* Part-of-speech tags. Features to count the number of nouns, verbs and adjectives in the\n",
        "text (count_noun, count_verb, and count_adj).\n",
        "* LIWC features. We give you a number of LIWC features in the data files. You may use\n",
        "any combination of these as features.The measures we give and their descriptions are:\n",
        "  * word_count: the number of words in the post.\n",
        "  * words_pronom: the percent of words in the text that are pronominal.\n",
        "  * words_per_sen: the average number of words per sentence in the text.\n",
        "  * words_over_6: the percent of words in the text that are over 6 letters long.\n",
        "  * pos_emo: the number of positive emotion words in the text.\n",
        "  * neg_emo: the number of negative emotion words in the text.\n",
        "* Any other features you come up with."
      ]
    },
    {
      "cell_type": "markdown",
      "metadata": {
        "id": "XC26mq6RPf3U",
        "colab_type": "text"
      },
      "source": [
        "### 提交要求：\n",
        "* 对于每个主题，请提供您最佳模型的书面说明，并提供合理的理由您使用或未使用的功能。您为什么认为他们有帮助？您\n",
        "必须明确列出您在此处尝试过的功能。\n",
        "* 对每个主题进行错误分析。为了获得最佳表现模型，请选择3个有趣的例子不起作用。指出为什么您认为它们的分类不正确。如果你可以添加其他功能，您认为哪些功能可以帮助提高性能？\n",
        "对于每个示例，如果篇幅很长，则无需包括整个帖子文本，只需将您的讨论的相关部分和ID。\n",
        "* 比较和对比您用于每个主题的功能。为什么你会想到一些\n",
        "功能在不同主题下效果更好还是更差？还是您将相同的功能用于\n",
        "所有主题，如果可以，为什么您认为效果很好？\n",
        "\n",
        "\n",
        "### 评分\n",
        "您将按照以下要素进行评分：\n",
        "#### 2.1分类器（共60分）\n",
        "您的交付品如下（50分）：\n",
        "* 一个将火车文件和主题作为命令行参数的classify.py文件（即，可以作为“ python classify.py train-data.csv中止”运行），运行交叉验证选择模型，打印模型的平均精度和F1度量并打印顶部该主题的20个功能。 （60分）。\n",
        "* 您的自述文件，如下所述（2.3）\n",
        "* 准确性（10分）\n",
        "您的系统将获得最高10分，具体取决于最佳模型是否产生了准确性高于或低于我们的阈值。\n",
        "这些将在9月13日星期五之前发布在Piazza和课程网站上。\n",
        "\n",
        "#### 2.2书面答案（30分）\n",
        "* 为每个主题提供最佳性能模型的依据：说明完整且提供\n",
        "有关每个模型（及其使用或不使用的功能）为何最好的信息。 （20分）\n",
        "* 错误分析：所选职位应有所不同，说明应明确说明为什么功能无法预测正确的类别。 （10点）\n",
        "您的可交付成果如下：\n",
        "包含您的姓名，电子邮件地址，作业编号和\n",
        "您对书面部分的回答。\n",
        "* 2.3软件工程（包括文档）（10分）\n",
        "您的自述文件必须包含以下内容：\n",
        "您的姓名和电子邮件地址。\n",
        "作业编号。\n",
        "有关如何训练和测试分类器的信息。\n",
        "分类器的特殊功能（或限制）的描述。\n",
        "在代码文档中：\n",
        "应该以有意义的方式记录代码。这可以表示表达功能/变量\n",
        "名称以及评论。\n",
        "信息性的方法/功能/变量名称。\n",
        "高效实施。\n",
        "\n",
        "\n",
        "### 提交说明\n",
        "您应该在Courseworks上提交以下内容：\n",
        "一个名为<YOUR-UNI> -hw1.zip的zip文件。这应该确切地列出了文件第2.1节中的可交付成果。您无需在zip中包含数据文件。\n",
        "您应该在Gradescope上提交以下内容：\n",
        "如第2.2节所述的hw1-write.pdf。"
      ]
    },
    {
      "cell_type": "code",
      "metadata": {
        "id": "1GV_Pk21Pfa3",
        "colab_type": "code",
        "colab": {}
      },
      "source": [
        ""
      ],
      "execution_count": 0,
      "outputs": []
    },
    {
      "cell_type": "code",
      "metadata": {
        "id": "m1LF_wdqKz2M",
        "colab_type": "code",
        "outputId": "5ae33627-1ced-4a6b-fcc2-a138ef592995",
        "colab": {
          "base_uri": "https://localhost:8080/",
          "height": 122
        }
      },
      "source": [
        "from google.colab import drive\n",
        "drive.mount('/content/gdrive')"
      ],
      "execution_count": 0,
      "outputs": [
        {
          "output_type": "stream",
          "text": [
            "Go to this URL in a browser: https://accounts.google.com/o/oauth2/auth?client_id=947318989803-6bn6qk8qdgf4n4g3pfee6491hc0brc4i.apps.googleusercontent.com&redirect_uri=urn%3Aietf%3Awg%3Aoauth%3A2.0%3Aoob&scope=email%20https%3A%2F%2Fwww.googleapis.com%2Fauth%2Fdocs.test%20https%3A%2F%2Fwww.googleapis.com%2Fauth%2Fdrive%20https%3A%2F%2Fwww.googleapis.com%2Fauth%2Fdrive.photos.readonly%20https%3A%2F%2Fwww.googleapis.com%2Fauth%2Fpeopleapi.readonly&response_type=code\n",
            "\n",
            "Enter your authorization code:\n",
            "··········\n",
            "Mounted at /content/gdrive\n"
          ],
          "name": "stdout"
        }
      ]
    },
    {
      "cell_type": "code",
      "metadata": {
        "id": "77T1SQfYRKUM",
        "colab_type": "code",
        "outputId": "bf01f41e-6fb6-416a-f27f-d0963b0c3531",
        "colab": {
          "base_uri": "https://localhost:8080/",
          "height": 598
        }
      },
      "source": [
        "import numpy as np\n",
        "import nltk\n",
        "import pandas as pd\n",
        "\n",
        "data = pd.read_csv('/content/gdrive/My Drive/NLP/stance-data.csv')\n",
        "data.head()"
      ],
      "execution_count": 0,
      "outputs": [
        {
          "output_type": "execute_result",
          "data": {
            "text/html": [
              "<div>\n",
              "<style scoped>\n",
              "    .dataframe tbody tr th:only-of-type {\n",
              "        vertical-align: middle;\n",
              "    }\n",
              "\n",
              "    .dataframe tbody tr th {\n",
              "        vertical-align: top;\n",
              "    }\n",
              "\n",
              "    .dataframe thead th {\n",
              "        text-align: right;\n",
              "    }\n",
              "</style>\n",
              "<table border=\"1\" class=\"dataframe\">\n",
              "  <thead>\n",
              "    <tr style=\"text-align: right;\">\n",
              "      <th></th>\n",
              "      <th>post_text</th>\n",
              "      <th>topic</th>\n",
              "      <th>author</th>\n",
              "      <th>label</th>\n",
              "      <th>id</th>\n",
              "      <th>word_count</th>\n",
              "      <th>words_pronom</th>\n",
              "      <th>words_per_sen</th>\n",
              "      <th>words_over_6</th>\n",
              "      <th>pos_emo</th>\n",
              "      <th>neg_emo</th>\n",
              "      <th>count_noun</th>\n",
              "      <th>count_verb</th>\n",
              "      <th>count_adj</th>\n",
              "    </tr>\n",
              "  </thead>\n",
              "  <tbody>\n",
              "    <tr>\n",
              "      <th>0</th>\n",
              "      <td>There is only one question when it comes to ab...</td>\n",
              "      <td>abortion</td>\n",
              "      <td>jstantall</td>\n",
              "      <td>con</td>\n",
              "      <td>C0</td>\n",
              "      <td>185</td>\n",
              "      <td>18.50</td>\n",
              "      <td>1.62</td>\n",
              "      <td>3.78</td>\n",
              "      <td>16.22</td>\n",
              "      <td>12.97</td>\n",
              "      <td>41</td>\n",
              "      <td>33</td>\n",
              "      <td>15</td>\n",
              "    </tr>\n",
              "    <tr>\n",
              "      <th>1</th>\n",
              "      <td>People often try to personalize their pro-life...</td>\n",
              "      <td>abortion</td>\n",
              "      <td>NVYN</td>\n",
              "      <td>pro</td>\n",
              "      <td>C1</td>\n",
              "      <td>85</td>\n",
              "      <td>10.62</td>\n",
              "      <td>3.53</td>\n",
              "      <td>1.18</td>\n",
              "      <td>11.76</td>\n",
              "      <td>21.18</td>\n",
              "      <td>12</td>\n",
              "      <td>19</td>\n",
              "      <td>2</td>\n",
              "    </tr>\n",
              "    <tr>\n",
              "      <th>2</th>\n",
              "      <td>we 're saying that the pregnant person should ...</td>\n",
              "      <td>abortion</td>\n",
              "      <td>atypican</td>\n",
              "      <td>pro</td>\n",
              "      <td>C2</td>\n",
              "      <td>41</td>\n",
              "      <td>13.67</td>\n",
              "      <td>2.44</td>\n",
              "      <td>2.44</td>\n",
              "      <td>7.32</td>\n",
              "      <td>17.07</td>\n",
              "      <td>8</td>\n",
              "      <td>10</td>\n",
              "      <td>3</td>\n",
              "    </tr>\n",
              "    <tr>\n",
              "      <th>3</th>\n",
              "      <td>No answer to my retort , just a down vote . Th...</td>\n",
              "      <td>abortion</td>\n",
              "      <td>atypican</td>\n",
              "      <td>pro</td>\n",
              "      <td>C3</td>\n",
              "      <td>12</td>\n",
              "      <td>6.00</td>\n",
              "      <td>8.33</td>\n",
              "      <td>0.00</td>\n",
              "      <td>0.00</td>\n",
              "      <td>16.67</td>\n",
              "      <td>3</td>\n",
              "      <td>2</td>\n",
              "      <td>1</td>\n",
              "    </tr>\n",
              "    <tr>\n",
              "      <th>4</th>\n",
              "      <td>I 'm sooo sick of people like you who feel lik...</td>\n",
              "      <td>abortion</td>\n",
              "      <td>SMCdeBater</td>\n",
              "      <td>con</td>\n",
              "      <td>C4</td>\n",
              "      <td>34</td>\n",
              "      <td>17.00</td>\n",
              "      <td>0.00</td>\n",
              "      <td>8.82</td>\n",
              "      <td>14.71</td>\n",
              "      <td>23.53</td>\n",
              "      <td>5</td>\n",
              "      <td>10</td>\n",
              "      <td>2</td>\n",
              "    </tr>\n",
              "  </tbody>\n",
              "</table>\n",
              "</div>"
            ],
            "text/plain": [
              "                                           post_text  ... count_adj\n",
              "0  There is only one question when it comes to ab...  ...        15\n",
              "1  People often try to personalize their pro-life...  ...         2\n",
              "2  we 're saying that the pregnant person should ...  ...         3\n",
              "3  No answer to my retort , just a down vote . Th...  ...         1\n",
              "4  I 'm sooo sick of people like you who feel lik...  ...         2\n",
              "\n",
              "[5 rows x 14 columns]"
            ]
          },
          "metadata": {
            "tags": []
          },
          "execution_count": 4
        }
      ]
    },
    {
      "cell_type": "code",
      "metadata": {
        "id": "L0cbBqKyRSnD",
        "colab_type": "code",
        "colab": {}
      },
      "source": [
        ""
      ],
      "execution_count": 0,
      "outputs": []
    }
  ]
}