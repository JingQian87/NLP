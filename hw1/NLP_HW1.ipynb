{
  "nbformat": 4,
  "nbformat_minor": 0,
  "metadata": {
    "colab": {
      "name": "NLP-HW1.ipynb",
      "provenance": [],
      "collapsed_sections": []
    },
    "kernelspec": {
      "name": "python3",
      "display_name": "Python 3"
    },
    "accelerator": "GPU"
  },
  "cells": [
    {
      "cell_type": "markdown",
      "metadata": {
        "id": "MrFOl2YcK28s",
        "colab_type": "text"
      },
      "source": [
        "# Homework 1: Stance Classification\n",
        "\n",
        "* 建立一个分类器，根据一段文字，预测pro vs. con\n",
        "* 仅使用**主题'abortion'和'gay rights'**\n",
        "* 在csv中，每行一个帖子。columns:帖子和信息，6个LIWC1特征，以及句子的3个词性标签的数量\n",
        "* 用5-fold CV来评估模型，选择最佳features和每个主题的模型类型。 报告平均准确度和F1分，每个主题的前20个功能。\n",
        "* 提交必须包含README文件\n",
        "* 试验SVM和naive bayes\n",
        "* Input: features. Output: label $y \\in\\{0,1\\}$, “pro” (1) or “con” (0).\n",
        "\n",
        "**每一个topic用两个模型**:\n",
        "1. Ngrams: combination of unigrams, bigrams and trigrams as features.(实验找到最好的)\n",
        "2. 对上面每个features set, 选模型SVM/NB. 也需要调参数防止overfitting (scikit-learn有包，Some examples are “kernel” and “C” for SVM.)\n",
        "\n",
        "**Feature selection**\n",
        "每组第二个模型可以考虑以下的feature或者额外的：\n",
        "* Ngrams. Unigrams, bigrams, and trigrams.\n",
        "* Cue words. The initial unigram, bigram, and trigram in a post.\n",
        "* Repeated punctuation. Features to capture punctuation such as ??, ??????, !!!, or ?!.\n",
        "* Part-of-speech tags. Features to count the number of nouns, verbs and adjectives in the\n",
        "text (count_noun, count_verb, and count_adj).\n",
        "* LIWC features. We give you a number of LIWC features in the data files. You may use\n",
        "any combination of these as features.The measures we give and their descriptions are:\n",
        "  * word_count: the number of words in the post.\n",
        "  * words_pronom: the percent of words in the text that are pronominal.\n",
        "  * words_per_sen: the average number of words per sentence in the text.\n",
        "  * words_over_6: the percent of words in the text that are over 6 letters long.\n",
        "  * pos_emo: the number of positive emotion words in the text.\n",
        "  * neg_emo: the number of negative emotion words in the text.\n",
        "* Any other features you come up with."
      ]
    },
    {
      "cell_type": "markdown",
      "metadata": {
        "id": "XC26mq6RPf3U",
        "colab_type": "text"
      },
      "source": [
        "### 提交要求：\n",
        "* 对于每个主题，请提供您最佳模型的书面说明，并提供合理的理由您使用或未使用的功能。您为什么认为他们有帮助？您\n",
        "必须明确列出您在此处尝试过的功能。\n",
        "* 对每个主题进行错误分析。为了获得最佳表现模型，请选择3个有趣的例子不起作用。指出为什么您认为它们的分类不正确。如果你可以添加其他功能，您认为哪些功能可以帮助提高性能？\n",
        "对于每个示例，如果篇幅很长，则无需包括整个帖子文本，只需将您的讨论的相关部分和ID。\n",
        "* 比较和对比您用于每个主题的功能。为什么你会想到一些\n",
        "功能在不同主题下效果更好还是更差？还是您将相同的功能用于\n",
        "所有主题，如果可以，为什么您认为效果很好？\n",
        "\n",
        "\n",
        "### 评分\n",
        "您将按照以下要素进行评分：\n",
        "#### 2.1分类器（共60分）\n",
        "您的交付品如下（50分）：\n",
        "* 一个将火车文件和主题作为命令行参数的classify.py文件（即，可以作为“ python classify.py train-data.csv中止”运行），运行交叉验证选择模型，打印模型的平均精度和F1度量并打印顶部该主题的20个功能。 （60分）。\n",
        "* 您的自述文件，如下所述（2.3）\n",
        "* 准确性（10分）\n",
        "您的系统将获得最高10分，具体取决于最佳模型是否产生了准确性高于或低于我们的阈值。\n",
        "这些将在9月13日星期五之前发布在Piazza和课程网站上。\n",
        "\n",
        "#### 2.2书面答案（30分）\n",
        "* 为每个主题提供最佳性能模型的依据：说明完整且提供\n",
        "有关每个模型（及其使用或不使用的功能）为何最好的信息。 （20分）\n",
        "* 错误分析：所选职位应有所不同，说明应明确说明为什么功能无法预测正确的类别。 （10点）\n",
        "您的可交付成果如下：\n",
        "包含您的姓名，电子邮件地址，作业编号和\n",
        "您对书面部分的回答。\n",
        "* 2.3软件工程（包括文档）（10分）\n",
        "您的自述文件必须包含以下内容：\n",
        "您的姓名和电子邮件地址。\n",
        "作业编号。\n",
        "有关如何训练和测试分类器的信息。\n",
        "分类器的特殊功能（或限制）的描述。\n",
        "在代码文档中：\n",
        "应该以有意义的方式记录代码。这可以表示表达功能/变量\n",
        "名称以及评论。\n",
        "信息性的方法/功能/变量名称。\n",
        "高效实施。\n",
        "\n",
        "\n",
        "### 提交说明\n",
        "您应该在Courseworks上提交以下内容：\n",
        "一个名为<YOUR-UNI> -hw1.zip的zip文件。这应该确切地列出了文件第2.1节中的可交付成果。您无需在zip中包含数据文件。\n",
        "您应该在Gradescope上提交以下内容：\n",
        "如第2.2节所述的hw1-write.pdf。"
      ]
    },
    {
      "cell_type": "code",
      "metadata": {
        "id": "m1LF_wdqKz2M",
        "colab_type": "code",
        "outputId": "3e2db61b-e367-43d7-b785-8d4935c9471e",
        "colab": {
          "base_uri": "https://localhost:8080/",
          "height": 122
        }
      },
      "source": [
        "from google.colab import drive\n",
        "drive.mount('/content/gdrive')"
      ],
      "execution_count": 1,
      "outputs": [
        {
          "output_type": "stream",
          "text": [
            "Go to this URL in a browser: https://accounts.google.com/o/oauth2/auth?client_id=947318989803-6bn6qk8qdgf4n4g3pfee6491hc0brc4i.apps.googleusercontent.com&redirect_uri=urn%3Aietf%3Awg%3Aoauth%3A2.0%3Aoob&scope=email%20https%3A%2F%2Fwww.googleapis.com%2Fauth%2Fdocs.test%20https%3A%2F%2Fwww.googleapis.com%2Fauth%2Fdrive%20https%3A%2F%2Fwww.googleapis.com%2Fauth%2Fdrive.photos.readonly%20https%3A%2F%2Fwww.googleapis.com%2Fauth%2Fpeopleapi.readonly&response_type=code\n",
            "\n",
            "Enter your authorization code:\n",
            "··········\n",
            "Mounted at /content/gdrive\n"
          ],
          "name": "stdout"
        }
      ]
    },
    {
      "cell_type": "code",
      "metadata": {
        "id": "77T1SQfYRKUM",
        "colab_type": "code",
        "outputId": "8a35025d-dcc7-4106-b300-c28f1655aa9d",
        "colab": {
          "base_uri": "https://localhost:8080/",
          "height": 598
        }
      },
      "source": [
        "import numpy as np\n",
        "import nltk\n",
        "import pandas as pd\n",
        "\n",
        "data = pd.read_csv('/content/gdrive/My Drive/NLP/stance-data.csv')\n",
        "data.head()"
      ],
      "execution_count": 2,
      "outputs": [
        {
          "output_type": "execute_result",
          "data": {
            "text/html": [
              "<div>\n",
              "<style scoped>\n",
              "    .dataframe tbody tr th:only-of-type {\n",
              "        vertical-align: middle;\n",
              "    }\n",
              "\n",
              "    .dataframe tbody tr th {\n",
              "        vertical-align: top;\n",
              "    }\n",
              "\n",
              "    .dataframe thead th {\n",
              "        text-align: right;\n",
              "    }\n",
              "</style>\n",
              "<table border=\"1\" class=\"dataframe\">\n",
              "  <thead>\n",
              "    <tr style=\"text-align: right;\">\n",
              "      <th></th>\n",
              "      <th>post_text</th>\n",
              "      <th>topic</th>\n",
              "      <th>author</th>\n",
              "      <th>label</th>\n",
              "      <th>id</th>\n",
              "      <th>word_count</th>\n",
              "      <th>words_pronom</th>\n",
              "      <th>words_per_sen</th>\n",
              "      <th>words_over_6</th>\n",
              "      <th>pos_emo</th>\n",
              "      <th>neg_emo</th>\n",
              "      <th>count_noun</th>\n",
              "      <th>count_verb</th>\n",
              "      <th>count_adj</th>\n",
              "    </tr>\n",
              "  </thead>\n",
              "  <tbody>\n",
              "    <tr>\n",
              "      <th>0</th>\n",
              "      <td>There is only one question when it comes to ab...</td>\n",
              "      <td>abortion</td>\n",
              "      <td>jstantall</td>\n",
              "      <td>con</td>\n",
              "      <td>C0</td>\n",
              "      <td>185</td>\n",
              "      <td>18.50</td>\n",
              "      <td>1.62</td>\n",
              "      <td>3.78</td>\n",
              "      <td>16.22</td>\n",
              "      <td>12.97</td>\n",
              "      <td>41</td>\n",
              "      <td>33</td>\n",
              "      <td>15</td>\n",
              "    </tr>\n",
              "    <tr>\n",
              "      <th>1</th>\n",
              "      <td>People often try to personalize their pro-life...</td>\n",
              "      <td>abortion</td>\n",
              "      <td>NVYN</td>\n",
              "      <td>pro</td>\n",
              "      <td>C1</td>\n",
              "      <td>85</td>\n",
              "      <td>10.62</td>\n",
              "      <td>3.53</td>\n",
              "      <td>1.18</td>\n",
              "      <td>11.76</td>\n",
              "      <td>21.18</td>\n",
              "      <td>12</td>\n",
              "      <td>19</td>\n",
              "      <td>2</td>\n",
              "    </tr>\n",
              "    <tr>\n",
              "      <th>2</th>\n",
              "      <td>we 're saying that the pregnant person should ...</td>\n",
              "      <td>abortion</td>\n",
              "      <td>atypican</td>\n",
              "      <td>pro</td>\n",
              "      <td>C2</td>\n",
              "      <td>41</td>\n",
              "      <td>13.67</td>\n",
              "      <td>2.44</td>\n",
              "      <td>2.44</td>\n",
              "      <td>7.32</td>\n",
              "      <td>17.07</td>\n",
              "      <td>8</td>\n",
              "      <td>10</td>\n",
              "      <td>3</td>\n",
              "    </tr>\n",
              "    <tr>\n",
              "      <th>3</th>\n",
              "      <td>No answer to my retort , just a down vote . Th...</td>\n",
              "      <td>abortion</td>\n",
              "      <td>atypican</td>\n",
              "      <td>pro</td>\n",
              "      <td>C3</td>\n",
              "      <td>12</td>\n",
              "      <td>6.00</td>\n",
              "      <td>8.33</td>\n",
              "      <td>0.00</td>\n",
              "      <td>0.00</td>\n",
              "      <td>16.67</td>\n",
              "      <td>3</td>\n",
              "      <td>2</td>\n",
              "      <td>1</td>\n",
              "    </tr>\n",
              "    <tr>\n",
              "      <th>4</th>\n",
              "      <td>I 'm sooo sick of people like you who feel lik...</td>\n",
              "      <td>abortion</td>\n",
              "      <td>SMCdeBater</td>\n",
              "      <td>con</td>\n",
              "      <td>C4</td>\n",
              "      <td>34</td>\n",
              "      <td>17.00</td>\n",
              "      <td>0.00</td>\n",
              "      <td>8.82</td>\n",
              "      <td>14.71</td>\n",
              "      <td>23.53</td>\n",
              "      <td>5</td>\n",
              "      <td>10</td>\n",
              "      <td>2</td>\n",
              "    </tr>\n",
              "  </tbody>\n",
              "</table>\n",
              "</div>"
            ],
            "text/plain": [
              "                                           post_text  ... count_adj\n",
              "0  There is only one question when it comes to ab...  ...        15\n",
              "1  People often try to personalize their pro-life...  ...         2\n",
              "2  we 're saying that the pregnant person should ...  ...         3\n",
              "3  No answer to my retort , just a down vote . Th...  ...         1\n",
              "4  I 'm sooo sick of people like you who feel lik...  ...         2\n",
              "\n",
              "[5 rows x 14 columns]"
            ]
          },
          "metadata": {
            "tags": []
          },
          "execution_count": 2
        }
      ]
    },
    {
      "cell_type": "code",
      "metadata": {
        "id": "eCM76F9rP1ZN",
        "colab_type": "code",
        "outputId": "1bac9e28-7cce-4d26-b85c-2e0873e33b68",
        "colab": {
          "base_uri": "https://localhost:8080/",
          "height": 34
        }
      },
      "source": [
        "#np.shape(data)"
      ],
      "execution_count": 0,
      "outputs": [
        {
          "output_type": "execute_result",
          "data": {
            "text/plain": [
              "(4649, 14)"
            ]
          },
          "metadata": {
            "tags": []
          },
          "execution_count": 3
        }
      ]
    },
    {
      "cell_type": "code",
      "metadata": {
        "id": "t5kuqRT9P5Pz",
        "colab_type": "code",
        "outputId": "4c29f42d-0d18-4592-9c00-da57289b93d1",
        "colab": {
          "base_uri": "https://localhost:8080/",
          "height": 34
        }
      },
      "source": [
        "#set(data.topic)"
      ],
      "execution_count": 0,
      "outputs": [
        {
          "output_type": "execute_result",
          "data": {
            "text/plain": [
              "{'abortion', 'gay rights', 'marijuana', 'obama'}"
            ]
          },
          "metadata": {
            "tags": []
          },
          "execution_count": 4
        }
      ]
    },
    {
      "cell_type": "markdown",
      "metadata": {
        "id": "Qv_G9nYWBWLp",
        "colab_type": "text"
      },
      "source": [
        "# 1. Test methods to find best model with topic == 'abortion'"
      ]
    },
    {
      "cell_type": "markdown",
      "metadata": {
        "id": "BXfCwxhCBeHE",
        "colab_type": "text"
      },
      "source": [
        "## 1.2. Test with Ngrams (GridSearchCV)"
      ]
    },
    {
      "cell_type": "code",
      "metadata": {
        "id": "P7sBvR6cBmTl",
        "colab_type": "code",
        "colab": {}
      },
      "source": [
        "topic = \"abortion\"\n",
        "test = data[data.topic==topic][[\"post_text\",\"label\"]]\n",
        "#test.head()"
      ],
      "execution_count": 0,
      "outputs": []
    },
    {
      "cell_type": "code",
      "metadata": {
        "id": "ThqIMNXICOIy",
        "colab_type": "code",
        "colab": {}
      },
      "source": [
        "from sklearn.feature_extraction.text import CountVectorizer\n",
        "from sklearn.feature_extraction.text import TfidfTransformer\n",
        "from sklearn.naive_bayes import BernoulliNB, MultinomialNB, ComplementNB\n",
        "from sklearn.pipeline import Pipeline\n",
        "from sklearn import metrics\n",
        "from sklearn.svm import LinearSVC\n",
        "text_clf = Pipeline([\n",
        "    ('vect', CountVectorizer(stop_words='english')),\n",
        "    ('tfidf', TfidfTransformer()),\n",
        "    ('clf', MultinomialNB()),\n",
        "])\n",
        "from sklearn.model_selection import GridSearchCV\n",
        "parameters = {\n",
        "    'vect__ngram_range':[(1,1),(1,2),(1,3),(1,4)],\n",
        "    'tfidf__use_idf':(True,False),\n",
        "    'clf__alpha':(1e-1,1e-2,1e-3,1e-4),\n",
        "}"
      ],
      "execution_count": 0,
      "outputs": []
    },
    {
      "cell_type": "code",
      "metadata": {
        "id": "kRbEANyACOEp",
        "colab_type": "code",
        "outputId": "90a27ac4-5085-426d-93d7-119869d6bdad",
        "colab": {
          "base_uri": "https://localhost:8080/",
          "height": 85
        }
      },
      "source": [
        "gs_clf = GridSearchCV(text_clf, parameters, cv=5, iid=False, n_jobs=-1)\n",
        "gs_clf = gs_clf.fit(test.post_text,test.label)\n",
        "print(gs_clf.best_score_)\n",
        "for param_name in sorted(parameters.keys()):\n",
        "  print(\"%s: %r\" % (param_name, gs_clf.best_params_[param_name]))"
      ],
      "execution_count": 0,
      "outputs": [
        {
          "output_type": "stream",
          "text": [
            "0.5022362847490183\n",
            "clf__alpha: 0.1\n",
            "tfidf__use_idf: False\n",
            "vect__ngram_range: (1, 1)\n"
          ],
          "name": "stdout"
        }
      ]
    },
    {
      "cell_type": "markdown",
      "metadata": {
        "id": "vfBjh222Du9a",
        "colab_type": "text"
      },
      "source": [
        "topic=\"abortion\", grid search with 'vect__ngram_range':[(1,1),(1,2),(1,3),(1,4)],\n",
        "    'tfidf__use_idf':(True,False),\n",
        "    'clf__alpha':(1e-1,1e-2,1e-3,1e-4), MultinomialNB().\n",
        "    \n",
        "Get best scores 0.5022362847490183 with\n",
        "clf__alpha: 0.1, \n",
        "tfidf__use_idf: False, \n",
        "vect__ngram_range: (1, 1)."
      ]
    },
    {
      "cell_type": "markdown",
      "metadata": {
        "id": "v41WfCnkEKjq",
        "colab_type": "text"
      },
      "source": [
        "## Add clf__alpha = 0.1, best 0.5 and clf__alpha, even lower. Check whether it is due to the topic"
      ]
    },
    {
      "cell_type": "code",
      "metadata": {
        "id": "5ETgOoz8CN_3",
        "colab_type": "code",
        "colab": {}
      },
      "source": [
        "topic = \"gay rights\"\n",
        "test2 = data[data.topic==topic][[\"post_text\",\"label\"]]"
      ],
      "execution_count": 0,
      "outputs": []
    },
    {
      "cell_type": "code",
      "metadata": {
        "id": "wT2VYqTmEfHe",
        "colab_type": "code",
        "outputId": "f20cef91-3e5c-4aa1-a618-7887cbda3406",
        "colab": {
          "base_uri": "https://localhost:8080/",
          "height": 85
        }
      },
      "source": [
        "gs_clf = GridSearchCV(text_clf, parameters, cv=5, iid=False, n_jobs=-1)\n",
        "gs_clf = gs_clf.fit(test2.post_text,test2.label)\n",
        "print(gs_clf.best_score_)\n",
        "for param_name in sorted(parameters.keys()):\n",
        "  print(\"%s: %r\" % (param_name, gs_clf.best_params_[param_name]))"
      ],
      "execution_count": 0,
      "outputs": [
        {
          "output_type": "stream",
          "text": [
            "0.6011191760269251\n",
            "clf__alpha: 0.1\n",
            "tfidf__use_idf: False\n",
            "vect__ngram_range: (1, 1)\n"
          ],
          "name": "stdout"
        }
      ]
    },
    {
      "cell_type": "markdown",
      "metadata": {
        "id": "atjaleRVE2Mf",
        "colab_type": "text"
      },
      "source": [
        "topic=gay rights, grid search with same parameter ranges: [(1,1),(1,2),(1,3),(1,4)], 'tfidf__use_idf':(True,False), 'clf__alpha':(1e-1,1e-2,1e-3,1e-4), MultinomialNB().\n",
        "\n",
        "Get best scores 0.6011191760269251 with clf__alpha: 0.1,\n",
        "tfidf__use_idf: False,\n",
        "vect__ngram_range: (1, 1),"
      ]
    },
    {
      "cell_type": "markdown",
      "metadata": {
        "id": "DmNHuhNNj_tq",
        "colab_type": "text"
      },
      "source": [
        "### 尝试是否是MultinomialNB中clf_alpha的取值影响"
      ]
    },
    {
      "cell_type": "code",
      "metadata": {
        "id": "U4XrKnMTfY37",
        "colab_type": "code",
        "colab": {}
      },
      "source": [
        "text_clf = Pipeline([\n",
        "    ('vect', CountVectorizer(stop_words='english')),\n",
        "    ('tfidf', TfidfTransformer()),\n",
        "    ('clf', MultinomialNB()),\n",
        "])\n",
        "from sklearn.model_selection import GridSearchCV\n",
        "parameters = {\n",
        "    'vect__ngram_range':[(1,1),(1,2),(1,3),(1,4)],\n",
        "    'tfidf__use_idf':(True,False),\n",
        "    'clf__alpha':(10, 1,1e-1,1e-2,1e-3),\n",
        "}"
      ],
      "execution_count": 0,
      "outputs": []
    },
    {
      "cell_type": "code",
      "metadata": {
        "id": "E8upgw_MEfCa",
        "colab_type": "code",
        "outputId": "ee31b486-06c5-4aff-c300-36a3a7d945bc",
        "colab": {
          "base_uri": "https://localhost:8080/",
          "height": 85
        }
      },
      "source": [
        "gs_clf = GridSearchCV(text_clf, parameters, cv=5, iid=False, n_jobs=-1)\n",
        "gs_clf = gs_clf.fit(test.post_text,test.label)\n",
        "print(gs_clf.best_score_)\n",
        "for param_name in sorted(parameters.keys()):\n",
        "  print(\"%s: %r\" % (param_name, gs_clf.best_params_[param_name]))"
      ],
      "execution_count": 0,
      "outputs": [
        {
          "output_type": "stream",
          "text": [
            "0.553279827133817\n",
            "clf__alpha: 10\n",
            "tfidf__use_idf: True\n",
            "vect__ngram_range: (1, 2)\n"
          ],
          "name": "stdout"
        }
      ]
    },
    {
      "cell_type": "code",
      "metadata": {
        "id": "ZSmjSn7hl1x4",
        "colab_type": "code",
        "outputId": "b16b5b4d-d4be-4671-f35b-8d7b0d922315",
        "colab": {
          "base_uri": "https://localhost:8080/",
          "height": 85
        }
      },
      "source": [
        "text_clf = Pipeline([\n",
        "    ('vect', CountVectorizer(stop_words='english')),\n",
        "    ('tfidf', TfidfTransformer()),\n",
        "    ('clf', MultinomialNB()),\n",
        "])\n",
        "from sklearn.model_selection import GridSearchCV\n",
        "parameters = {\n",
        "    'vect__ngram_range':[(1,1),(1,2),(1,3),(1,4)],\n",
        "    'tfidf__use_idf':(True,False),\n",
        "    'clf__alpha':(10,7,4, 1),\n",
        "}\n",
        "gs_clf = GridSearchCV(text_clf, parameters, cv=5, iid=False, n_jobs=-1)\n",
        "gs_clf = gs_clf.fit(test.post_text,test.label)\n",
        "print(gs_clf.best_score_)\n",
        "for param_name in sorted(parameters.keys()):\n",
        "  print(\"%s: %r\" % (param_name, gs_clf.best_params_[param_name]))"
      ],
      "execution_count": 0,
      "outputs": [
        {
          "output_type": "stream",
          "text": [
            "0.553279827133817\n",
            "clf__alpha: 10\n",
            "tfidf__use_idf: True\n",
            "vect__ngram_range: (1, 2)\n"
          ],
          "name": "stdout"
        }
      ]
    },
    {
      "cell_type": "code",
      "metadata": {
        "id": "C0zOp0v7mZsP",
        "colab_type": "code",
        "outputId": "aa5a0bea-5edb-4074-f53c-36f74b4e7e66",
        "colab": {
          "base_uri": "https://localhost:8080/",
          "height": 85
        }
      },
      "source": [
        "text_clf = Pipeline([\n",
        "    ('vect', CountVectorizer(stop_words='english')),\n",
        "    ('tfidf', TfidfTransformer()),\n",
        "    ('clf', MultinomialNB()),\n",
        "])\n",
        "from sklearn.model_selection import GridSearchCV\n",
        "parameters = {\n",
        "    'vect__ngram_range':[(1,1),(1,2),(1,3),(1,4)],\n",
        "    'tfidf__use_idf':(True,False),\n",
        "    'clf__alpha':(2,1,0.5,1e-1),\n",
        "}\n",
        "gs_clf = GridSearchCV(text_clf, parameters, cv=5, iid=False, n_jobs=-1)\n",
        "gs_clf = gs_clf.fit(test.post_text,test.label)\n",
        "print(gs_clf.best_score_)\n",
        "for param_name in sorted(parameters.keys()):\n",
        "  print(\"%s: %r\" % (param_name, gs_clf.best_params_[param_name]))"
      ],
      "execution_count": 0,
      "outputs": [
        {
          "output_type": "stream",
          "text": [
            "0.5415427620860558\n",
            "clf__alpha: 2\n",
            "tfidf__use_idf: False\n",
            "vect__ngram_range: (1, 2)\n"
          ],
          "name": "stdout"
        }
      ]
    },
    {
      "cell_type": "code",
      "metadata": {
        "id": "dD8GPrw8EfAP",
        "colab_type": "code",
        "outputId": "aa93f3ce-8fb6-484b-c0a2-779d5fdc81ba",
        "colab": {
          "base_uri": "https://localhost:8080/",
          "height": 85
        }
      },
      "source": [
        "gs_clf = GridSearchCV(text_clf, parameters, cv=5, iid=False, n_jobs=-1)\n",
        "gs_clf = gs_clf.fit(test2.post_text,test2.label)\n",
        "print(gs_clf.best_score_)\n",
        "for param_name in sorted(parameters.keys()):\n",
        "  print(\"%s: %r\" % (param_name, gs_clf.best_params_[param_name]))"
      ],
      "execution_count": 0,
      "outputs": [
        {
          "output_type": "stream",
          "text": [
            "0.6416501088087804\n",
            "clf__alpha: 10\n",
            "tfidf__use_idf: True\n",
            "vect__ngram_range: (1, 1)\n"
          ],
          "name": "stdout"
        }
      ]
    },
    {
      "cell_type": "markdown",
      "metadata": {
        "id": "eWXtPsWffQ52",
        "colab_type": "text"
      },
      "source": [
        "## Try different classification"
      ]
    },
    {
      "cell_type": "markdown",
      "metadata": {
        "id": "_YOzrlyifz7g",
        "colab_type": "text"
      },
      "source": [
        "#### 1.MultinomialNB\n",
        "**In https://scikit-learn.org/stable/tutorial/text_analytics/working_with_text_data.html, write the one most suitable for word counts is the multinomial variant.**\n",
        "\n",
        "**Paramter alpha in MultinomialNB is smoothing variable**. $\\alpha \\ge 0$ accounts for features not present in the learning samples and prevents zero probabilities in further computations. Setting $\\alpha=1$ is called Laplace smoothing, while $\\alpha <1$ is called Lidstone smoothing.\n",
        "\n",
        "#### 2. ComplementNB\n",
        "ComplementNB是MultinomialNB升级版，更适合imbalanced data, 而且常常结果更好。\n",
        "\n",
        "#### 3. BernoulliNB\n",
        "在某些dataset很好，特别是文档很短的时候。\n",
        "\n",
        "#### 最终建议 是每种都试下。。。"
      ]
    },
    {
      "cell_type": "code",
      "metadata": {
        "id": "iDSGHezxqUTZ",
        "colab_type": "code",
        "outputId": "242df099-dfbd-4c5e-8bad-ecde06185d6e",
        "colab": {
          "base_uri": "https://localhost:8080/",
          "height": 85
        }
      },
      "source": [
        "text_clf = Pipeline([\n",
        "    ('vect', CountVectorizer(stop_words='english')),\n",
        "    ('tfidf', TfidfTransformer()),\n",
        "    ('clf', ComplementNB()),\n",
        "])\n",
        "from sklearn.model_selection import GridSearchCV\n",
        "parameters = {\n",
        "    'vect__ngram_range':[(1,1),(1,2),(1,3),(1,4)],\n",
        "    'tfidf__use_idf':(True,False),\n",
        "    'clf__alpha':(1,0.5,1e-1,1e-2,1e-3),\n",
        "}\n",
        "gs_clf = GridSearchCV(text_clf, parameters, cv=5, iid=False, n_jobs=-1)\n",
        "gs_clf = gs_clf.fit(test.post_text,test.label)\n",
        "print(gs_clf.best_score_)\n",
        "for param_name in sorted(parameters.keys()):\n",
        "  print(\"%s: %r\" % (param_name, gs_clf.best_params_[param_name]))"
      ],
      "execution_count": 0,
      "outputs": [
        {
          "output_type": "stream",
          "text": [
            "0.527457941040284\n",
            "clf__alpha: 1\n",
            "tfidf__use_idf: False\n",
            "vect__ngram_range: (1, 1)\n"
          ],
          "name": "stdout"
        }
      ]
    },
    {
      "cell_type": "code",
      "metadata": {
        "id": "fbqKC1tTrYuf",
        "colab_type": "code",
        "outputId": "33eaa237-8095-47b8-a099-d9a551066dff",
        "colab": {
          "base_uri": "https://localhost:8080/",
          "height": 85
        }
      },
      "source": [
        "text_clf = Pipeline([\n",
        "    ('vect', CountVectorizer(stop_words='english')),\n",
        "    ('tfidf', TfidfTransformer()),\n",
        "    ('clf', BernoulliNB()),\n",
        "])\n",
        "from sklearn.model_selection import GridSearchCV\n",
        "parameters = {\n",
        "    'vect__ngram_range':[(1,1),(1,2),(1,3),(1,4)],\n",
        "    'tfidf__use_idf':(True,False),\n",
        "    'clf__alpha':(1,0.5,1e-1,1e-2,1e-3),\n",
        "}\n",
        "gs_clf = GridSearchCV(text_clf, parameters, cv=5, iid=False, n_jobs=-1)\n",
        "gs_clf = gs_clf.fit(test.post_text,test.label)\n",
        "print(gs_clf.best_score_)\n",
        "for param_name in sorted(parameters.keys()):\n",
        "  print(\"%s: %r\" % (param_name, gs_clf.best_params_[param_name]))"
      ],
      "execution_count": 0,
      "outputs": [
        {
          "output_type": "stream",
          "text": [
            "0.5075749001046115\n",
            "clf__alpha: 1\n",
            "tfidf__use_idf: True\n",
            "vect__ngram_range: (1, 4)\n"
          ],
          "name": "stdout"
        }
      ]
    },
    {
      "cell_type": "code",
      "metadata": {
        "id": "ch0WQWZOsEIQ",
        "colab_type": "code",
        "colab": {}
      },
      "source": [
        "gs_clf.score"
      ],
      "execution_count": 0,
      "outputs": []
    },
    {
      "cell_type": "markdown",
      "metadata": {
        "id": "QYX4W1_wgvNL",
        "colab_type": "text"
      },
      "source": [
        "## SVM classifier uses SGDClassifier(loss='hinge', penalty='l2', alpha=1e-3, random_state=42,max_iter=5, tol=None) ##会比NB更好，但是慢点"
      ]
    },
    {
      "cell_type": "code",
      "metadata": {
        "id": "fh27nqfiEe78",
        "colab_type": "code",
        "outputId": "5f7e1837-faa2-4947-fe62-41464f5408c4",
        "colab": {
          "base_uri": "https://localhost:8080/",
          "height": 102
        }
      },
      "source": [
        "from sklearn.linear_model import SGDClassifier\n",
        "text_clf_SVM = Pipeline([\n",
        "    ('vect', CountVectorizer(stop_words='english')),\n",
        "    ('tfidf', TfidfTransformer()),\n",
        "    ('clf', SGDClassifier()),\n",
        "])\n",
        "from sklearn.model_selection import GridSearchCV\n",
        "parameters_SVM = {\n",
        "    'vect__ngram_range':[(1,1),(1,2),(1,3)],\n",
        "    'tfidf__use_idf':(True,False),\n",
        "    'clf__alpha':(1,1e-1,1e-2,1e-3),\n",
        "    'clf__penalty':('l1','l2'),\n",
        "}\n",
        "gs_clf_SVM = GridSearchCV(text_clf_SVM, parameters_SVM, cv=5, iid=False, n_jobs=-1)\n",
        "gs_clf_SVM = gs_clf_SVM.fit(test.post_text,test.label)\n",
        "print(gs_clf_SVM.best_score_)\n",
        "for param_name in sorted(parameters_SVM.keys()):\n",
        "  print(\"%s: %r\" % (param_name, gs_clf_SVM.best_params_[param_name]))"
      ],
      "execution_count": 0,
      "outputs": [
        {
          "output_type": "stream",
          "text": [
            "0.5877844660527173\n",
            "clf__alpha: 0.001\n",
            "clf__penalty: 'l1'\n",
            "tfidf__use_idf: False\n",
            "vect__ngram_range: (1, 2)\n"
          ],
          "name": "stdout"
        }
      ]
    },
    {
      "cell_type": "code",
      "metadata": {
        "id": "9dn58vFKv9mD",
        "colab_type": "code",
        "outputId": "fca5065d-da9f-404c-b0c6-ce5e0b948329",
        "colab": {
          "base_uri": "https://localhost:8080/",
          "height": 102
        }
      },
      "source": [
        "gs_clf_SVM = GridSearchCV(text_clf_SVM, parameters_SVM, cv=5, iid=False, n_jobs=-1)\n",
        "gs_clf_SVM = gs_clf_SVM.fit(test2.post_text,test2.label)\n",
        "print(gs_clf_SVM.best_score_)\n",
        "for param_name in sorted(parameters_SVM.keys()):\n",
        "  print(\"%s: %r\" % (param_name, gs_clf_SVM.best_params_[param_name]))"
      ],
      "execution_count": 0,
      "outputs": [
        {
          "output_type": "stream",
          "text": [
            "0.6416501088087804\n",
            "clf__alpha: 1\n",
            "clf__penalty: 'l1'\n",
            "tfidf__use_idf: True\n",
            "vect__ngram_range: (1, 1)\n"
          ],
          "name": "stdout"
        }
      ]
    },
    {
      "cell_type": "markdown",
      "metadata": {
        "id": "oBcsk-vwvcqh",
        "colab_type": "text"
      },
      "source": [
        "## 1.3. Test with more features (GridSearchCV)"
      ]
    },
    {
      "cell_type": "code",
      "metadata": {
        "id": "I_CzO8sbyCCy",
        "colab_type": "code",
        "colab": {
          "base_uri": "https://localhost:8080/",
          "height": 51
        },
        "outputId": "bdd5765c-03eb-4d67-f634-0d72c0fbebbb"
      },
      "source": [
        "shuffled_test[:,1]"
      ],
      "execution_count": 8,
      "outputs": [
        {
          "output_type": "execute_result",
          "data": {
            "text/plain": [
              "array(['abortion', 'abortion', 'abortion', ..., 'abortion', 'abortion',\n",
              "       'abortion'], dtype=object)"
            ]
          },
          "metadata": {
            "tags": []
          },
          "execution_count": 8
        }
      ]
    },
    {
      "cell_type": "markdown",
      "metadata": {
        "id": "2oWu5Z1ZyYa1",
        "colab_type": "text"
      },
      "source": [
        "###!只有6个liwc features"
      ]
    },
    {
      "cell_type": "code",
      "metadata": {
        "id": "dxrSvG2Svgby",
        "colab_type": "code",
        "colab": {}
      },
      "source": [
        "topic = \"abortion\"\n",
        "test = data[data.topic==topic][[\"post_text\",\"label\",\"word_count\",\"words_pronom\",\n",
        "                                      \"words_per_sen\",\"words_over_6\",\"pos_emo\",\"neg_emo\"]]\n",
        "shuffled_test = np.random.permutation(test)\n",
        "cv = CountVectorizer(stop_words='english', ngram_range=(1,2))\n",
        "test_cv = cv.fit_transform(shuffled_test[:,0])\n",
        "from scipy.sparse import hstack\n",
        "test_X = hstack((test_cv, shuffled_test[:,2:].astype(float)))\n",
        "test_y = shuffled_test[:,1]"
      ],
      "execution_count": 0,
      "outputs": []
    },
    {
      "cell_type": "markdown",
      "metadata": {
        "id": "oup-2fDNwaym",
        "colab_type": "text"
      },
      "source": [
        "#### using NB-best: MultinomialNB"
      ]
    },
    {
      "cell_type": "code",
      "metadata": {
        "id": "CsxylCwVvZgq",
        "colab_type": "code",
        "colab": {
          "base_uri": "https://localhost:8080/",
          "height": 51
        },
        "outputId": "8046cdbc-ddbc-4947-b717-70b00c9d05e8"
      },
      "source": [
        "text_clf = Pipeline([\n",
        "    ('clf', MultinomialNB()),\n",
        "])\n",
        "from sklearn.model_selection import GridSearchCV\n",
        "parameters = {\n",
        "    'clf__alpha':(1,1e-1,1e-2,1e-3),\n",
        "}\n",
        "gs_clf = GridSearchCV(text_clf, parameters, cv=5, iid=False, n_jobs=-1)\n",
        "gs_clf = gs_clf.fit(test_X, test_y)\n",
        "print(gs_clf.best_score_)\n",
        "for param_name in sorted(parameters.keys()):\n",
        "  print(\"%s: %r\" % (param_name, gs_clf.best_params_[param_name]))"
      ],
      "execution_count": 13,
      "outputs": [
        {
          "output_type": "stream",
          "text": [
            "0.553254102999434\n",
            "clf__alpha: 1\n"
          ],
          "name": "stdout"
        }
      ]
    },
    {
      "cell_type": "markdown",
      "metadata": {
        "id": "SbM_TLh8zcEk",
        "colab_type": "text"
      },
      "source": [
        "#### using svm"
      ]
    },
    {
      "cell_type": "code",
      "metadata": {
        "id": "xJSJOJDuzdim",
        "colab_type": "code",
        "colab": {
          "base_uri": "https://localhost:8080/",
          "height": 68
        },
        "outputId": "a96f51e7-8122-48a6-ae1f-7aaa3edca013"
      },
      "source": [
        "cv = CountVectorizer(stop_words='english', ngram_range=(1,1))\n",
        "test_cv = cv.fit_transform(shuffled_test[:,0])\n",
        "from scipy.sparse import hstack\n",
        "test_X = hstack((test_cv, shuffled_test[:,2:].astype(float)))\n",
        "test_y = shuffled_test[:,1]\n",
        "\n",
        "from sklearn.linear_model import SGDClassifier\n",
        "text_clf_SVM = Pipeline([\n",
        "    ('clf', SGDClassifier()),\n",
        "])\n",
        "from sklearn.model_selection import GridSearchCV\n",
        "parameters_SVM = {\n",
        "    'clf__alpha':(1,1e-1,1e-2,1e-3),\n",
        "    'clf__penalty':('l1','l2'),\n",
        "}\n",
        "gs_clf_SVM = GridSearchCV(text_clf_SVM, parameters_SVM, cv=5, iid=False, n_jobs=-1)\n",
        "gs_clf_SVM = gs_clf_SVM.fit(test_X, test_y)\n",
        "print(gs_clf_SVM.best_score_)\n",
        "for param_name in sorted(parameters_SVM.keys()):\n",
        "  print(\"%s: %r\" % (param_name, gs_clf_SVM.best_params_[param_name]))"
      ],
      "execution_count": 14,
      "outputs": [
        {
          "output_type": "stream",
          "text": [
            "0.5854692939582583\n",
            "clf__alpha: 0.001\n",
            "clf__penalty: 'l1'\n"
          ],
          "name": "stdout"
        }
      ]
    },
    {
      "cell_type": "code",
      "metadata": {
        "id": "nsmyjLPY09cH",
        "colab_type": "code",
        "colab": {
          "base_uri": "https://localhost:8080/",
          "height": 68
        },
        "outputId": "6484bef3-d7f3-42c3-c1c7-29e51b4e1c2a"
      },
      "source": [
        "cv = CountVectorizer(stop_words='english', ngram_range=(1,2))\n",
        "test_cv = cv.fit_transform(shuffled_test[:,0])\n",
        "from scipy.sparse import hstack\n",
        "test_X = hstack((test_cv, shuffled_test[:,2:].astype(float)))\n",
        "test_y = shuffled_test[:,1]\n",
        "\n",
        "from sklearn.linear_model import SGDClassifier\n",
        "text_clf_SVM = Pipeline([\n",
        "    ('clf', SGDClassifier()),\n",
        "])\n",
        "from sklearn.model_selection import GridSearchCV\n",
        "parameters_SVM = {\n",
        "    'clf__alpha':(1,1e-1,1e-2,1e-3),\n",
        "    'clf__penalty':('l1','l2'),\n",
        "}\n",
        "gs_clf_SVM = GridSearchCV(text_clf_SVM, parameters_SVM, cv=5, iid=False, n_jobs=-1)\n",
        "gs_clf_SVM = gs_clf_SVM.fit(test_X, test_y)\n",
        "print(gs_clf_SVM.best_score_)\n",
        "for param_name in sorted(parameters_SVM.keys()):\n",
        "  print(\"%s: %r\" % (param_name, gs_clf_SVM.best_params_[param_name]))"
      ],
      "execution_count": 15,
      "outputs": [
        {
          "output_type": "stream",
          "text": [
            "0.5678791308672463\n",
            "clf__alpha: 0.01\n",
            "clf__penalty: 'l2'\n"
          ],
          "name": "stdout"
        }
      ]
    },
    {
      "cell_type": "code",
      "metadata": {
        "id": "kwYAFjN41B9q",
        "colab_type": "code",
        "colab": {
          "base_uri": "https://localhost:8080/",
          "height": 68
        },
        "outputId": "39e4640f-7ef5-4c70-8391-3fde0807fbd6"
      },
      "source": [
        "cv = CountVectorizer(stop_words='english', ngram_range=(1,1))\n",
        "test_cv = cv.fit_transform(shuffled_test[:,0])\n",
        "from scipy.sparse import hstack\n",
        "test_X = hstack((test_cv, shuffled_test[:,2:3].astype(float)))\n",
        "test_y = shuffled_test[:,1]\n",
        "\n",
        "from sklearn.linear_model import SGDClassifier\n",
        "text_clf_SVM = Pipeline([\n",
        "    ('clf', SGDClassifier()),\n",
        "])\n",
        "from sklearn.model_selection import GridSearchCV\n",
        "parameters_SVM = {\n",
        "    'clf__alpha':(1,1e-1,1e-2,1e-3),\n",
        "    'clf__penalty':('l1','l2'),\n",
        "}\n",
        "gs_clf_SVM = GridSearchCV(text_clf_SVM, parameters_SVM, cv=5, iid=False, n_jobs=-1)\n",
        "gs_clf_SVM = gs_clf_SVM.fit(test_X, test_y)\n",
        "print(gs_clf_SVM.best_score_)\n",
        "for param_name in sorted(parameters_SVM.keys()):\n",
        "  print(\"%s: %r\" % (param_name, gs_clf_SVM.best_params_[param_name]))"
      ],
      "execution_count": 19,
      "outputs": [
        {
          "output_type": "stream",
          "text": [
            "0.57727872957075\n",
            "clf__alpha: 0.01\n",
            "clf__penalty: 'l1'\n"
          ],
          "name": "stdout"
        }
      ]
    },
    {
      "cell_type": "code",
      "metadata": {
        "id": "8dVJi-gZ1nuq",
        "colab_type": "code",
        "colab": {
          "base_uri": "https://localhost:8080/",
          "height": 68
        },
        "outputId": "0a892c6d-e61f-40ee-c787-fc12fae3bcff"
      },
      "source": [
        "cv = CountVectorizer(stop_words='english', ngram_range=(1,1))\n",
        "test_cv = cv.fit_transform(shuffled_test[:,0])\n",
        "from scipy.sparse import hstack\n",
        "test_X = hstack((test_cv, shuffled_test[:,2:4].astype(float)))\n",
        "test_y = shuffled_test[:,1]\n",
        "\n",
        "from sklearn.linear_model import SGDClassifier\n",
        "text_clf_SVM = Pipeline([\n",
        "    ('clf', SGDClassifier()),\n",
        "])\n",
        "from sklearn.model_selection import GridSearchCV\n",
        "parameters_SVM = {\n",
        "    'clf__alpha':(1,1e-1,1e-2,1e-3),\n",
        "    'clf__penalty':('l1','l2'),\n",
        "}\n",
        "gs_clf_SVM = GridSearchCV(text_clf_SVM, parameters_SVM, cv=5, iid=False, n_jobs=-1)\n",
        "gs_clf_SVM = gs_clf_SVM.fit(test_X, test_y)\n",
        "print(gs_clf_SVM.best_score_)\n",
        "for param_name in sorted(parameters_SVM.keys()):\n",
        "  print(\"%s: %r\" % (param_name, gs_clf_SVM.best_params_[param_name]))"
      ],
      "execution_count": 20,
      "outputs": [
        {
          "output_type": "stream",
          "text": [
            "0.5854778686697192\n",
            "clf__alpha: 0.001\n",
            "clf__penalty: 'l1'\n"
          ],
          "name": "stdout"
        }
      ]
    },
    {
      "cell_type": "code",
      "metadata": {
        "id": "38G3PswP1p_N",
        "colab_type": "code",
        "colab": {
          "base_uri": "https://localhost:8080/",
          "height": 68
        },
        "outputId": "1da3b90d-00d4-420e-b51e-0fa71a4da02e"
      },
      "source": [
        "cv = CountVectorizer(stop_words='english', ngram_range=(1,1))\n",
        "test_cv = cv.fit_transform(shuffled_test[:,0])\n",
        "from scipy.sparse import hstack\n",
        "test_X = hstack((test_cv, shuffled_test[:,2:5].astype(float)))\n",
        "test_y = shuffled_test[:,1]\n",
        "\n",
        "from sklearn.linear_model import SGDClassifier\n",
        "text_clf_SVM = Pipeline([\n",
        "    ('clf', SGDClassifier()),\n",
        "])\n",
        "from sklearn.model_selection import GridSearchCV\n",
        "parameters_SVM = {\n",
        "    'clf__alpha':(1,1e-1,1e-2,1e-3),\n",
        "    'clf__penalty':('l1','l2'),\n",
        "}\n",
        "gs_clf_SVM = GridSearchCV(text_clf_SVM, parameters_SVM, cv=5, iid=False, n_jobs=-1)\n",
        "gs_clf_SVM = gs_clf_SVM.fit(test_X, test_y)\n",
        "print(gs_clf_SVM.best_score_)\n",
        "for param_name in sorted(parameters_SVM.keys()):\n",
        "  print(\"%s: %r\" % (param_name, gs_clf_SVM.best_params_[param_name]))"
      ],
      "execution_count": 21,
      "outputs": [
        {
          "output_type": "stream",
          "text": [
            "0.5661487540944248\n",
            "clf__alpha: 0.01\n",
            "clf__penalty: 'l2'\n"
          ],
          "name": "stdout"
        }
      ]
    },
    {
      "cell_type": "code",
      "metadata": {
        "id": "8EEROH_11tTz",
        "colab_type": "code",
        "colab": {
          "base_uri": "https://localhost:8080/",
          "height": 68
        },
        "outputId": "39662147-4370-4c8b-b8df-34199635c379"
      },
      "source": [
        "cv = CountVectorizer(stop_words='english', ngram_range=(1,1))\n",
        "test_cv = cv.fit_transform(shuffled_test[:,0])\n",
        "from scipy.sparse import hstack\n",
        "test_X = hstack((test_cv, shuffled_test[:,2:6].astype(float)))\n",
        "test_y = shuffled_test[:,1]\n",
        "\n",
        "from sklearn.linear_model import SGDClassifier\n",
        "text_clf_SVM = Pipeline([\n",
        "    ('clf', SGDClassifier()),\n",
        "])\n",
        "from sklearn.model_selection import GridSearchCV\n",
        "parameters_SVM = {\n",
        "    'clf__alpha':(1,1e-1,1e-2,1e-3),\n",
        "    'clf__penalty':('l1','l2'),\n",
        "}\n",
        "gs_clf_SVM = GridSearchCV(text_clf_SVM, parameters_SVM, cv=5, iid=False, n_jobs=-1)\n",
        "gs_clf_SVM = gs_clf_SVM.fit(test_X, test_y)\n",
        "print(gs_clf_SVM.best_score_)\n",
        "for param_name in sorted(parameters_SVM.keys()):\n",
        "  print(\"%s: %r\" % (param_name, gs_clf_SVM.best_params_[param_name]))"
      ],
      "execution_count": 22,
      "outputs": [
        {
          "output_type": "stream",
          "text": [
            "0.5749481229956612\n",
            "clf__alpha: 1\n",
            "clf__penalty: 'l2'\n"
          ],
          "name": "stdout"
        }
      ]
    },
    {
      "cell_type": "code",
      "metadata": {
        "id": "uuB9l4HD12xs",
        "colab_type": "code",
        "colab": {
          "base_uri": "https://localhost:8080/",
          "height": 68
        },
        "outputId": "7e3711cf-4731-45e7-89e7-531e733df1d0"
      },
      "source": [
        "cv = CountVectorizer(stop_words='english', ngram_range=(1,1))\n",
        "test_cv = cv.fit_transform(shuffled_test[:,0])\n",
        "from scipy.sparse import hstack\n",
        "test_X = hstack((test_cv, shuffled_test[:,3:4].astype(float)))\n",
        "test_y = shuffled_test[:,1]\n",
        "\n",
        "from sklearn.linear_model import SGDClassifier\n",
        "text_clf_SVM = Pipeline([\n",
        "    ('clf', SGDClassifier()),\n",
        "])\n",
        "from sklearn.model_selection import GridSearchCV\n",
        "parameters_SVM = {\n",
        "    'clf__alpha':(1,1e-1,1e-2,1e-3),\n",
        "    'clf__penalty':('l1','l2'),\n",
        "}\n",
        "gs_clf_SVM = GridSearchCV(text_clf_SVM, parameters_SVM, cv=5, iid=False, n_jobs=-1)\n",
        "gs_clf_SVM = gs_clf_SVM.fit(test_X, test_y)\n",
        "print(gs_clf_SVM.best_score_)\n",
        "for param_name in sorted(parameters_SVM.keys()):\n",
        "  print(\"%s: %r\" % (param_name, gs_clf_SVM.best_params_[param_name]))"
      ],
      "execution_count": 23,
      "outputs": [
        {
          "output_type": "stream",
          "text": [
            "0.591320677059217\n",
            "clf__alpha: 0.01\n",
            "clf__penalty: 'l1'\n"
          ],
          "name": "stdout"
        }
      ]
    },
    {
      "cell_type": "code",
      "metadata": {
        "id": "t4NsRK7W177O",
        "colab_type": "code",
        "colab": {
          "base_uri": "https://localhost:8080/",
          "height": 68
        },
        "outputId": "73851458-004d-41aa-e787-11ab77e9112b"
      },
      "source": [
        "cv = CountVectorizer(stop_words='english', ngram_range=(1,1))\n",
        "test_cv = cv.fit_transform(shuffled_test[:,0])\n",
        "from scipy.sparse import hstack\n",
        "test_X = hstack((test_cv, shuffled_test[:,3:].astype(float)))\n",
        "test_y = shuffled_test[:,1]\n",
        "\n",
        "from sklearn.linear_model import SGDClassifier\n",
        "text_clf_SVM = Pipeline([\n",
        "    ('clf', SGDClassifier()),\n",
        "])\n",
        "from sklearn.model_selection import GridSearchCV\n",
        "parameters_SVM = {\n",
        "    'clf__alpha':(1,1e-1,1e-2,1e-3),\n",
        "    'clf__penalty':('l1','l2'),\n",
        "}\n",
        "gs_clf_SVM = GridSearchCV(text_clf_SVM, parameters_SVM, cv=5, iid=False, n_jobs=-1)\n",
        "gs_clf_SVM = gs_clf_SVM.fit(test_X, test_y)\n",
        "print(gs_clf_SVM.best_score_)\n",
        "for param_name in sorted(parameters_SVM.keys()):\n",
        "  print(\"%s: %r\" % (param_name, gs_clf_SVM.best_params_[param_name]))"
      ],
      "execution_count": 24,
      "outputs": [
        {
          "output_type": "stream",
          "text": [
            "0.5942583732057416\n",
            "clf__alpha: 0.001\n",
            "clf__penalty: 'l1'\n"
          ],
          "name": "stdout"
        }
      ]
    },
    {
      "cell_type": "code",
      "metadata": {
        "id": "mMSStG742AcZ",
        "colab_type": "code",
        "colab": {
          "base_uri": "https://localhost:8080/",
          "height": 68
        },
        "outputId": "e3eb6bcc-bff7-4397-a778-60a21fae23e7"
      },
      "source": [
        "cv = CountVectorizer(stop_words='english', ngram_range=(1,1))\n",
        "test_cv = cv.fit_transform(shuffled_test[:,0])\n",
        "from scipy.sparse import hstack\n",
        "test_X = hstack((test_cv, shuffled_test[:,3:5].astype(float)))\n",
        "test_y = shuffled_test[:,1]\n",
        "\n",
        "from sklearn.linear_model import SGDClassifier\n",
        "text_clf_SVM = Pipeline([\n",
        "    ('clf', SGDClassifier()),\n",
        "])\n",
        "from sklearn.model_selection import GridSearchCV\n",
        "parameters_SVM = {\n",
        "    'clf__alpha':(1,1e-1,1e-2,1e-3),\n",
        "    'clf__penalty':('l1','l2'),\n",
        "}\n",
        "gs_clf_SVM = GridSearchCV(text_clf_SVM, parameters_SVM, cv=5, iid=False, n_jobs=-1)\n",
        "gs_clf_SVM = gs_clf_SVM.fit(test_X, test_y)\n",
        "print(gs_clf_SVM.best_score_)\n",
        "for param_name in sorted(parameters_SVM.keys()):\n",
        "  print(\"%s: %r\" % (param_name, gs_clf_SVM.best_params_[param_name]))"
      ],
      "execution_count": 25,
      "outputs": [
        {
          "output_type": "stream",
          "text": [
            "0.5925074171254137\n",
            "clf__alpha: 0.01\n",
            "clf__penalty: 'l2'\n"
          ],
          "name": "stdout"
        }
      ]
    },
    {
      "cell_type": "code",
      "metadata": {
        "id": "uw3PkiLO2DZi",
        "colab_type": "code",
        "colab": {
          "base_uri": "https://localhost:8080/",
          "height": 68
        },
        "outputId": "375a3a42-2be7-46ed-95cb-aafb17167e13"
      },
      "source": [
        "cv = CountVectorizer(stop_words='english', ngram_range=(1,1))\n",
        "test_cv = cv.fit_transform(shuffled_test[:,0])\n",
        "from scipy.sparse import hstack\n",
        "test_X = hstack((test_cv, shuffled_test[:,3:6].astype(float)))\n",
        "test_y = shuffled_test[:,1]\n",
        "\n",
        "from sklearn.linear_model import SGDClassifier\n",
        "text_clf_SVM = Pipeline([\n",
        "    ('clf', SGDClassifier()),\n",
        "])\n",
        "from sklearn.model_selection import GridSearchCV\n",
        "parameters_SVM = {\n",
        "    'clf__alpha':(1,1e-1,1e-2,1e-3),\n",
        "    'clf__penalty':('l1','l2'),\n",
        "}\n",
        "gs_clf_SVM = GridSearchCV(text_clf_SVM, parameters_SVM, cv=5, iid=False, n_jobs=-1)\n",
        "gs_clf_SVM = gs_clf_SVM.fit(test_X, test_y)\n",
        "print(gs_clf_SVM.best_score_)\n",
        "for param_name in sorted(parameters_SVM.keys()):\n",
        "  print(\"%s: %r\" % (param_name, gs_clf_SVM.best_params_[param_name]))"
      ],
      "execution_count": 26,
      "outputs": [
        {
          "output_type": "stream",
          "text": [
            "0.6024300732280359\n",
            "clf__alpha: 0.1\n",
            "clf__penalty: 'l2'\n"
          ],
          "name": "stdout"
        }
      ]
    },
    {
      "cell_type": "code",
      "metadata": {
        "id": "swX4Ew1W43lQ",
        "colab_type": "code",
        "colab": {
          "base_uri": "https://localhost:8080/",
          "height": 102
        },
        "outputId": "0cc2d1a6-3160-41e5-ef9f-0785ac69acd1"
      },
      "source": [
        "cv = CountVectorizer(stop_words='english', ngram_range=(1,1))\n",
        "test_cv = cv.fit_transform(shuffled_test[:,0])\n",
        "from scipy.sparse import hstack\n",
        "test_X = hstack((test_cv, shuffled_test[:,3:6].astype(float)))\n",
        "test_y = shuffled_test[:,1]\n",
        "\n",
        "from sklearn.linear_model import SGDClassifier\n",
        "text_clf_SVM = Pipeline([\n",
        "    ('clf', SGDClassifier()),\n",
        "])\n",
        "from sklearn.model_selection import GridSearchCV\n",
        "parameters_SVM = {\n",
        "    'clf__alpha':(1,1e-1,1e-2,1e-3),\n",
        "    'clf__penalty':('l1','l2','None'),\n",
        "    'clf__loss':('hinge', 'log', 'modified_huber', 'squared_hinge', 'perceptron'),\n",
        "    'clf__max_iter':(1000,5000,10000,20000),\n",
        "    \n",
        "}\n",
        "gs_clf_SVM = GridSearchCV(text_clf_SVM, parameters_SVM, cv=5, iid=False, n_jobs=-1)\n",
        "gs_clf_SVM = gs_clf_SVM.fit(test_X, test_y)\n",
        "print(gs_clf_SVM.best_score_)\n",
        "for param_name in sorted(parameters_SVM.keys()):\n",
        "  print(\"%s: %r\" % (param_name, gs_clf_SVM.best_params_[param_name]))"
      ],
      "execution_count": 33,
      "outputs": [
        {
          "output_type": "stream",
          "text": [
            "0.6118039477971566\n",
            "clf__alpha: 1\n",
            "clf__loss: 'modified_huber'\n",
            "clf__max_iter: 1000\n",
            "clf__penalty: 'l2'\n"
          ],
          "name": "stdout"
        }
      ]
    },
    {
      "cell_type": "markdown",
      "metadata": {
        "id": "vH3WO6pm7EcH",
        "colab_type": "text"
      },
      "source": [
        ""
      ]
    },
    {
      "cell_type": "code",
      "metadata": {
        "id": "FNinjih-7C5m",
        "colab_type": "code",
        "colab": {
          "base_uri": "https://localhost:8080/",
          "height": 122
        },
        "outputId": "04abb0b8-8c75-43c3-fd4c-d2f9b632b47b"
      },
      "source": [
        "from sklearn.svm import LinearSVC\n",
        "text_clf_SVM = Pipeline([\n",
        "    ('clf', LinearSVC()),\n",
        "])\n",
        "from sklearn.model_selection import GridSearchCV\n",
        "parameters_SVM = {\n",
        "    #'clf__penalty':('l1','l2'),\n",
        "    'clf__dual':(True, False),\n",
        "    #'clf__loss':('hinge', 'squared_hinge'),\n",
        "    'clf__C':(1, 0.5,0.1),\n",
        "    \n",
        "}\n",
        "gs_clf_SVM = GridSearchCV(text_clf_SVM, parameters_SVM, cv=5, n_jobs=-1)\n",
        "gs_clf_SVM = gs_clf_SVM.fit(test_X, test_y)\n",
        "print(gs_clf_SVM.best_score_)\n",
        "for param_name in sorted(parameters_SVM.keys()):\n",
        "  print(\"%s: %r\" % (param_name, gs_clf_SVM.best_params_[param_name]))"
      ],
      "execution_count": 42,
      "outputs": [
        {
          "output_type": "stream",
          "text": [
            "0.5954332552693209\n",
            "clf__C: 0.1\n",
            "clf__dual: True\n"
          ],
          "name": "stdout"
        },
        {
          "output_type": "stream",
          "text": [
            "/usr/local/lib/python3.6/dist-packages/sklearn/svm/base.py:929: ConvergenceWarning: Liblinear failed to converge, increase the number of iterations.\n",
            "  \"the number of iterations.\", ConvergenceWarning)\n"
          ],
          "name": "stderr"
        }
      ]
    },
    {
      "cell_type": "code",
      "metadata": {
        "id": "heg4HhfA2vw0",
        "colab_type": "code",
        "colab": {
          "base_uri": "https://localhost:8080/",
          "height": 51
        },
        "outputId": "f1e33702-a8c8-4f72-ea81-6bb9579d7c0c"
      },
      "source": [
        "cv = CountVectorizer(stop_words='english', ngram_range=(1,1))\n",
        "test_cv = cv.fit_transform(shuffled_test[:,0])\n",
        "from scipy.sparse import hstack\n",
        "test_X = hstack((test_cv, shuffled_test[:,3:6].astype(float)))\n",
        "test_y = shuffled_test[:,1]\n",
        "\n",
        "gs_clf = GridSearchCV(text_clf, parameters, cv=5, iid=False, n_jobs=-1)\n",
        "gs_clf = gs_clf.fit(test_X, test_y)\n",
        "print(gs_clf.best_score_)\n",
        "for param_name in sorted(parameters.keys()):\n",
        "  print(\"%s: %r\" % (param_name, gs_clf.best_params_[param_name]))"
      ],
      "execution_count": 30,
      "outputs": [
        {
          "output_type": "stream",
          "text": [
            "0.5831352574985852\n",
            "clf__alpha: 1\n"
          ],
          "name": "stdout"
        }
      ]
    },
    {
      "cell_type": "code",
      "metadata": {
        "id": "DlTcqFXK2IY_",
        "colab_type": "code",
        "colab": {
          "base_uri": "https://localhost:8080/",
          "height": 68
        },
        "outputId": "7acd4cbd-f9ff-4e0c-aeea-365dc7162d1d"
      },
      "source": [
        "cv = CountVectorizer(stop_words='english', ngram_range=(1,1))\n",
        "test_cv = cv.fit_transform(shuffled_test[:,0])\n",
        "from scipy.sparse import hstack\n",
        "test_X = hstack((test_cv, shuffled_test[:,4:].astype(float)))\n",
        "test_y = shuffled_test[:,1]\n",
        "\n",
        "from sklearn.linear_model import SGDClassifier\n",
        "text_clf_SVM = Pipeline([\n",
        "    ('clf', SGDClassifier()),\n",
        "])\n",
        "from sklearn.model_selection import GridSearchCV\n",
        "parameters_SVM = {\n",
        "    'clf__alpha':(1,1e-1,1e-2,1e-3),\n",
        "    'clf__penalty':('l1','l2'),\n",
        "}\n",
        "gs_clf_SVM = GridSearchCV(text_clf_SVM, parameters_SVM, cv=5, iid=False, n_jobs=-1)\n",
        "gs_clf_SVM = gs_clf_SVM.fit(test_X, test_y)\n",
        "print(gs_clf_SVM.best_score_)\n",
        "for param_name in sorted(parameters_SVM.keys()):\n",
        "  print(\"%s: %r\" % (param_name, gs_clf_SVM.best_params_[param_name]))"
      ],
      "execution_count": 27,
      "outputs": [
        {
          "output_type": "stream",
          "text": [
            "0.5971977842945585\n",
            "clf__alpha: 0.001\n",
            "clf__penalty: 'l1'\n"
          ],
          "name": "stdout"
        }
      ]
    },
    {
      "cell_type": "code",
      "metadata": {
        "id": "ADqAMqfg2NPK",
        "colab_type": "code",
        "colab": {
          "base_uri": "https://localhost:8080/",
          "height": 68
        },
        "outputId": "f2d89b9e-34d3-471a-904f-ffa374ec12de"
      },
      "source": [
        "cv = CountVectorizer(stop_words='english', ngram_range=(1,1))\n",
        "test_cv = cv.fit_transform(shuffled_test[:,0])\n",
        "from scipy.sparse import hstack\n",
        "test_X = hstack((test_cv, shuffled_test[:,4:6].astype(float)))\n",
        "test_y = shuffled_test[:,1]\n",
        "\n",
        "from sklearn.linear_model import SGDClassifier\n",
        "text_clf_SVM = Pipeline([\n",
        "    ('clf', SGDClassifier()),\n",
        "])\n",
        "from sklearn.model_selection import GridSearchCV\n",
        "parameters_SVM = {\n",
        "    'clf__alpha':(1,1e-1,1e-2,1e-3),\n",
        "    'clf__penalty':('l1','l2'),\n",
        "}\n",
        "gs_clf_SVM = GridSearchCV(text_clf_SVM, parameters_SVM, cv=5, iid=False, n_jobs=-1)\n",
        "gs_clf_SVM = gs_clf_SVM.fit(test_X, test_y)\n",
        "print(gs_clf_SVM.best_score_)\n",
        "for param_name in sorted(parameters_SVM.keys()):\n",
        "  print(\"%s: %r\" % (param_name, gs_clf_SVM.best_params_[param_name]))"
      ],
      "execution_count": 28,
      "outputs": [
        {
          "output_type": "stream",
          "text": [
            "0.6047932637066763\n",
            "clf__alpha: 0.01\n",
            "clf__penalty: 'l1'\n"
          ],
          "name": "stdout"
        }
      ]
    },
    {
      "cell_type": "code",
      "metadata": {
        "id": "WaIShXhG2QmB",
        "colab_type": "code",
        "colab": {
          "base_uri": "https://localhost:8080/",
          "height": 68
        },
        "outputId": "09f7d40f-b3ca-4ac5-d21a-573d14968f1c"
      },
      "source": [
        "cv = CountVectorizer(stop_words='english', ngram_range=(1,2))\n",
        "test_cv = cv.fit_transform(shuffled_test[:,0])\n",
        "from scipy.sparse import hstack\n",
        "test_X = hstack((test_cv, shuffled_test[:,4:6].astype(float)))\n",
        "test_y = shuffled_test[:,1]\n",
        "\n",
        "from sklearn.linear_model import SGDClassifier\n",
        "text_clf_SVM = Pipeline([\n",
        "    ('clf', SGDClassifier()),\n",
        "])\n",
        "from sklearn.model_selection import GridSearchCV\n",
        "parameters_SVM = {\n",
        "    'clf__alpha':(1,1e-1,1e-2,1e-3),\n",
        "    'clf__penalty':('l1','l2'),\n",
        "}\n",
        "gs_clf_SVM = GridSearchCV(text_clf_SVM, parameters_SVM, cv=5, iid=False, n_jobs=-1)\n",
        "gs_clf_SVM = gs_clf_SVM.fit(test_X, test_y)\n",
        "print(gs_clf_SVM.best_score_)\n",
        "for param_name in sorted(parameters_SVM.keys()):\n",
        "  print(\"%s: %r\" % (param_name, gs_clf_SVM.best_params_[param_name]))"
      ],
      "execution_count": 29,
      "outputs": [
        {
          "output_type": "stream",
          "text": [
            "0.5966112740306289\n",
            "clf__alpha: 0.01\n",
            "clf__penalty: 'l1'\n"
          ],
          "name": "stdout"
        }
      ]
    },
    {
      "cell_type": "markdown",
      "metadata": {
        "id": "w4hZ0ufZvS50",
        "colab_type": "text"
      },
      "source": [
        "# 隔离隔离！！！"
      ]
    },
    {
      "cell_type": "code",
      "metadata": {
        "id": "GaoVTcN9-lkg",
        "colab_type": "code",
        "colab": {
          "base_uri": "https://localhost:8080/",
          "height": 343
        },
        "outputId": "ac01c736-cf5a-40d3-c28e-a41679636ec6"
      },
      "source": [
        "pipeline_obj = Pipeline([('vect',CountVectorizer()),('tfidf',TfidfTransformer()),('clf',SGDClassifier()),])\n",
        "print(\"pipeline:\",'\\n', [name for name, _ in pipeline_obj.steps],'\\n')\n",
        "\n",
        "parameters = {\n",
        "    'vect__max_df': (0.5, 0.75),'vect__max_features': (None, 5000, 10000),\n",
        "    'tfidf__use_idf': (True, False),'tfidf__norm': ('l1', 'l2'),\n",
        "    'clf__alpha': (0.00001, 0.000001), 'clf__n_iter_no_change': (5,10, 50) }\n",
        "print(\"parameters:\",'\\n',parameters,'\\n')\n",
        "\n",
        "grid_search = GridSearchCV( pipeline_obj, parameters, cv=5, n_jobs = -1,verbose=1 )\n",
        "#print('grid_search','\\n',grid_search,'\\n') #输出所有参数名及参数候选值\n",
        "grid_search.fit(test.post_text,test.label),'\\n'#遍历执行候选参数，寻找最优参数\n",
        "\n",
        "best_parameters = dict(grid_search.best_estimator_.get_params())#get实例中的最优参数\n",
        "for param_name in sorted(parameters.keys()):\n",
        "    print(\"\\t%s: %r\" % (param_name, best_parameters[param_name])),'\\n'#输出最有参数结果\n",
        "#pipeline_obj.set_params(clf__alpha = 1e-05,clf__n_iter = 50,tfidf__use_idf = True,vect__max_df = 0.5,vect__max_features = None)\n",
        "#将pipeline_obj实例中的参数重写为最优结果'''\n",
        "#print(pipeline_obj.named_steps)\n",
        "\n",
        "\n",
        "#用最优参数训练模型'''\n",
        "# pipeline_obj.fit(Xtrain,Ytrain)\n",
        "# pred = pipeline_obj.predict(Xtrain)\n",
        "# print('\\n',metrics.classification_report(Ytrain,pred))\n",
        "# pred = pipeline_obj.predict(Xtest)\n",
        "# print('\\n',metrics.classification_report(Ytest,pred))"
      ],
      "execution_count": 47,
      "outputs": [
        {
          "output_type": "stream",
          "text": [
            "pipeline: \n",
            " ['vect', 'tfidf', 'clf'] \n",
            "\n",
            "parameters: \n",
            " {'vect__max_df': (0.5, 0.75), 'vect__max_features': (None, 5000, 10000), 'tfidf__use_idf': (True, False), 'tfidf__norm': ('l1', 'l2'), 'clf__alpha': (1e-05, 1e-06), 'clf__n_iter_no_change': (5, 10, 50)} \n",
            "\n",
            "Fitting 5 folds for each of 144 candidates, totalling 720 fits\n"
          ],
          "name": "stdout"
        },
        {
          "output_type": "stream",
          "text": [
            "[Parallel(n_jobs=-1)]: Using backend LokyBackend with 2 concurrent workers.\n",
            "[Parallel(n_jobs=-1)]: Done  46 tasks      | elapsed:   10.4s\n",
            "[Parallel(n_jobs=-1)]: Done 196 tasks      | elapsed:   38.8s\n",
            "[Parallel(n_jobs=-1)]: Done 446 tasks      | elapsed:  1.5min\n"
          ],
          "name": "stderr"
        },
        {
          "output_type": "stream",
          "text": [
            "\tclf__alpha: 1e-05\n",
            "\tclf__n_iter_no_change: 5\n",
            "\ttfidf__norm: 'l1'\n",
            "\ttfidf__use_idf: False\n",
            "\tvect__max_df: 0.5\n",
            "\tvect__max_features: 5000\n"
          ],
          "name": "stdout"
        },
        {
          "output_type": "stream",
          "text": [
            "[Parallel(n_jobs=-1)]: Done 720 out of 720 | elapsed:  2.4min finished\n"
          ],
          "name": "stderr"
        }
      ]
    },
    {
      "cell_type": "code",
      "metadata": {
        "id": "vrUfI4JfAszW",
        "colab_type": "code",
        "colab": {
          "base_uri": "https://localhost:8080/",
          "height": 34
        },
        "outputId": "ebfc7d9c-0e97-4977-cd49-d4885ea67988"
      },
      "source": [
        "grid_search.best_score_"
      ],
      "execution_count": 49,
      "outputs": [
        {
          "output_type": "execute_result",
          "data": {
            "text/plain": [
              "0.5579625292740047"
            ]
          },
          "metadata": {
            "tags": []
          },
          "execution_count": 49
        }
      ]
    },
    {
      "cell_type": "code",
      "metadata": {
        "id": "Ma-zGhtYDFyj",
        "colab_type": "code",
        "colab": {}
      },
      "source": [
        "from sklearn.feature_selection import SelectKBest, chi2\n",
        "X_new = SelectKBest(chi2, k=20).fit_transform(test_X, test_y)"
      ],
      "execution_count": 0,
      "outputs": []
    },
    {
      "cell_type": "code",
      "metadata": {
        "id": "zH5FyJurDQCs",
        "colab_type": "code",
        "colab": {
          "base_uri": "https://localhost:8080/",
          "height": 34
        },
        "outputId": "b4a36cfe-da6a-410f-a61b-311ef6f42b19"
      },
      "source": [
        "np.shape(test_X),np.shape(X_new)"
      ],
      "execution_count": 56,
      "outputs": [
        {
          "output_type": "execute_result",
          "data": {
            "text/plain": [
              "((1708, 9577), (1708, 20))"
            ]
          },
          "metadata": {
            "tags": []
          },
          "execution_count": 56
        }
      ]
    },
    {
      "cell_type": "code",
      "metadata": {
        "id": "eCcnBDWtD0Ga",
        "colab_type": "code",
        "colab": {
          "base_uri": "https://localhost:8080/",
          "height": 102
        },
        "outputId": "4d812128-8ace-49f6-b472-7baf86ccf2af"
      },
      "source": [
        "\n",
        "text_clf_SVM = Pipeline([\n",
        "    ('clf', SGDClassifier()),\n",
        "])\n",
        "from sklearn.model_selection import GridSearchCV\n",
        "parameters_SVM = {\n",
        "    'clf__alpha':(1,1e-1,1e-2,1e-3),\n",
        "    'clf__penalty':('l1','l2','None'),\n",
        "    'clf__loss':('hinge', 'log', 'modified_huber', 'squared_hinge', 'perceptron'),\n",
        "    'clf__max_iter':(1000,5000,10000,20000),\n",
        "    \n",
        "}\n",
        "gs_clf_SVM = GridSearchCV(text_clf_SVM, parameters_SVM, cv=5, iid=False, n_jobs=-1)\n",
        "gs_clf_SVM = gs_clf_SVM.fit(X_new, test_y)\n",
        "print(gs_clf_SVM.best_score_)\n",
        "for param_name in sorted(parameters_SVM.keys()):\n",
        "  print(\"%s: %r\" % (param_name, gs_clf_SVM.best_params_[param_name]))"
      ],
      "execution_count": 57,
      "outputs": [
        {
          "output_type": "stream",
          "text": [
            "0.6375692407950473\n",
            "clf__alpha: 0.01\n",
            "clf__loss: 'hinge'\n",
            "clf__max_iter: 20000\n",
            "clf__penalty: 'None'\n"
          ],
          "name": "stdout"
        }
      ]
    },
    {
      "cell_type": "markdown",
      "metadata": {
        "id": "WL6ujh7eEYgs",
        "colab_type": "text"
      },
      "source": [
        "# !!!当下最高 0.638"
      ]
    },
    {
      "cell_type": "code",
      "metadata": {
        "id": "f-pc4ldyENvW",
        "colab_type": "code",
        "colab": {}
      },
      "source": [
        "cv = CountVectorizer(stop_words='english', ngram_range=(1,1))"
      ],
      "execution_count": 0,
      "outputs": []
    },
    {
      "cell_type": "markdown",
      "metadata": {
        "id": "s2VmFb3p-k-t",
        "colab_type": "text"
      },
      "source": [
        "# 隔离隔离！！！"
      ]
    },
    {
      "cell_type": "markdown",
      "metadata": {
        "id": "BgoF2oAqPuuo",
        "colab_type": "text"
      },
      "source": [
        "## Method 1: Ngrams\n",
        "combination of unigrams, bigrams and trigrams as features."
      ]
    },
    {
      "cell_type": "code",
      "metadata": {
        "id": "L0cbBqKyRSnD",
        "colab_type": "code",
        "outputId": "454a876e-bdf3-472e-b70d-bce8d696651a",
        "colab": {
          "base_uri": "https://localhost:8080/",
          "height": 204
        }
      },
      "source": [
        "topic = \"gay rights\"\n",
        "data = data[data.topic==\"gay rights\"][[\"post_text\",\"label\"]]\n",
        "data.head()"
      ],
      "execution_count": 0,
      "outputs": [
        {
          "output_type": "execute_result",
          "data": {
            "text/html": [
              "<div>\n",
              "<style scoped>\n",
              "    .dataframe tbody tr th:only-of-type {\n",
              "        vertical-align: middle;\n",
              "    }\n",
              "\n",
              "    .dataframe tbody tr th {\n",
              "        vertical-align: top;\n",
              "    }\n",
              "\n",
              "    .dataframe thead th {\n",
              "        text-align: right;\n",
              "    }\n",
              "</style>\n",
              "<table border=\"1\" class=\"dataframe\">\n",
              "  <thead>\n",
              "    <tr style=\"text-align: right;\">\n",
              "      <th></th>\n",
              "      <th>post_text</th>\n",
              "      <th>label</th>\n",
              "    </tr>\n",
              "  </thead>\n",
              "  <tbody>\n",
              "    <tr>\n",
              "      <th>1157</th>\n",
              "      <td>I believe it is a privilage for them . If they...</td>\n",
              "      <td>pro</td>\n",
              "    </tr>\n",
              "    <tr>\n",
              "      <th>1158</th>\n",
              "      <td>With marriage comes a lot of privileges . Taxe...</td>\n",
              "      <td>pro</td>\n",
              "    </tr>\n",
              "    <tr>\n",
              "      <th>1159</th>\n",
              "      <td>I do n't see why people have a problem with th...</td>\n",
              "      <td>pro</td>\n",
              "    </tr>\n",
              "    <tr>\n",
              "      <th>1160</th>\n",
              "      <td>[ *I 'm not homosexual but I do agree . ] Why ...</td>\n",
              "      <td>pro</td>\n",
              "    </tr>\n",
              "    <tr>\n",
              "      <th>1161</th>\n",
              "      <td>No-one should marry ! ! ! But gay people have ...</td>\n",
              "      <td>pro</td>\n",
              "    </tr>\n",
              "  </tbody>\n",
              "</table>\n",
              "</div>"
            ],
            "text/plain": [
              "                                              post_text label\n",
              "1157  I believe it is a privilage for them . If they...   pro\n",
              "1158  With marriage comes a lot of privileges . Taxe...   pro\n",
              "1159  I do n't see why people have a problem with th...   pro\n",
              "1160  [ *I 'm not homosexual but I do agree . ] Why ...   pro\n",
              "1161  No-one should marry ! ! ! But gay people have ...   pro"
            ]
          },
          "metadata": {
            "tags": []
          },
          "execution_count": 3
        }
      ]
    },
    {
      "cell_type": "code",
      "metadata": {
        "id": "i2_3hAjIa3Od",
        "colab_type": "code",
        "outputId": "7c8ad424-bf44-418c-96ee-7ef40c9779ff",
        "colab": {
          "base_uri": "https://localhost:8080/",
          "height": 34
        }
      },
      "source": [
        "np.random.seed(10)\n",
        "shuffled_data = np.random.permutation(data)\n",
        "np.shape(shuffled_data)"
      ],
      "execution_count": 0,
      "outputs": [
        {
          "output_type": "execute_result",
          "data": {
            "text/plain": [
              "(1359, 2)"
            ]
          },
          "metadata": {
            "tags": []
          },
          "execution_count": 4
        }
      ]
    },
    {
      "cell_type": "code",
      "metadata": {
        "id": "nXcoab3fbPOZ",
        "colab_type": "code",
        "outputId": "ddf9a7c6-367e-4c1c-935e-3ca2cb2e0a03",
        "colab": {
          "base_uri": "https://localhost:8080/",
          "height": 34
        }
      },
      "source": [
        "k = 5\n",
        "test_size = len(shuffled_data)//k\n",
        "# for i in range(k):\n",
        "#   test = shuffled_data[i*test_size:(i+1)*test_size]\n",
        "# index_test = i\n",
        "test_data = shuffled_data[:test_size]\n",
        "train_data = shuffled_data[test_size:]\n",
        "print(np.shape(test_data))"
      ],
      "execution_count": 0,
      "outputs": [
        {
          "output_type": "stream",
          "text": [
            "(271, 2)\n"
          ],
          "name": "stdout"
        }
      ]
    },
    {
      "cell_type": "code",
      "metadata": {
        "id": "tgfgNwA_wnnj",
        "colab_type": "code",
        "colab": {}
      },
      "source": [
        "# Training\n",
        "from sklearn.feature_extraction.text import CountVectorizer\n",
        "#t0 = time()\n",
        "num_features = 100\n",
        "cv = CountVectorizer(stop_words='english', ngram_range=(1,3), \n",
        "                     max_features=num_features)\n",
        "X_train = cv.fit_transform(train_data[:,0])\n",
        "X_test = cv.fit_transform(test_data[:,0])\n",
        "\n",
        "y_train = train_data[:,1]\n",
        "y_test = test_data[:,1]"
      ],
      "execution_count": 0,
      "outputs": []
    },
    {
      "cell_type": "code",
      "metadata": {
        "id": "rwCUIiJH9d8h",
        "colab_type": "code",
        "outputId": "ab3d61ee-ac1d-491c-eea5-d0e7db87edc7",
        "colab": {
          "base_uri": "https://localhost:8080/",
          "height": 34
        }
      },
      "source": [
        "from collections import Counter\n",
        "Counter(y_train)"
      ],
      "execution_count": 0,
      "outputs": [
        {
          "output_type": "execute_result",
          "data": {
            "text/plain": [
              "Counter({'con': 392, 'pro': 696})"
            ]
          },
          "metadata": {
            "tags": []
          },
          "execution_count": 34
        }
      ]
    },
    {
      "cell_type": "code",
      "metadata": {
        "id": "1jLOWKX6zKfS",
        "colab_type": "code",
        "colab": {}
      },
      "source": [
        "feature_names = cv.get_feature_names()"
      ],
      "execution_count": 0,
      "outputs": []
    },
    {
      "cell_type": "code",
      "metadata": {
        "id": "2VDixN374yqU",
        "colab_type": "code",
        "outputId": "d0a94ae6-0f48-4959-e9db-364aa494e762",
        "colab": {
          "base_uri": "https://localhost:8080/",
          "height": 34
        }
      },
      "source": [
        "np.shape(feature_names)"
      ],
      "execution_count": 0,
      "outputs": [
        {
          "output_type": "execute_result",
          "data": {
            "text/plain": [
              "(100,)"
            ]
          },
          "metadata": {
            "tags": []
          },
          "execution_count": 16
        }
      ]
    },
    {
      "cell_type": "code",
      "metadata": {
        "id": "Eg-Nt9gizijC",
        "colab_type": "code",
        "outputId": "37974b4b-82c6-426b-a879-822c09c07941",
        "colab": {
          "base_uri": "https://localhost:8080/",
          "height": 187
        }
      },
      "source": [
        "feature_names[:10]"
      ],
      "execution_count": 0,
      "outputs": [
        {
          "output_type": "execute_result",
          "data": {
            "text/plain": [
              "['10',\n",
              " '10 20',\n",
              " '10 20 years',\n",
              " '10 million',\n",
              " '10 million baby',\n",
              " '10 years',\n",
              " '10 years greater',\n",
              " '100',\n",
              " '100 effective',\n",
              " '100 effective dont']"
            ]
          },
          "metadata": {
            "tags": []
          },
          "execution_count": 24
        }
      ]
    },
    {
      "cell_type": "code",
      "metadata": {
        "id": "sSaC3px75yQ9",
        "colab_type": "code",
        "outputId": "61497ec3-0708-4eca-8d11-1f35550143ce",
        "colab": {
          "base_uri": "https://localhost:8080/",
          "height": 139
        }
      },
      "source": [
        "np.argsort(feature_names)"
      ],
      "execution_count": 0,
      "outputs": [
        {
          "output_type": "execute_result",
          "data": {
            "text/plain": [
              "array([ 0,  1,  2,  3,  4,  5,  6,  7,  8,  9, 10, 11, 12, 13, 14, 15, 16,\n",
              "       17, 18, 19, 20, 21, 22, 23, 24, 25, 26, 27, 28, 29, 30, 31, 32, 33,\n",
              "       34, 35, 36, 37, 38, 39, 40, 41, 42, 43, 44, 45, 46, 47, 48, 49, 50,\n",
              "       51, 52, 53, 54, 55, 56, 57, 58, 59, 60, 61, 62, 63, 64, 65, 66, 67,\n",
              "       68, 69, 70, 71, 72, 73, 74, 75, 76, 77, 78, 79, 80, 81, 82, 83, 84,\n",
              "       85, 86, 87, 88, 89, 90, 91, 92, 93, 94, 95, 96, 97, 98, 99])"
            ]
          },
          "metadata": {
            "tags": []
          },
          "execution_count": 21
        }
      ]
    },
    {
      "cell_type": "code",
      "metadata": {
        "id": "IiJofgVF5ssG",
        "colab_type": "code",
        "outputId": "b7c75612-b2f1-4149-cd8a-0c66ab8fb0ef",
        "colab": {
          "base_uri": "https://localhost:8080/",
          "height": 34
        }
      },
      "source": [
        "np.argsort(feature_names)[-10:]"
      ],
      "execution_count": 0,
      "outputs": [
        {
          "output_type": "execute_result",
          "data": {
            "text/plain": [
              "array([90, 91, 92, 93, 94, 95, 96, 97, 98, 99])"
            ]
          },
          "metadata": {
            "tags": []
          },
          "execution_count": 20
        }
      ]
    },
    {
      "cell_type": "code",
      "metadata": {
        "id": "EoRcnmJ6yN77",
        "colab_type": "code",
        "colab": {}
      },
      "source": [
        "# Author: Peter Prettenhofer <peter.prettenhofer@gmail.com>\n",
        "#         Olivier Grisel <olivier.grisel@ensta.org>\n",
        "#         Mathieu Blondel <mathieu@mblondel.org>\n",
        "#         Lars Buitinck\n",
        "# License: BSD 3 clause\n",
        "import logging\n",
        "import numpy as np\n",
        "from optparse import OptionParser\n",
        "import sys\n",
        "from time import time\n",
        "import matplotlib.pyplot as plt\n",
        "\n",
        "from sklearn.datasets import fetch_20newsgroups\n",
        "from sklearn.feature_extraction.text import TfidfVectorizer\n",
        "from sklearn.feature_extraction.text import HashingVectorizer, CountVectorizer\n",
        "from sklearn.feature_selection import SelectFromModel\n",
        "from sklearn.feature_selection import SelectKBest, chi2\n",
        "from sklearn.linear_model import RidgeClassifier\n",
        "from sklearn.pipeline import Pipeline\n",
        "from sklearn.svm import LinearSVC\n",
        "from sklearn.linear_model import SGDClassifier\n",
        "from sklearn.linear_model import Perceptron\n",
        "from sklearn.linear_model import PassiveAggressiveClassifier\n",
        "from sklearn.naive_bayes import BernoulliNB, MultinomialNB\n",
        "from sklearn.neighbors import KNeighborsClassifier\n",
        "from sklearn.neighbors import NearestCentroid\n",
        "from sklearn.ensemble import RandomForestClassifier\n",
        "from sklearn.utils.extmath import density\n",
        "from sklearn import metrics"
      ],
      "execution_count": 0,
      "outputs": []
    },
    {
      "cell_type": "code",
      "metadata": {
        "id": "3mYOyUmu0kT1",
        "colab_type": "code",
        "colab": {}
      },
      "source": [
        "target_names = ['pro', 'con']"
      ],
      "execution_count": 0,
      "outputs": []
    },
    {
      "cell_type": "code",
      "metadata": {
        "id": "tSneafJySh3c",
        "colab_type": "code",
        "colab": {}
      },
      "source": [
        "def trim(s):\n",
        "    \"\"\"Trim string to fit on terminal (assuming 80-column display)\"\"\"\n",
        "    return s if len(s) <= 80 else s[:77] + \"...\"\n",
        "\n",
        "\n",
        "# #############################################################################\n",
        "# Benchmark classifiers\n",
        "def benchmark(clf, print_report=True, print_cm=True, print_top10=True):\n",
        "    print('_' * 80)\n",
        "    print(\"Training: \")\n",
        "    print(clf)\n",
        "    t0 = time()\n",
        "    clf.fit(X_train, y_train)\n",
        "    train_time = time() - t0\n",
        "    print(\"train time: %0.3fs\" % train_time)\n",
        "\n",
        "    t0 = time()\n",
        "    pred = clf.predict(X_test)\n",
        "    test_time = time() - t0\n",
        "    print(\"test time:  %0.3fs\" % test_time)\n",
        "\n",
        "    score = metrics.accuracy_score(y_test, pred)\n",
        "    print(\"accuracy:   %0.3f\" % score)\n",
        "\n",
        "    if hasattr(clf, 'coef_'):\n",
        "        print(\"dimensionality: %d\" % clf.coef_.shape[1])\n",
        "        print(\"density: %f\" % density(clf.coef_))\n",
        "\n",
        "        if print_top10 and feature_names is not None:\n",
        "            print(\"top 10 keywords per class:\")\n",
        "            #print(np.shape(clf.coef_[1]),clf.coef_[1])\n",
        "            #for i, label in enumerate(target_names):\n",
        "            top10_idx = np.argsort(clf.coef_[0])[-10:]\n",
        "            top10_wrd = [feature_names[i] for i in top10_idx]\n",
        "            print(trim(\" %s\" % ( \" \".join(top10_wrd))))\n",
        "        print()\n",
        "\n",
        "    if print_report:\n",
        "        print(\"classification report:\")\n",
        "        print(metrics.classification_report(y_test, pred,\n",
        "                                            target_names=target_names))\n",
        "\n",
        "    if print_cm:\n",
        "        print(\"confusion matrix:\")\n",
        "        print(metrics.confusion_matrix(y_test, pred))\n",
        "\n",
        "    print()\n",
        "    clf_descr = str(clf).split('(')[0]\n",
        "    return clf_descr, score, train_time, test_time"
      ],
      "execution_count": 0,
      "outputs": []
    },
    {
      "cell_type": "code",
      "metadata": {
        "id": "mebnoXzry3OF",
        "colab_type": "code",
        "outputId": "298f4eb9-19ef-4efd-c695-12279539f79a",
        "colab": {
          "base_uri": "https://localhost:8080/",
          "height": 530
        }
      },
      "source": [
        "benchmark(MultinomialNB(alpha=.01))"
      ],
      "execution_count": 0,
      "outputs": [
        {
          "output_type": "stream",
          "text": [
            "________________________________________________________________________________\n",
            "Training: \n",
            "MultinomialNB(alpha=0.01, class_prior=None, fit_prior=True)\n",
            "train time: 0.006s\n",
            "test time:  0.000s\n",
            "accuracy:   0.520\n",
            "dimensionality: 100\n",
            "density: 1.000000\n",
            "top 10 keywords per class:\n",
            " saying thing want let reason couples homosexuality man did need\n",
            "\n",
            "classification report:\n",
            "              precision    recall  f1-score   support\n",
            "\n",
            "         pro       0.31      0.31      0.31        95\n",
            "         con       0.63      0.64      0.63       176\n",
            "\n",
            "    accuracy                           0.52       271\n",
            "   macro avg       0.47      0.47      0.47       271\n",
            "weighted avg       0.52      0.52      0.52       271\n",
            "\n",
            "confusion matrix:\n",
            "[[ 29  66]\n",
            " [ 64 112]]\n",
            "\n"
          ],
          "name": "stdout"
        },
        {
          "output_type": "execute_result",
          "data": {
            "text/plain": [
              "('MultinomialNB',\n",
              " 0.5202952029520295,\n",
              " 0.005521059036254883,\n",
              " 0.00022912025451660156)"
            ]
          },
          "metadata": {
            "tags": []
          },
          "execution_count": 43
        }
      ]
    },
    {
      "cell_type": "code",
      "metadata": {
        "id": "sMGkCQ9j8eyj",
        "colab_type": "code",
        "outputId": "595d0e9b-7f64-48be-fcac-d7cfead63089",
        "colab": {
          "base_uri": "https://localhost:8080/",
          "height": 34
        }
      },
      "source": [
        "clf = LinearSVC(penalty='l1', dual=False,tol=1e-3)\n",
        "clf.fit(X_train, y_train)\n",
        "# pred = clf.predict(X_test)\n",
        "# score = metrics.accur\n",
        "np.shape(clf.coef_)"
      ],
      "execution_count": 0,
      "outputs": [
        {
          "output_type": "execute_result",
          "data": {
            "text/plain": [
              "(1, 100)"
            ]
          },
          "metadata": {
            "tags": []
          },
          "execution_count": 39
        }
      ]
    },
    {
      "cell_type": "code",
      "metadata": {
        "id": "DI_9AVVa8eu5",
        "colab_type": "code",
        "outputId": "6d2efc2e-6a49-4412-db85-eb7f7b5147ff",
        "colab": {
          "base_uri": "https://localhost:8080/",
          "height": 34
        }
      },
      "source": [
        "np.shape(clf.coef_)"
      ],
      "execution_count": 0,
      "outputs": [
        {
          "output_type": "execute_result",
          "data": {
            "text/plain": [
              "(1, 100)"
            ]
          },
          "metadata": {
            "tags": []
          },
          "execution_count": 31
        }
      ]
    },
    {
      "cell_type": "code",
      "metadata": {
        "id": "bOSKZMiU8eq1",
        "colab_type": "code",
        "colab": {}
      },
      "source": [
        ""
      ],
      "execution_count": 0,
      "outputs": []
    },
    {
      "cell_type": "code",
      "metadata": {
        "id": "mBkT4Bjx8emn",
        "colab_type": "code",
        "colab": {}
      },
      "source": [
        ""
      ],
      "execution_count": 0,
      "outputs": []
    },
    {
      "cell_type": "code",
      "metadata": {
        "id": "R70hskbO1aNF",
        "colab_type": "code",
        "outputId": "b1d3209f-96e5-40a2-9903-d40ebbedd267",
        "colab": {
          "base_uri": "https://localhost:8080/",
          "height": 524
        }
      },
      "source": [
        "from sklearn.svm import LinearSVC\n",
        "benchmark(LinearSVC(penalty='l1', dual=False,tol=1e-3))"
      ],
      "execution_count": 0,
      "outputs": [
        {
          "output_type": "stream",
          "text": [
            "________________________________________________________________________________\n",
            "Training: \n",
            "LinearSVC(C=1.0, class_weight=None, dual=False, fit_intercept=True,\n",
            "          intercept_scaling=1, loss='squared_hinge', max_iter=1000,\n",
            "          multi_class='ovr', penalty='l1', random_state=None, tol=0.001,\n",
            "          verbose=0)\n",
            "train time: 0.009s\n",
            "test time:  0.000s\n",
            "accuracy:   0.557\n",
            "dimensionality: 100\n",
            "density: 0.970000\n",
            "top 10 keywords per class:\n"
          ],
          "name": "stdout"
        },
        {
          "output_type": "error",
          "ename": "IndexError",
          "evalue": "ignored",
          "traceback": [
            "\u001b[0;31m---------------------------------------------------------------------------\u001b[0m",
            "\u001b[0;31mIndexError\u001b[0m                                Traceback (most recent call last)",
            "\u001b[0;32m<ipython-input-38-9734b229d87f>\u001b[0m in \u001b[0;36m<module>\u001b[0;34m()\u001b[0m\n\u001b[1;32m      1\u001b[0m \u001b[0;32mfrom\u001b[0m \u001b[0msklearn\u001b[0m\u001b[0;34m.\u001b[0m\u001b[0msvm\u001b[0m \u001b[0;32mimport\u001b[0m \u001b[0mLinearSVC\u001b[0m\u001b[0;34m\u001b[0m\u001b[0;34m\u001b[0m\u001b[0m\n\u001b[0;32m----> 2\u001b[0;31m \u001b[0mbenchmark\u001b[0m\u001b[0;34m(\u001b[0m\u001b[0mLinearSVC\u001b[0m\u001b[0;34m(\u001b[0m\u001b[0mpenalty\u001b[0m\u001b[0;34m=\u001b[0m\u001b[0;34m'l1'\u001b[0m\u001b[0;34m,\u001b[0m \u001b[0mdual\u001b[0m\u001b[0;34m=\u001b[0m\u001b[0;32mFalse\u001b[0m\u001b[0;34m,\u001b[0m\u001b[0mtol\u001b[0m\u001b[0;34m=\u001b[0m\u001b[0;36m1e-3\u001b[0m\u001b[0;34m)\u001b[0m\u001b[0;34m)\u001b[0m\u001b[0;34m\u001b[0m\u001b[0;34m\u001b[0m\u001b[0m\n\u001b[0m",
            "\u001b[0;32m<ipython-input-25-7bcc962345d6>\u001b[0m in \u001b[0;36mbenchmark\u001b[0;34m(clf, print_report, print_cm, print_top10)\u001b[0m\n\u001b[1;32m     29\u001b[0m         \u001b[0;32mif\u001b[0m \u001b[0mprint_top10\u001b[0m \u001b[0;32mand\u001b[0m \u001b[0mfeature_names\u001b[0m \u001b[0;32mis\u001b[0m \u001b[0;32mnot\u001b[0m \u001b[0;32mNone\u001b[0m\u001b[0;34m:\u001b[0m\u001b[0;34m\u001b[0m\u001b[0;34m\u001b[0m\u001b[0m\n\u001b[1;32m     30\u001b[0m             \u001b[0mprint\u001b[0m\u001b[0;34m(\u001b[0m\u001b[0;34m\"top 10 keywords per class:\"\u001b[0m\u001b[0;34m)\u001b[0m\u001b[0;34m\u001b[0m\u001b[0;34m\u001b[0m\u001b[0m\n\u001b[0;32m---> 31\u001b[0;31m             \u001b[0mprint\u001b[0m\u001b[0;34m(\u001b[0m\u001b[0mnp\u001b[0m\u001b[0;34m.\u001b[0m\u001b[0mshape\u001b[0m\u001b[0;34m(\u001b[0m\u001b[0mclf\u001b[0m\u001b[0;34m.\u001b[0m\u001b[0mcoef_\u001b[0m\u001b[0;34m[\u001b[0m\u001b[0;36m1\u001b[0m\u001b[0;34m]\u001b[0m\u001b[0;34m)\u001b[0m\u001b[0;34m,\u001b[0m\u001b[0mclf\u001b[0m\u001b[0;34m.\u001b[0m\u001b[0mcoef_\u001b[0m\u001b[0;34m[\u001b[0m\u001b[0;36m1\u001b[0m\u001b[0;34m]\u001b[0m\u001b[0;34m)\u001b[0m\u001b[0;34m\u001b[0m\u001b[0;34m\u001b[0m\u001b[0m\n\u001b[0m\u001b[1;32m     32\u001b[0m             \u001b[0;32mfor\u001b[0m \u001b[0mi\u001b[0m\u001b[0;34m,\u001b[0m \u001b[0mlabel\u001b[0m \u001b[0;32min\u001b[0m \u001b[0menumerate\u001b[0m\u001b[0;34m(\u001b[0m\u001b[0mtarget_names\u001b[0m\u001b[0;34m)\u001b[0m\u001b[0;34m:\u001b[0m\u001b[0;34m\u001b[0m\u001b[0;34m\u001b[0m\u001b[0m\n\u001b[1;32m     33\u001b[0m                 \u001b[0mtop10_idx\u001b[0m \u001b[0;34m=\u001b[0m \u001b[0mnp\u001b[0m\u001b[0;34m.\u001b[0m\u001b[0margsort\u001b[0m\u001b[0;34m(\u001b[0m\u001b[0mclf\u001b[0m\u001b[0;34m.\u001b[0m\u001b[0mcoef_\u001b[0m\u001b[0;34m[\u001b[0m\u001b[0mi\u001b[0m\u001b[0;34m]\u001b[0m\u001b[0;34m)\u001b[0m\u001b[0;34m[\u001b[0m\u001b[0;34m-\u001b[0m\u001b[0;36m10\u001b[0m\u001b[0;34m:\u001b[0m\u001b[0;34m]\u001b[0m\u001b[0;34m\u001b[0m\u001b[0;34m\u001b[0m\u001b[0m\n",
            "\u001b[0;31mIndexError\u001b[0m: index 1 is out of bounds for axis 0 with size 1"
          ]
        }
      ]
    },
    {
      "cell_type": "markdown",
      "metadata": {
        "id": "g2FAXlN4_NSn",
        "colab_type": "text"
      },
      "source": [
        "## Method2"
      ]
    },
    {
      "cell_type": "code",
      "metadata": {
        "id": "Ex-FyYs8_PY5",
        "colab_type": "code",
        "colab": {}
      },
      "source": [
        ""
      ],
      "execution_count": 0,
      "outputs": []
    }
  ]
}