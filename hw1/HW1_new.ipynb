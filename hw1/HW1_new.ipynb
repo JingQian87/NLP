{
  "nbformat": 4,
  "nbformat_minor": 0,
  "metadata": {
    "colab": {
      "name": "HW1-new.ipynb",
      "provenance": [],
      "collapsed_sections": []
    },
    "kernelspec": {
      "name": "python3",
      "display_name": "Python 3"
    },
    "accelerator": "GPU"
  },
  "cells": [
    {
      "cell_type": "code",
      "metadata": {
        "id": "6MxRJLqQDJmq",
        "colab_type": "code",
        "colab": {
          "base_uri": "https://localhost:8080/",
          "height": 122
        },
        "outputId": "676d0bd3-bccc-44ac-ec1e-f311f392c21c"
      },
      "source": [
        "from google.colab import drive\n",
        "drive.mount('/content/gdrive')"
      ],
      "execution_count": 1,
      "outputs": [
        {
          "output_type": "stream",
          "text": [
            "Go to this URL in a browser: https://accounts.google.com/o/oauth2/auth?client_id=947318989803-6bn6qk8qdgf4n4g3pfee6491hc0brc4i.apps.googleusercontent.com&redirect_uri=urn%3Aietf%3Awg%3Aoauth%3A2.0%3Aoob&scope=email%20https%3A%2F%2Fwww.googleapis.com%2Fauth%2Fdocs.test%20https%3A%2F%2Fwww.googleapis.com%2Fauth%2Fdrive%20https%3A%2F%2Fwww.googleapis.com%2Fauth%2Fdrive.photos.readonly%20https%3A%2F%2Fwww.googleapis.com%2Fauth%2Fpeopleapi.readonly&response_type=code\n",
            "\n",
            "Enter your authorization code:\n",
            "··········\n",
            "Mounted at /content/gdrive\n"
          ],
          "name": "stdout"
        }
      ]
    },
    {
      "cell_type": "code",
      "metadata": {
        "id": "0i90QUUdD2H8",
        "colab_type": "code",
        "colab": {
          "base_uri": "https://localhost:8080/",
          "height": 105
        },
        "outputId": "d1d309cc-f9f3-4c21-ac19-cf870bd08911"
      },
      "source": [
        "# Import data\n",
        "import numpy as np\n",
        "import pandas as pd\n",
        "\n",
        "data = pd.read_csv('/content/gdrive/My Drive/NLP/stance-data.csv')\n",
        "data.columns"
      ],
      "execution_count": 3,
      "outputs": [
        {
          "output_type": "execute_result",
          "data": {
            "text/plain": [
              "Index(['post_text', 'topic', 'author', 'label', 'id', 'word_count',\n",
              "       'words_pronom', 'words_per_sen', 'words_over_6', 'pos_emo', 'neg_emo',\n",
              "       'count_noun', 'count_verb', 'count_adj'],\n",
              "      dtype='object')"
            ]
          },
          "metadata": {
            "tags": []
          },
          "execution_count": 3
        }
      ]
    },
    {
      "cell_type": "code",
      "metadata": {
        "id": "EQfTmIRXE8uS",
        "colab_type": "code",
        "colab": {}
      },
      "source": [
        "# Select topic and shuffle data\n",
        "topic = \"abortion\"\n",
        "selected = data[data.topic==topic]\n",
        "selected = np.random.permutation(selected)\n",
        "#set(selected[:,1])"
      ],
      "execution_count": 0,
      "outputs": []
    },
    {
      "cell_type": "code",
      "metadata": {
        "id": "Zb9fjjFIFQ6u",
        "colab_type": "code",
        "colab": {}
      },
      "source": [
        "# Import functions\n",
        "from sklearn.feature_extraction.text import CountVectorizer\n",
        "from sklearn.feature_extraction.text import TfidfTransformer\n",
        "from sklearn.naive_bayes import BernoulliNB, MultinomialNB, ComplementNB\n",
        "from sklearn.pipeline import Pipeline\n",
        "from sklearn import metrics\n",
        "from sklearn.svm import SVC\n",
        "from sklearn.feature_selection import SelectKBest, chi2\n",
        "from sklearn.model_selection import GridSearchCV"
      ],
      "execution_count": 0,
      "outputs": []
    },
    {
      "cell_type": "markdown",
      "metadata": {
        "id": "G61I-L6UGPQZ",
        "colab_type": "text"
      },
      "source": [
        "# 2. Method 1 - Ngrams (no idf)"
      ]
    },
    {
      "cell_type": "code",
      "metadata": {
        "id": "FJ9zxU15OSGp",
        "colab_type": "code",
        "colab": {
          "base_uri": "https://localhost:8080/",
          "height": 68
        },
        "outputId": "3a03300e-4462-4f31-90f4-d2660b982579"
      },
      "source": [
        "# Show that ngram_range don't need to be params because of feature selection \n",
        "# cv = CountVectorizer(stop_words='english', ngram_range=(1,4))\n",
        "# print(np.shape(cv.fit_transform(selected[:,0])))\n",
        "# cv = CountVectorizer(stop_words='english', ngram_range=(1,2))\n",
        "# print(np.shape(cv.fit_transform(selected[:,0])))\n",
        "# cv = CountVectorizer(stop_words='english', ngram_range=(3,4))\n",
        "# print(np.shape(cv.fit_transform(selected[:,0])))"
      ],
      "execution_count": 12,
      "outputs": [
        {
          "output_type": "stream",
          "text": [
            "(1708, 237620)\n",
            "(1708, 74275)\n",
            "(1708, 163345)\n"
          ],
          "name": "stdout"
        }
      ]
    },
    {
      "cell_type": "code",
      "metadata": {
        "id": "ONqQFwW4Pp23",
        "colab_type": "code",
        "colab": {
          "base_uri": "https://localhost:8080/",
          "height": 34
        },
        "outputId": "ee5ca1b1-b4ae-4179-ebc5-9ec16a621a8f"
      },
      "source": [
        "np.shape(y)"
      ],
      "execution_count": 16,
      "outputs": [
        {
          "output_type": "execute_result",
          "data": {
            "text/plain": [
              "(1708,)"
            ]
          },
          "metadata": {
            "tags": []
          },
          "execution_count": 16
        }
      ]
    },
    {
      "cell_type": "code",
      "metadata": {
        "id": "hiCF8KdRGIhQ",
        "colab_type": "code",
        "colab": {}
      },
      "source": [
        "# Set label as y\n",
        "y = selected[:,3]\n",
        "\n",
        "# Extract features\n",
        "X = CountVectorizer(stop_words='english', ngram_range=(1,4))\n",
        "X = X.fit_transform(selected[:,0])"
      ],
      "execution_count": 0,
      "outputs": []
    },
    {
      "cell_type": "code",
      "metadata": {
        "id": "1_YL-v80NXPn",
        "colab_type": "code",
        "colab": {
          "base_uri": "https://localhost:8080/",
          "height": 68
        },
        "outputId": "5f59d16d-3ca8-4a6e-9b22-bf2ab6c54993"
      },
      "source": [
        "# Build pipeline with MultinomialNB as classifier\n",
        "pipe = Pipeline([\n",
        "    ('exf', SelectKBest(chi2)),\n",
        "    ('clf', MultinomialNB()),\n",
        "])\n",
        "params = {\n",
        "    'exf__k':(20,50,100,500,1000,2000),\n",
        "    'clf__alpha':(1,0.5,1e-1,1e-2,1e-3),\n",
        "}\n",
        "gs = GridSearchCV(pipe, params, cv=5, iid=False, n_jobs=-1)\n",
        "gs = gs.fit(X, y)\n",
        "print(gs.best_score_)\n",
        "for param_name in sorted(params.keys()):\n",
        "  print(\"%s: %r\" % (param_name, gs.best_params_[param_name]))"
      ],
      "execution_count": 7,
      "outputs": [
        {
          "output_type": "stream",
          "text": [
            "0.6077309598532009\n",
            "clf__alpha: 1\n",
            "exf__k: 500\n"
          ],
          "name": "stdout"
        }
      ]
    },
    {
      "cell_type": "code",
      "metadata": {
        "id": "bt8TDCvXQnn_",
        "colab_type": "code",
        "colab": {
          "base_uri": "https://localhost:8080/",
          "height": 68
        },
        "outputId": "195491c6-4f9d-45b1-93b1-fd2dd5f0fda4"
      },
      "source": [
        "# Build pipeline with BernoulliNB as classifier\n",
        "pipe = Pipeline([\n",
        "    ('exf', SelectKBest(chi2)),\n",
        "    ('clf', BernoulliNB()),\n",
        "])\n",
        "params = {\n",
        "    'exf__k':(20,50,100,500,1000),\n",
        "    'clf__alpha':(1,0.5,1e-1,1e-2,1e-3),\n",
        "}\n",
        "gs = GridSearchCV(pipe, params, cv=5, iid=False, n_jobs=-1)\n",
        "gs = gs.fit(X, y)\n",
        "print(gs.best_score_)\n",
        "for param_name in sorted(params.keys()):\n",
        "  print(\"%s: %r\" % (param_name, gs.best_params_[param_name]))"
      ],
      "execution_count": 8,
      "outputs": [
        {
          "output_type": "stream",
          "text": [
            "0.6135789130695752\n",
            "clf__alpha: 0.5\n",
            "exf__k: 50\n"
          ],
          "name": "stdout"
        }
      ]
    },
    {
      "cell_type": "code",
      "metadata": {
        "id": "POM6_-aRU21o",
        "colab_type": "code",
        "colab": {
          "base_uri": "https://localhost:8080/",
          "height": 68
        },
        "outputId": "8a1252d2-3cf0-4827-b168-6ec7493b0218"
      },
      "source": [
        "# Build pipeline with ComplementNB as classifier\n",
        "pipe = Pipeline([\n",
        "    ('exf', SelectKBest(chi2)),\n",
        "    ('clf', ComplementNB()),\n",
        "])\n",
        "params = {\n",
        "    'exf__k':(20,50,100,500),\n",
        "    'clf__alpha':(1,0.5,1e-1,1e-2,1e-3),\n",
        "}\n",
        "gs = GridSearchCV(pipe, params, cv=5, iid=False, n_jobs=-1)\n",
        "gs = gs.fit(X, y)\n",
        "print(gs.best_score_)\n",
        "for param_name in sorted(params.keys()):\n",
        "  print(\"%s: %r\" % (param_name, gs.best_params_[param_name]))"
      ],
      "execution_count": 10,
      "outputs": [
        {
          "output_type": "stream",
          "text": [
            "0.6141877175833033\n",
            "clf__alpha: 1\n",
            "exf__k: 100\n"
          ],
          "name": "stdout"
        }
      ]
    },
    {
      "cell_type": "code",
      "metadata": {
        "id": "l9_42feeW4g7",
        "colab_type": "code",
        "colab": {}
      },
      "source": [
        "# Build pipeline with SVC as classifier\n",
        "pipe = Pipeline([\n",
        "    ('exf', SelectKBest(chi2)),\n",
        "    ('clf', SVC()),\n",
        "])\n",
        "params = [  \n",
        "    {'exf__k':[20,50,100,500],'clf__kernel':['rbf'],'clf__gamma': [1e-3, 1e-4],\n",
        "     'clf__C': [0.1,1, 10, 100]},\n",
        "    {'exf__k':[20,50,100,500],'clf__kernel': ['linear'], 'clf__C': [0.1,1, 10, 100]},\n",
        "]\n",
        "gs = GridSearchCV(pipe, params, cv=5, iid=False, n_jobs=-1)\n",
        "gs = gs.fit(X, y)"
      ],
      "execution_count": 0,
      "outputs": []
    },
    {
      "cell_type": "code",
      "metadata": {
        "id": "HvmwwVoncIaP",
        "colab_type": "code",
        "colab": {
          "base_uri": "https://localhost:8080/",
          "height": 54
        },
        "outputId": "5eb0f5a1-66ea-4cd0-db21-939e593ba0af"
      },
      "source": [
        "print(gs.best_score_, gs.best_params_)"
      ],
      "execution_count": 25,
      "outputs": [
        {
          "output_type": "stream",
          "text": [
            "0.6071375898201026 {'clf__C': 100, 'clf__gamma': 0.001, 'clf__kernel': 'rbf', 'exf__k': 100}\n"
          ],
          "name": "stdout"
        }
      ]
    },
    {
      "cell_type": "markdown",
      "metadata": {
        "id": "O6Ne-DyocwBP",
        "colab_type": "text"
      },
      "source": [
        "## 找到abortion最好组合(Ngram)：0.614\n",
        "0.6141877175833033\n",
        "clf__alpha: 1\n",
        "exf__k: 100\n",
        "\n",
        "ComplementNB\n"
      ]
    },
    {
      "cell_type": "markdown",
      "metadata": {
        "id": "6C2m2DGDdEFl",
        "colab_type": "text"
      },
      "source": [
        "## Gay rights"
      ]
    },
    {
      "cell_type": "code",
      "metadata": {
        "id": "xjlflSyNdFUb",
        "colab_type": "code",
        "colab": {}
      },
      "source": [
        "# Select topic and shuffle data\n",
        "topic2 = \"gay rights\"\n",
        "selected2 = data[data.topic==topic2]\n",
        "selected2 = np.random.permutation(selected2)\n",
        "#set(selected2[:,1])\n",
        "# Set label as y\n",
        "y = selected2[:,3]\n",
        "\n",
        "# Extract features\n",
        "X = CountVectorizer(stop_words='english', ngram_range=(1,4))\n",
        "X = X.fit_transform(selected2[:,0])"
      ],
      "execution_count": 0,
      "outputs": []
    },
    {
      "cell_type": "code",
      "metadata": {
        "id": "QV7-2qXsc_7A",
        "colab_type": "code",
        "colab": {
          "base_uri": "https://localhost:8080/",
          "height": 68
        },
        "outputId": "7cbc37c3-84bd-4c09-d8e2-7f47aae4dfc2"
      },
      "source": [
        "# Build pipeline with MultinomialNB as classifier\n",
        "pipe = Pipeline([\n",
        "    ('exf', SelectKBest(chi2)),\n",
        "    ('clf', MultinomialNB()),\n",
        "])\n",
        "params = {\n",
        "    'exf__k':(20,50,100,500,1000,2000),\n",
        "    'clf__alpha':(1,0.5,1e-1,1e-2,1e-3),\n",
        "}\n",
        "gs = GridSearchCV(pipe, params, cv=5, iid=False, n_jobs=-1)\n",
        "gs = gs.fit(X, y)\n",
        "print(gs.best_score_)\n",
        "for param_name in sorted(params.keys()):\n",
        "  print(\"%s: %r\" % (param_name, gs.best_params_[param_name]))"
      ],
      "execution_count": 30,
      "outputs": [
        {
          "output_type": "stream",
          "text": [
            "0.6210507819363908\n",
            "clf__alpha: 1\n",
            "exf__k: 20\n"
          ],
          "name": "stdout"
        }
      ]
    },
    {
      "cell_type": "code",
      "metadata": {
        "id": "uxxYBZxIeRGn",
        "colab_type": "code",
        "colab": {
          "base_uri": "https://localhost:8080/",
          "height": 68
        },
        "outputId": "dcfd3543-1daa-48c3-d34e-336629aabfca"
      },
      "source": [
        "# Build pipeline with BernoulliNB as classifier\n",
        "pipe = Pipeline([\n",
        "    ('exf', SelectKBest(chi2)),\n",
        "    ('clf', BernoulliNB()),\n",
        "])\n",
        "params = {\n",
        "    'exf__k':(20,50,100,500,1000),\n",
        "    'clf__alpha':(1,0.5,1e-1,1e-2,1e-3),\n",
        "}\n",
        "gs = GridSearchCV(pipe, params, cv=5, iid=False, n_jobs=-1)\n",
        "gs = gs.fit(X, y)\n",
        "print(gs.best_score_)\n",
        "for param_name in sorted(params.keys()):\n",
        "  print(\"%s: %r\" % (param_name, gs.best_params_[param_name]))"
      ],
      "execution_count": 31,
      "outputs": [
        {
          "output_type": "stream",
          "text": [
            "0.6166119243610018\n",
            "clf__alpha: 1\n",
            "exf__k: 1000\n"
          ],
          "name": "stdout"
        }
      ]
    },
    {
      "cell_type": "code",
      "metadata": {
        "id": "DNMdNbNBfDWO",
        "colab_type": "code",
        "colab": {
          "base_uri": "https://localhost:8080/",
          "height": 68
        },
        "outputId": "87bbd37a-7e07-4d0a-e792-1e686d1a3685"
      },
      "source": [
        "# Build pipeline with ComplementNB as classifier\n",
        "pipe = Pipeline([\n",
        "    ('exf', SelectKBest(chi2)),\n",
        "    ('clf', ComplementNB()),\n",
        "])\n",
        "params = {\n",
        "    'exf__k':(20,50,100,500),\n",
        "    'clf__alpha':(1,0.5,1e-1,1e-2,1e-3),\n",
        "}\n",
        "gs = GridSearchCV(pipe, params, cv=5, iid=False, n_jobs=-1)\n",
        "gs = gs.fit(X, y)\n",
        "print(gs.best_score_)\n",
        "for param_name in sorted(params.keys()):\n",
        "  print(\"%s: %r\" % (param_name, gs.best_params_[param_name]))"
      ],
      "execution_count": 32,
      "outputs": [
        {
          "output_type": "stream",
          "text": [
            "0.5791249341064839\n",
            "clf__alpha: 1\n",
            "exf__k: 500\n"
          ],
          "name": "stdout"
        }
      ]
    },
    {
      "cell_type": "code",
      "metadata": {
        "id": "xHq-1PZ5fvmm",
        "colab_type": "code",
        "colab": {}
      },
      "source": [
        "# Build pipeline with SVC as classifier\n",
        "pipe = Pipeline([\n",
        "    ('exf', SelectKBest(chi2)),\n",
        "    ('clf', SVC()),\n",
        "])\n",
        "params = [  \n",
        "    {'exf__k':[20,50,100,500],'clf__kernel':['rbf'],'clf__gamma': [1e-3, 1e-4],\n",
        "     'clf__C': [0.1,1, 10, 100]},\n",
        "    {'exf__k':[20,50,100,500],'clf__kernel': ['linear'], 'clf__C': [0.1,1, 10, 100]},\n",
        "]\n",
        "gs = GridSearchCV(pipe, params, cv=5, iid=False, n_jobs=-1)\n",
        "gs = gs.fit(X, y)"
      ],
      "execution_count": 0,
      "outputs": []
    },
    {
      "cell_type": "code",
      "metadata": {
        "id": "RCx6UD2WhjjO",
        "colab_type": "code",
        "colab": {
          "base_uri": "https://localhost:8080/",
          "height": 54
        },
        "outputId": "ef5f9948-b6bf-46cb-aeb0-c31b94b6df4d"
      },
      "source": [
        "print(gs.best_score_, gs.best_params_)"
      ],
      "execution_count": 34,
      "outputs": [
        {
          "output_type": "stream",
          "text": [
            "0.6453401457091494 {'clf__C': 100, 'clf__gamma': 0.0001, 'clf__kernel': 'rbf', 'exf__k': 20}\n"
          ],
          "name": "stdout"
        }
      ]
    },
    {
      "cell_type": "markdown",
      "metadata": {
        "id": "kjQeoVhDLcU5",
        "colab_type": "text"
      },
      "source": [
        "# 3. Method 2-Other features (with idf?)"
      ]
    },
    {
      "cell_type": "code",
      "metadata": {
        "id": "SvuLwnXQLhQw",
        "colab_type": "code",
        "colab": {}
      },
      "source": [
        "# Extract features\n",
        "cv = CountVectorizer(stop_words='english', ngram_range=(1,4))\n",
        "test_cv = cv.fit_transform(shuffled_test[:,0])\n",
        "\n",
        "\n",
        "idf???????\n",
        "\n",
        "from scipy.sparse import hstack\n",
        "test_X = hstack((test_cv, shuffled_test[:,3:6].astype(float)))\n",
        "test_y = shuffled_test[:,1]"
      ],
      "execution_count": 0,
      "outputs": []
    }
  ]
}